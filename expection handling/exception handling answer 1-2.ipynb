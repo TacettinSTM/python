{
 "cells": [
  {
   "cell_type": "code",
   "execution_count": 1,
   "metadata": {},
   "outputs": [],
   "source": [
    "fruits = [\"banana\", \"mango\", \"pear\", \"apple\", \"kiwi\", \"grape\"]"
   ]
  },
  {
   "cell_type": "code",
   "execution_count": 3,
   "metadata": {},
   "outputs": [
    {
     "name": "stdout",
     "output_type": "stream",
     "text": [
      "You should enter integer.Try again\n",
      "there is no such an index. Try again\n",
      "there is no such an index. Try again\n",
      "your favorite fruit is :  grape\n"
     ]
    }
   ],
   "source": [
    "while True :\n",
    "\n",
    "    try :\n",
    "        index = int(input(\"pick an index number : \"))\n",
    "        print(\"your favorite fruit is : \", fruits[index])\n",
    "        break\n",
    "    except IndexError :\n",
    "        print(\"there is no such an index. Try again\")\n",
    "\n",
    "    except ValueError :\n",
    "        print(\"You should enter integer.Try again\") "
   ]
  },
  {
   "cell_type": "markdown",
   "metadata": {},
   "source": [
    "## 2. sorunun cevabı"
   ]
  },
  {
   "cell_type": "code",
   "execution_count": 2,
   "metadata": {},
   "outputs": [],
   "source": [
    "fruits = [\"banana\", \"mango\", \"pear\", \"apple\", \"kiwi\", \"grape\"]"
   ]
  },
  {
   "cell_type": "code",
   "execution_count": 3,
   "metadata": {},
   "outputs": [
    {
     "name": "stdout",
     "output_type": "stream",
     "text": [
      "you have 3 right.\n",
      "Value error raised. You have 2 right left. Try again\n",
      "Our fruits are always fresh\n",
      "you have 2 right.\n",
      "Index error raised. You have 1 right left. Try again\n",
      "Our fruits are always fresh\n",
      "you have 1 right.\n",
      "your favorite fruit is : pear\n",
      "congrats you've entered valid input\n",
      "Our fruits are always fresh\n"
     ]
    }
   ],
   "source": [
    "counter = 3\n",
    "\n",
    "while counter > 0 :\n",
    "    \n",
    "    try :\n",
    "        print(f\"you have {counter} right.\")\n",
    "        index = int(input(\"pick an index number : \"))\n",
    "        print(\"your favorite fruit is :\", fruits[index])\n",
    "\n",
    "    except IndexError :\n",
    "        counter = counter - 1\n",
    "        print(f\"Index error raised. You have {counter} right left. Try again\")\n",
    "\n",
    "    except ValueError :\n",
    "        counter = counter - 1\n",
    "        print(f\"Value error raised. You have {counter} right left. Try again\")\n",
    "\n",
    "    else :\n",
    "        print(\"congrats you've entered valid input\")\n",
    "        break\n",
    "\n",
    "    finally :\n",
    "        print(\"Our fruits are always fresh\")"
   ]
  },
  {
   "cell_type": "code",
   "execution_count": null,
   "metadata": {},
   "outputs": [],
   "source": []
  }
 ],
 "metadata": {
  "kernelspec": {
   "display_name": "Python 3.9.12 ('base')",
   "language": "python",
   "name": "python3"
  },
  "language_info": {
   "codemirror_mode": {
    "name": "ipython",
    "version": 3
   },
   "file_extension": ".py",
   "mimetype": "text/x-python",
   "name": "python",
   "nbconvert_exporter": "python",
   "pygments_lexer": "ipython3",
   "version": "3.9.12"
  },
  "orig_nbformat": 4,
  "vscode": {
   "interpreter": {
    "hash": "f31f441eb813556acb7cfe895e01ad9641058e9ec8fc8f2e98f5a91795f07b4e"
   }
  }
 },
 "nbformat": 4,
 "nbformat_minor": 2
}
