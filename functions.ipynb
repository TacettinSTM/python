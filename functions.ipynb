{
 "cells": [
  {
   "cell_type": "code",
   "execution_count": 2,
   "metadata": {},
   "outputs": [],
   "source": [
    "def first_function(argument_1, argument_2) :\n",
    "    print(argument_1**2 + argument_2**2)\n"
   ]
  },
  {
   "cell_type": "code",
   "execution_count": 4,
   "metadata": {},
   "outputs": [
    {
     "name": "stdout",
     "output_type": "stream",
     "text": [
      "13\n"
     ]
    }
   ],
   "source": [
    "first_function(2, 3)"
   ]
  },
  {
   "cell_type": "code",
   "execution_count": 6,
   "metadata": {},
   "outputs": [
    {
     "name": "stdout",
     "output_type": "stream",
     "text": [
      "15\n",
      "-2.5\n",
      "amazing amazing amazing \n"
     ]
    }
   ],
   "source": [
    "def multiply(a, b) :\n",
    "    print(a * b)\n",
    "\n",
    "multiply(3, 5)\n",
    "multiply(-1, 2.5)\n",
    "multiply(\"amazing \", 3)"
   ]
  },
  {
   "cell_type": "code",
   "execution_count": 7,
   "metadata": {},
   "outputs": [
    {
     "name": "stdout",
     "output_type": "stream",
     "text": [
      "don't hesitate to reinvent yourself\n"
     ]
    }
   ],
   "source": [
    "def motto() :\n",
    "    print(\"don't hesitate to reinvent yourself\")\n",
    "\n",
    "motto()"
   ]
  },
  {
   "cell_type": "code",
   "execution_count": 8,
   "metadata": {},
   "outputs": [
    {
     "name": "stdout",
     "output_type": "stream",
     "text": [
      "50\n",
      "50\n"
     ]
    }
   ],
   "source": [
    "def multiply_1(a, b) :\n",
    "    print(a * b)\n",
    "\n",
    "def multiply_2(a, b) :\n",
    "    return a * b\n",
    "\n",
    "multiply_1(10, 5)\n",
    "print(multiply_2(10, 5))\n"
   ]
  },
  {
   "cell_type": "code",
   "execution_count": 12,
   "metadata": {},
   "outputs": [
    {
     "name": "stdout",
     "output_type": "stream",
     "text": [
      "20\n",
      "<class 'NoneType'>\n",
      "<class 'str'>\n"
     ]
    }
   ],
   "source": [
    "print(type(multiply_1(10, 2)))\n",
    "print(type(multiply_2(\"10\", 5)))"
   ]
  },
  {
   "cell_type": "code",
   "execution_count": 13,
   "metadata": {},
   "outputs": [
    {
     "name": "stdout",
     "output_type": "stream",
     "text": [
      "It can't be assigned to any variable\n",
      "None\n"
     ]
    }
   ],
   "source": [
    "shadow_var = print(\"It can't be assigned to any variable\")\n",
    "print(shadow_var)"
   ]
  },
  {
   "cell_type": "code",
   "execution_count": 14,
   "metadata": {},
   "outputs": [
    {
     "name": "stdout",
     "output_type": "stream",
     "text": [
      "task completed\n",
      "2022-08-19 23:59:28.615049\n",
      "\n",
      "0\n",
      "1\n",
      "2\n",
      "3\n",
      "4\n",
      "5\n",
      "6\n",
      "7\n",
      "8\n",
      "9\n",
      "task completed\n",
      "2022-08-19 23:59:28.615049\n",
      "\n"
     ]
    }
   ],
   "source": [
    "import datetime\n",
    "\n",
    "# print timestamps to see how long sections of code \n",
    "# take to run\n",
    "\n",
    "first_name = \"Susan\"\n",
    "print(\"task completed\")\n",
    "print(datetime.datetime.now())\n",
    "print()\n",
    "\n",
    "for x in range(0,10) :\n",
    "    print(x)\n",
    "print(\"task completed\")\n",
    "print(datetime.datetime.now())\n",
    "print()\n"
   ]
  },
  {
   "cell_type": "code",
   "execution_count": 16,
   "metadata": {},
   "outputs": [
    {
     "name": "stdout",
     "output_type": "stream",
     "text": [
      "task completed\n",
      "2022-08-20 00:03:57.689737\n",
      "\n",
      "0\n",
      "1\n",
      "2\n",
      "3\n",
      "4\n",
      "5\n",
      "6\n",
      "7\n",
      "8\n",
      "9\n",
      "task completed\n",
      "2022-08-20 00:03:57.689737\n",
      "\n"
     ]
    }
   ],
   "source": [
    "# geçerli tarih ve zaman yazma işlevidir.\n",
    "import datetime\n",
    "\n",
    "def print_time() :\n",
    "    print(\"task completed\")\n",
    "    print(datetime.datetime.now())\n",
    "    print()\n",
    "\n",
    "# print timestamps to see how long sections of code \n",
    "# take to run\n",
    "\n",
    "first_name = \"Susan\"\n",
    "print_time()\n",
    "\n",
    "for x in range(0,10) :\n",
    "    print(x)\n",
    "print_time()"
   ]
  },
  {
   "cell_type": "code",
   "execution_count": 17,
   "metadata": {},
   "outputs": [
    {
     "name": "stdout",
     "output_type": "stream",
     "text": [
      "printed first name\n",
      "2022-08-20 00:17:44.991918\n",
      "\n",
      "0\n",
      "1\n",
      "2\n",
      "3\n",
      "4\n",
      "5\n",
      "6\n",
      "7\n",
      "8\n",
      "9\n",
      "completed for loop\n",
      "2022-08-20 00:17:44.991918\n",
      "\n"
     ]
    }
   ],
   "source": [
    "# geçerli tarih ve zaman yazma işlevidir.\n",
    "from datetime import datetime\n",
    "\n",
    "def print_time(task_name) :\n",
    "    print(task_name)\n",
    "    print(datetime.now())\n",
    "    print()\n",
    "\n",
    "# print timestamps to see how long sections of code \n",
    "# take to run\n",
    "\n",
    "first_name = \"Susan\"\n",
    "print_time(\"printed first name\")\n",
    "\n",
    "for x in range(0,10) :\n",
    "    print(x)\n",
    "print_time(\"completed for loop\")"
   ]
  },
  {
   "cell_type": "code",
   "execution_count": 1,
   "metadata": {},
   "outputs": [
    {
     "name": "stdout",
     "output_type": "stream",
     "text": [
      "Your initials are: ths\n"
     ]
    }
   ],
   "source": [
    "# isim sorma ve baş harfleri alma\n",
    "first_name = input(\"enter your first name: \")\n",
    "first_name_initial = first_name[0:1]\n",
    "\n",
    "middle_name = input(\"enter your middle name: \")\n",
    "middle_name_initial = middle_name[0:1]\n",
    "\n",
    "last_name = input(\"enter your last name: \")\n",
    "last_name_initial = last_name[0:1]\n",
    "\n",
    "print(\"Your initials are: \" + first_name_initial \\\n",
    "     + middle_name_initial + last_name_initial)"
   ]
  },
  {
   "cell_type": "code",
   "execution_count": 3,
   "metadata": {},
   "outputs": [
    {
     "name": "stdout",
     "output_type": "stream",
     "text": [
      "Your initials are: TMS\n"
     ]
    }
   ],
   "source": [
    "# bu fonksiyon ismin baş harflerini döndürecek.\n",
    "def get_initial(name) :\n",
    "    initial = name[0:1].upper()  # baş harfleri büyütme\n",
    "    return initial\n",
    "\n",
    "# isim sorma ve baş harfleri alma\n",
    "first_name = input(\"enter your first name: \")\n",
    "first_name_initial = get_initial(first_name)\n",
    "\n",
    "middle_name = input(\"enter your middle name: \")\n",
    "middle_name_initial = get_initial(middle_name)\n",
    "\n",
    "last_name = input(\"enter your last name: \")\n",
    "last_name_initial = get_initial(last_name)\n",
    "\n",
    "print(\"Your initials are: \" + first_name_initial \\\n",
    "     + middle_name_initial + last_name_initial)"
   ]
  },
  {
   "cell_type": "code",
   "execution_count": 1,
   "metadata": {},
   "outputs": [
    {
     "name": "stdout",
     "output_type": "stream",
     "text": [
      "Tacettin\n"
     ]
    }
   ],
   "source": [
    "def longer(a, b) :\n",
    "    if len(a) >= len(b) :\n",
    "        return a\n",
    "    else :\n",
    "        return b\n",
    "\n",
    "print(longer(\"Tacettin\", \"Tuğba\"))"
   ]
  },
  {
   "cell_type": "code",
   "execution_count": 4,
   "metadata": {},
   "outputs": [],
   "source": [
    "def faktoriyel(sayı) :\n",
    "    faktoriyel = 1\n",
    "    if (sayı == 1 or sayı == 0) :\n",
    "        print(\"faktoriyel\", faktoriyel)\n",
    "    else :\n",
    "        while (sayı >= 1):\n",
    "            faktoriyel *= sayı\n",
    "            sayı -= 1\n",
    "        print(\"faktoriyel\", faktoriyel)\n"
   ]
  },
  {
   "cell_type": "code",
   "execution_count": 5,
   "metadata": {},
   "outputs": [
    {
     "name": "stdout",
     "output_type": "stream",
     "text": [
      "faktoriyel 5040\n"
     ]
    }
   ],
   "source": [
    "faktoriyel(7)"
   ]
  },
  {
   "cell_type": "code",
   "execution_count": 6,
   "metadata": {},
   "outputs": [
    {
     "name": "stdout",
     "output_type": "stream",
     "text": [
      "faktoriyel 1\n"
     ]
    }
   ],
   "source": [
    "faktoriyel(1)"
   ]
  },
  {
   "cell_type": "code",
   "execution_count": 7,
   "metadata": {},
   "outputs": [
    {
     "name": "stdout",
     "output_type": "stream",
     "text": [
      "faktoriyel 93326215443944152681699238856266700490715968264381621468592963895217599993229915608941463976156518286253697920827223758251185210916864000000000000000000000000\n"
     ]
    }
   ],
   "source": [
    "faktoriyel(100)"
   ]
  },
  {
   "cell_type": "code",
   "execution_count": 15,
   "metadata": {},
   "outputs": [],
   "source": [
    "def toplama(*a) :\n",
    "    toplam = 0\n",
    "    for i in a :\n",
    "        toplam += i\n",
    "    print(toplam)"
   ]
  },
  {
   "cell_type": "code",
   "execution_count": 17,
   "metadata": {},
   "outputs": [
    {
     "name": "stdout",
     "output_type": "stream",
     "text": [
      "103\n"
     ]
    }
   ],
   "source": [
    "toplama(1,5,97)"
   ]
  },
  {
   "cell_type": "code",
   "execution_count": 5,
   "metadata": {},
   "outputs": [],
   "source": [
    "def parrot(voltage, state='a stiff', action='voom', type='Norwegian Blue'):\n",
    "    print(\"-- This parrot wouldn't\", action, end=' ')\n",
    "    print(\"if you put\", voltage, \"volts through it.\")\n",
    "    print(\"-- Lovely plumage, the\", type)\n",
    "    print(\"-- It's\", state, \"!\")\n"
   ]
  },
  {
   "cell_type": "code",
   "execution_count": 7,
   "metadata": {},
   "outputs": [
    {
     "name": "stdout",
     "output_type": "stream",
     "text": [
      "-- This parrot wouldn't voom if you put 1000 volts through it.\n",
      "-- Lovely plumage, the Norwegian Blue\n",
      "-- It's a stiff !\n"
     ]
    }
   ],
   "source": [
    "parrot(1000)"
   ]
  },
  {
   "cell_type": "code",
   "execution_count": 8,
   "metadata": {},
   "outputs": [
    {
     "name": "stdout",
     "output_type": "stream",
     "text": [
      "-- This parrot wouldn't voom if you put 1000 volts through it.\n",
      "-- Lovely plumage, the Norwegian Blue\n",
      "-- It's a stiff !\n"
     ]
    }
   ],
   "source": [
    "parrot(voltage=1000)    "
   ]
  },
  {
   "cell_type": "code",
   "execution_count": 9,
   "metadata": {},
   "outputs": [
    {
     "name": "stdout",
     "output_type": "stream",
     "text": [
      "-- This parrot wouldn't VOOOOOM if you put 1000000 volts through it.\n",
      "-- Lovely plumage, the Norwegian Blue\n",
      "-- It's a stiff !\n"
     ]
    }
   ],
   "source": [
    "parrot(voltage=1000000, action='VOOOOOM') "
   ]
  },
  {
   "cell_type": "code",
   "execution_count": 10,
   "metadata": {},
   "outputs": [
    {
     "name": "stdout",
     "output_type": "stream",
     "text": [
      "-- This parrot wouldn't VOOOOOM if you put 1000000 volts through it.\n",
      "-- Lovely plumage, the Norwegian Blue\n",
      "-- It's a stiff !\n"
     ]
    }
   ],
   "source": [
    "parrot(action='VOOOOOM', voltage=1000000) "
   ]
  },
  {
   "cell_type": "code",
   "execution_count": 11,
   "metadata": {},
   "outputs": [
    {
     "name": "stdout",
     "output_type": "stream",
     "text": [
      "-- This parrot wouldn't jump if you put a million volts through it.\n",
      "-- Lovely plumage, the Norwegian Blue\n",
      "-- It's bereft of life !\n"
     ]
    }
   ],
   "source": [
    "parrot('a million', 'bereft of life', 'jump')"
   ]
  },
  {
   "cell_type": "code",
   "execution_count": 12,
   "metadata": {},
   "outputs": [
    {
     "name": "stdout",
     "output_type": "stream",
     "text": [
      "-- This parrot wouldn't voom if you put a thousand volts through it.\n",
      "-- Lovely plumage, the Norwegian Blue\n",
      "-- It's pushing up the daisies !\n"
     ]
    }
   ],
   "source": [
    "parrot('a thousand', state='pushing up the daisies')"
   ]
  },
  {
   "cell_type": "code",
   "execution_count": 14,
   "metadata": {},
   "outputs": [],
   "source": [
    "def parrot(voltage, state='a stiff', action='voom', type='Norwegian Blue'):\n",
    "    print(\"-- This parrot wouldn't\", action, end=' ')\n",
    "    print(\"if you put\", voltage, \"volts through it.\")\n",
    "    print(\"-- Lovely plumage, the\", type)\n",
    "    print(\"-- It's\", state, \"!\")"
   ]
  },
  {
   "cell_type": "code",
   "execution_count": 15,
   "metadata": {},
   "outputs": [
    {
     "name": "stdout",
     "output_type": "stream",
     "text": [
      "-- This parrot wouldn't voom if you put 1000 volts through it.\n",
      "-- Lovely plumage, the Norwegian Blue\n",
      "-- It's a stiff !\n",
      "-- This parrot wouldn't voom if you put 1000 volts through it.\n",
      "-- Lovely plumage, the Norwegian Blue\n",
      "-- It's a stiff !\n",
      "-- This parrot wouldn't VOOOOOM if you put 1000000 volts through it.\n",
      "-- Lovely plumage, the Norwegian Blue\n",
      "-- It's a stiff !\n",
      "-- This parrot wouldn't VOOOOOM if you put 1000000 volts through it.\n",
      "-- Lovely plumage, the Norwegian Blue\n",
      "-- It's a stiff !\n",
      "-- This parrot wouldn't jump if you put a million volts through it.\n",
      "-- Lovely plumage, the Norwegian Blue\n",
      "-- It's bereft of life !\n",
      "-- This parrot wouldn't voom if you put a thousand volts through it.\n",
      "-- Lovely plumage, the Norwegian Blue\n",
      "-- It's pushing up the daisies !\n"
     ]
    }
   ],
   "source": [
    "parrot(1000)                                          # 1 positional argument\n",
    "parrot(voltage=1000)                                  # 1 keyword argument\n",
    "parrot(voltage=1000000, action='VOOOOOM')             # 2 keyword arguments\n",
    "parrot(action='VOOOOOM', voltage=1000000)             # 2 keyword arguments \n",
    "parrot('a million', 'bereft of life', 'jump')         # 3 positional arguments\n",
    "parrot('a thousand', state='pushing up the daisies')  # 1 positional, 1 keyword"
   ]
  },
  {
   "cell_type": "code",
   "execution_count": 2,
   "metadata": {},
   "outputs": [
    {
     "name": "stdout",
     "output_type": "stream",
     "text": [
      "Athens in Europe\n",
      "Cape Town in Africa\n"
     ]
    }
   ],
   "source": [
    "def city(capital, continent='Europe'):\n",
    "    print(capital, 'in', continent)\n",
    "\n",
    "city('Athens')  # we don't have to pass any arguments into 'continent'\n",
    "city('Cape Town', 'Africa')  # we can change the default value by positional args."
   ]
  },
  {
   "cell_type": "code",
   "execution_count": 17,
   "metadata": {},
   "outputs": [
    {
     "name": "stdout",
     "output_type": "stream",
     "text": [
      "Athens in Europe\n",
      "Cape Town in Africa\n"
     ]
    }
   ],
   "source": [
    "def city(capital, continent='Europe'):\n",
    "    print(capital, 'in', continent)\n",
    "\n",
    "city('Athens')  # we don't have to pass any arguments into 'continent'\n",
    "city('Cape Town', 'Africa')  # we can change the default value by positional args."
   ]
  },
  {
   "cell_type": "code",
   "execution_count": 1,
   "metadata": {},
   "outputs": [
    {
     "ename": "SyntaxError",
     "evalue": "non-default argument follows default argument (3657056324.py, line 1)",
     "output_type": "error",
     "traceback": [
      "\u001b[1;36m  Input \u001b[1;32mIn [1]\u001b[1;36m\u001b[0m\n\u001b[1;33m    def argu(a, b = \"dünya\", c, d = \"satürn\"):\u001b[0m\n\u001b[1;37m                                ^\u001b[0m\n\u001b[1;31mSyntaxError\u001b[0m\u001b[1;31m:\u001b[0m non-default argument follows default argument\n"
     ]
    }
   ],
   "source": [
    "def argu(a, b = \"dünya\", c, d = \"satürn\"):  # fuctions da hatalı yazım\n",
    "    print(a, b, c, d, sep = \"\\n\")  "
   ]
  },
  {
   "cell_type": "code",
   "execution_count": 2,
   "metadata": {},
   "outputs": [],
   "source": [
    "def argu(a, c, b = \"dünya\", d = \"satürn\"):  \n",
    "    print(a, b, c, d, sep = \"\\n\")  "
   ]
  },
  {
   "cell_type": "code",
   "execution_count": 4,
   "metadata": {},
   "outputs": [
    {
     "ename": "TypeError",
     "evalue": "argu() missing 2 required positional arguments: 'a' and 'c'",
     "output_type": "error",
     "traceback": [
      "\u001b[1;31m---------------------------------------------------------------------------\u001b[0m",
      "\u001b[1;31mTypeError\u001b[0m                                 Traceback (most recent call last)",
      "\u001b[1;32mc:\\Users\\Tacettin\\Desktop\\python vsc\\python+\\functions.ipynb Hücre 33\u001b[0m in \u001b[0;36m<cell line: 1>\u001b[1;34m()\u001b[0m\n\u001b[1;32m----> <a href='vscode-notebook-cell:/c%3A/Users/Tacettin/Desktop/python%20vsc/python%2B/functions.ipynb#X44sZmlsZQ%3D%3D?line=0'>1</a>\u001b[0m argu()\n",
      "\u001b[1;31mTypeError\u001b[0m: argu() missing 2 required positional arguments: 'a' and 'c'"
     ]
    }
   ],
   "source": [
    "argu()"
   ]
  },
  {
   "cell_type": "code",
   "execution_count": 5,
   "metadata": {},
   "outputs": [
    {
     "name": "stdout",
     "output_type": "stream",
     "text": [
      "uranüs\n",
      "dünya\n",
      "jüpiter\n",
      "satürn\n"
     ]
    }
   ],
   "source": [
    "argu(\"uranüs\", \"jüpiter\")"
   ]
  },
  {
   "cell_type": "code",
   "execution_count": 6,
   "metadata": {},
   "outputs": [],
   "source": [
    "def argu(a, c, b = \"dünya\", d = \"satürn\"):  \n",
    "    print(a, b, c, d, sep = \"\\n\") \n",
    "     "
   ]
  },
  {
   "cell_type": "code",
   "execution_count": 7,
   "metadata": {},
   "outputs": [
    {
     "name": "stdout",
     "output_type": "stream",
     "text": [
      "uranüs\n",
      "dünya\n",
      "jüpiter\n",
      "satürn\n"
     ]
    }
   ],
   "source": [
    "argu(a = \"uranüs\",  c = \"jüpiter\")"
   ]
  },
  {
   "cell_type": "code",
   "execution_count": 8,
   "metadata": {},
   "outputs": [
    {
     "ename": "SyntaxError",
     "evalue": "positional argument follows keyword argument (875026336.py, line 1)",
     "output_type": "error",
     "traceback": [
      "\u001b[1;36m  Input \u001b[1;32mIn [8]\u001b[1;36m\u001b[0m\n\u001b[1;33m    argu(\"plüto\", c = \"venüs\", \"mars\")\u001b[0m\n\u001b[1;37m                                     ^\u001b[0m\n\u001b[1;31mSyntaxError\u001b[0m\u001b[1;31m:\u001b[0m positional argument follows keyword argument\n"
     ]
    }
   ],
   "source": [
    "argu(\"plüto\", c = \"venüs\", \"mars\")"
   ]
  },
  {
   "cell_type": "code",
   "execution_count": 9,
   "metadata": {},
   "outputs": [
    {
     "ename": "TypeError",
     "evalue": "argu() got multiple values for argument 'c'",
     "output_type": "error",
     "traceback": [
      "\u001b[1;31m---------------------------------------------------------------------------\u001b[0m",
      "\u001b[1;31mTypeError\u001b[0m                                 Traceback (most recent call last)",
      "\u001b[1;32mc:\\Users\\Tacettin\\Desktop\\python vsc\\python+\\functions.ipynb Hücre 38\u001b[0m in \u001b[0;36m<cell line: 1>\u001b[1;34m()\u001b[0m\n\u001b[1;32m----> <a href='vscode-notebook-cell:/c%3A/Users/Tacettin/Desktop/python%20vsc/python%2B/functions.ipynb#X52sZmlsZQ%3D%3D?line=0'>1</a>\u001b[0m argu(\u001b[39m\"\u001b[39;49m\u001b[39mplüto\u001b[39;49m\u001b[39m\"\u001b[39;49m, \u001b[39m\"\u001b[39;49m\u001b[39mmars\u001b[39;49m\u001b[39m\"\u001b[39;49m, c \u001b[39m=\u001b[39;49m \u001b[39m\"\u001b[39;49m\u001b[39mvenüs\u001b[39;49m\u001b[39m\"\u001b[39;49m )\n",
      "\u001b[1;31mTypeError\u001b[0m: argu() got multiple values for argument 'c'"
     ]
    }
   ],
   "source": [
    "argu(\"plüto\", \"mars\", c = \"venüs\" )"
   ]
  },
  {
   "cell_type": "code",
   "execution_count": 10,
   "metadata": {},
   "outputs": [
    {
     "name": "stdout",
     "output_type": "stream",
     "text": [
      "dünya\n",
      "venüs\n",
      "plüto\n",
      "güneş\n"
     ]
    }
   ],
   "source": [
    "argu(d = \"güneş\", a = \"dünya\", c = \"plüto\", b = \"venüs\")"
   ]
  },
  {
   "cell_type": "code",
   "execution_count": 11,
   "metadata": {},
   "outputs": [
    {
     "name": "stdout",
     "output_type": "stream",
     "text": [
      "güneş\n",
      "plüto\n",
      "dünya\n",
      "venüs\n"
     ]
    }
   ],
   "source": [
    "argu(\"güneş\", \"dünya\", \"plüto\", \"venüs\")"
   ]
  },
  {
   "cell_type": "code",
   "execution_count": 3,
   "metadata": {},
   "outputs": [],
   "source": [
    "def argu(a, c, b = \"dünya\", d = \"satürn\"):  \n",
    "    print(a, b, c, d, sep = \"\\n\") "
   ]
  },
  {
   "cell_type": "code",
   "execution_count": null,
   "metadata": {},
   "outputs": [],
   "source": []
  }
 ],
 "metadata": {
  "kernelspec": {
   "display_name": "Python 3.9.12 ('base')",
   "language": "python",
   "name": "python3"
  },
  "language_info": {
   "codemirror_mode": {
    "name": "ipython",
    "version": 3
   },
   "file_extension": ".py",
   "mimetype": "text/x-python",
   "name": "python",
   "nbconvert_exporter": "python",
   "pygments_lexer": "ipython3",
   "version": "3.9.12"
  },
  "orig_nbformat": 4,
  "vscode": {
   "interpreter": {
    "hash": "f31f441eb813556acb7cfe895e01ad9641058e9ec8fc8f2e98f5a91795f07b4e"
   }
  }
 },
 "nbformat": 4,
 "nbformat_minor": 2
}
