{
 "cells": [
  {
   "cell_type": "markdown",
   "id": "e138ce6a",
   "metadata": {},
   "source": [
    "## Sets\n"
   ]
  },
  {
   "cell_type": "code",
   "execution_count": 1,
   "id": "018e1d8c",
   "metadata": {},
   "outputs": [
    {
     "data": {
      "text/plain": [
       "{}"
      ]
     },
     "execution_count": 1,
     "metadata": {},
     "output_type": "execute_result"
    }
   ],
   "source": [
    "{}"
   ]
  },
  {
   "cell_type": "code",
   "execution_count": 2,
   "id": "e2106670",
   "metadata": {},
   "outputs": [
    {
     "data": {
      "text/plain": [
       "set()"
      ]
     },
     "execution_count": 2,
     "metadata": {},
     "output_type": "execute_result"
    }
   ],
   "source": [
    "set()"
   ]
  },
  {
   "cell_type": "code",
   "execution_count": 3,
   "id": "6e8f39b3",
   "metadata": {},
   "outputs": [
    {
     "name": "stdout",
     "output_type": "stream",
     "text": [
      "{'blue', 'red', 'pink'}\n"
     ]
    }
   ],
   "source": [
    "set_1 = {\"red\", \"blue\", \"pink\", \"red\"}\n",
    "colors = \"red\", \"blue\", \"pink\", \"red\"\n",
    "set_2 = set(colors)\n",
    "print(set_1)"
   ]
  },
  {
   "cell_type": "code",
   "execution_count": 4,
   "id": "64cee023",
   "metadata": {},
   "outputs": [
    {
     "name": "stdout",
     "output_type": "stream",
     "text": [
      "{'blue', 'red', 'pink'}\n"
     ]
    }
   ],
   "source": [
    "print(set_2)"
   ]
  },
  {
   "cell_type": "code",
   "execution_count": 5,
   "id": "9cbf53b2",
   "metadata": {},
   "outputs": [
    {
     "data": {
      "text/plain": [
       "{0, 1, 2}"
      ]
     },
     "execution_count": 5,
     "metadata": {},
     "output_type": "execute_result"
    }
   ],
   "source": [
    "ilk_küme ={1, 1, 2, 0, 1}\n",
    "ilk_küme"
   ]
  },
  {
   "cell_type": "code",
   "execution_count": 6,
   "id": "f43b95da",
   "metadata": {},
   "outputs": [
    {
     "data": {
      "text/plain": [
       "5"
      ]
     },
     "execution_count": 6,
     "metadata": {},
     "output_type": "execute_result"
    }
   ],
   "source": [
    "len([1, 1, 2, 0, 1])"
   ]
  },
  {
   "cell_type": "code",
   "execution_count": 7,
   "id": "19ebbee6",
   "metadata": {},
   "outputs": [
    {
     "data": {
      "text/plain": [
       "3"
      ]
     },
     "execution_count": 7,
     "metadata": {},
     "output_type": "execute_result"
    }
   ],
   "source": [
    "len({1, 1, 2, 0, 1})"
   ]
  },
  {
   "cell_type": "code",
   "execution_count": 1,
   "id": "226f5b54",
   "metadata": {},
   "outputs": [
    {
     "name": "stdout",
     "output_type": "stream",
     "text": [
      "['a', 'b', 'c', 'd', 'e', 'f', 'g', 'h', 'i', 'j', 'l', 'm', 'n', 'o', 'p', 'q', 'r', 's', 't', 'u', 'w', 'x', 'v', 'y', 'z']\n"
     ]
    }
   ],
   "source": [
    "letter = \"a b c d e f g h i j l m n o p q r s t u w x v y z\".split()\n",
    "print(letter)"
   ]
  },
  {
   "cell_type": "code",
   "execution_count": 9,
   "id": "efa87ece",
   "metadata": {},
   "outputs": [
    {
     "name": "stdout",
     "output_type": "stream",
     "text": [
      "{'e', 's', 'u', 'x', 'w', 'o', 'm', 'h', 'j', 'n', 'y', 'g', 'p', 'l', 'q', 't', 'd', 'v', 'i', 'r', 'f', 'c', 'a', 'z', 'b'}\n"
     ]
    }
   ],
   "source": [
    "print(set(letter))"
   ]
  },
  {
   "cell_type": "code",
   "execution_count": 10,
   "id": "9853efe9",
   "metadata": {},
   "outputs": [
    {
     "name": "stdout",
     "output_type": "stream",
     "text": [
      "{'e', 's', 'u', 'x', 'w', 'o', 'm', 'h', 'j', 'n', 'y', 'g', 'p', 'l', 'q', 't', 'd', 'v', 'i', 'r', 'f', 'c', 'a', 'z', 'b'}\n"
     ]
    }
   ],
   "source": [
    "print(set(letter))"
   ]
  },
  {
   "cell_type": "code",
   "execution_count": 2,
   "id": "988bcb87",
   "metadata": {},
   "outputs": [
    {
     "name": "stdout",
     "output_type": "stream",
     "text": [
      "{'c', 's', 'q', 'l', 'y', 'd', 't', 'r', 'b', 'v', 'w', 'e', 'x', 'f', 'j', 'm', 'n', 'g', 'p', 'i', 'z', 'o', 'u', 'h', 'a'}\n"
     ]
    }
   ],
   "source": [
    "print(set(letter))  # restart edilmiş hali"
   ]
  },
  {
   "cell_type": "code",
   "execution_count": 3,
   "id": "8e4e204b",
   "metadata": {},
   "outputs": [],
   "source": [
    "example = {1, \"1\", 1.0}"
   ]
  },
  {
   "cell_type": "code",
   "execution_count": 4,
   "id": "dad3ab2c",
   "metadata": {},
   "outputs": [
    {
     "data": {
      "text/plain": [
       "2"
      ]
     },
     "execution_count": 4,
     "metadata": {},
     "output_type": "execute_result"
    }
   ],
   "source": [
    "len(example)"
   ]
  },
  {
   "cell_type": "code",
   "execution_count": 5,
   "id": "3d981588",
   "metadata": {},
   "outputs": [
    {
     "data": {
      "text/plain": [
       "False"
      ]
     },
     "execution_count": 5,
     "metadata": {},
     "output_type": "execute_result"
    }
   ],
   "source": [
    "1 == \"1\""
   ]
  },
  {
   "cell_type": "code",
   "execution_count": 6,
   "id": "225eec55",
   "metadata": {},
   "outputs": [
    {
     "data": {
      "text/plain": [
       "True"
      ]
     },
     "execution_count": 6,
     "metadata": {},
     "output_type": "execute_result"
    }
   ],
   "source": [
    "1 == 1.0"
   ]
  },
  {
   "cell_type": "code",
   "execution_count": 7,
   "id": "44288ce0",
   "metadata": {},
   "outputs": [],
   "source": [
    "given_list = [1, 2, 3, 4, 5]"
   ]
  },
  {
   "cell_type": "code",
   "execution_count": 8,
   "id": "1ddb9352",
   "metadata": {},
   "outputs": [
    {
     "ename": "TypeError",
     "evalue": "unhashable type: 'list'",
     "output_type": "error",
     "traceback": [
      "\u001b[1;31m---------------------------------------------------------------------------\u001b[0m",
      "\u001b[1;31mTypeError\u001b[0m                                 Traceback (most recent call last)",
      "Input \u001b[1;32mIn [8]\u001b[0m, in \u001b[0;36m<cell line: 1>\u001b[1;34m()\u001b[0m\n\u001b[1;32m----> 1\u001b[0m kumemiz \u001b[38;5;241m=\u001b[39m {given_list}\n",
      "\u001b[1;31mTypeError\u001b[0m: unhashable type: 'list'"
     ]
    }
   ],
   "source": [
    "kumemiz = {given_list}"
   ]
  },
  {
   "cell_type": "code",
   "execution_count": 9,
   "id": "2a0b8f82",
   "metadata": {},
   "outputs": [
    {
     "ename": "TypeError",
     "evalue": "unhashable type: 'list'",
     "output_type": "error",
     "traceback": [
      "\u001b[1;31m---------------------------------------------------------------------------\u001b[0m",
      "\u001b[1;31mTypeError\u001b[0m                                 Traceback (most recent call last)",
      "Input \u001b[1;32mIn [9]\u001b[0m, in \u001b[0;36m<cell line: 1>\u001b[1;34m()\u001b[0m\n\u001b[1;32m----> 1\u001b[0m {[\u001b[38;5;241m1\u001b[39m, \u001b[38;5;124m\"\u001b[39m\u001b[38;5;124mbir\u001b[39m\u001b[38;5;124m\"\u001b[39m], \u001b[38;5;124m\"\u001b[39m\u001b[38;5;124mali\u001b[39m\u001b[38;5;124m\"\u001b[39m, \u001b[38;5;124m\"\u001b[39m\u001b[38;5;124mdeli\u001b[39m\u001b[38;5;124m\"\u001b[39m}\n",
      "\u001b[1;31mTypeError\u001b[0m: unhashable type: 'list'"
     ]
    }
   ],
   "source": [
    "{[1, \"bir\"], \"ali\", \"deli\"}"
   ]
  },
  {
   "cell_type": "code",
   "execution_count": 11,
   "id": "1330a487",
   "metadata": {},
   "outputs": [
    {
     "ename": "TypeError",
     "evalue": "unhashable type: 'dict'",
     "output_type": "error",
     "traceback": [
      "\u001b[1;31m---------------------------------------------------------------------------\u001b[0m",
      "\u001b[1;31mTypeError\u001b[0m                                 Traceback (most recent call last)",
      "Input \u001b[1;32mIn [11]\u001b[0m, in \u001b[0;36m<cell line: 1>\u001b[1;34m()\u001b[0m\n\u001b[1;32m----> 1\u001b[0m {{\u001b[38;5;241m1\u001b[39m: \u001b[38;5;124m\"\u001b[39m\u001b[38;5;124mbir\u001b[39m\u001b[38;5;124m\"\u001b[39m},\u001b[38;5;124m\"\u001b[39m\u001b[38;5;124mali\u001b[39m\u001b[38;5;124m\"\u001b[39m, \u001b[38;5;124m\"\u001b[39m\u001b[38;5;124mdeli\u001b[39m\u001b[38;5;124m\"\u001b[39m}\n",
      "\u001b[1;31mTypeError\u001b[0m: unhashable type: 'dict'"
     ]
    }
   ],
   "source": [
    "{{1: \"bir\"},\"ali\", \"deli\"}"
   ]
  },
  {
   "cell_type": "code",
   "execution_count": 12,
   "id": "d1874e96",
   "metadata": {},
   "outputs": [
    {
     "ename": "TypeError",
     "evalue": "unhashable type: 'set'",
     "output_type": "error",
     "traceback": [
      "\u001b[1;31m---------------------------------------------------------------------------\u001b[0m",
      "\u001b[1;31mTypeError\u001b[0m                                 Traceback (most recent call last)",
      "Input \u001b[1;32mIn [12]\u001b[0m, in \u001b[0;36m<cell line: 1>\u001b[1;34m()\u001b[0m\n\u001b[1;32m----> 1\u001b[0m {\u001b[38;5;241m1\u001b[39m, \u001b[38;5;241m2\u001b[39m, {\u001b[38;5;124m\"\u001b[39m\u001b[38;5;124mali\u001b[39m\u001b[38;5;124m\"\u001b[39m, \u001b[38;5;124m\"\u001b[39m\u001b[38;5;124mveli\u001b[39m\u001b[38;5;124m\"\u001b[39m}, \u001b[38;5;241m3\u001b[39m, \u001b[38;5;241m4\u001b[39m}\n",
      "\u001b[1;31mTypeError\u001b[0m: unhashable type: 'set'"
     ]
    }
   ],
   "source": [
    "{1, 2, {\"ali\", \"veli\"}, 3, 4}"
   ]
  },
  {
   "cell_type": "code",
   "execution_count": 13,
   "id": "4c48abce",
   "metadata": {},
   "outputs": [
    {
     "data": {
      "text/plain": [
       "{(3, 4), 1, 2}"
      ]
     },
     "execution_count": 13,
     "metadata": {},
     "output_type": "execute_result"
    }
   ],
   "source": [
    "tuple_set = {1, 2, (3, 4)}\n",
    "tuple_set"
   ]
  },
  {
   "cell_type": "code",
   "execution_count": 14,
   "id": "080dcdc4",
   "metadata": {},
   "outputs": [],
   "source": [
    "a = {\"carnation\", \"orchid\", \"rose\", \"violet\"}\n",
    "b = {\"rose\", \"orchid\", \"rose\", \"violet\", \"carnation\"}"
   ]
  },
  {
   "cell_type": "code",
   "execution_count": 15,
   "id": "e9373755",
   "metadata": {},
   "outputs": [
    {
     "data": {
      "text/plain": [
       "{'carnation', 'orchid', 'rose', 'violet'}"
      ]
     },
     "execution_count": 15,
     "metadata": {},
     "output_type": "execute_result"
    }
   ],
   "source": [
    "a"
   ]
  },
  {
   "cell_type": "code",
   "execution_count": 16,
   "id": "68077f9e",
   "metadata": {},
   "outputs": [
    {
     "data": {
      "text/plain": [
       "{'carnation', 'orchid', 'rose', 'violet'}"
      ]
     },
     "execution_count": 16,
     "metadata": {},
     "output_type": "execute_result"
    }
   ],
   "source": [
    "b"
   ]
  },
  {
   "cell_type": "code",
   "execution_count": 17,
   "id": "0f4e7133",
   "metadata": {},
   "outputs": [
    {
     "data": {
      "text/plain": [
       "{'carnation', 'lily', 'orchid', 'rose', 'violet'}"
      ]
     },
     "execution_count": 17,
     "metadata": {},
     "output_type": "execute_result"
    }
   ],
   "source": [
    "a.add(\"lily\")\n",
    "a"
   ]
  },
  {
   "cell_type": "code",
   "execution_count": 18,
   "id": "daf7f873",
   "metadata": {},
   "outputs": [
    {
     "data": {
      "text/plain": [
       "{'carnation', 'lily', 'orchid', 'violet'}"
      ]
     },
     "execution_count": 18,
     "metadata": {},
     "output_type": "execute_result"
    }
   ],
   "source": [
    "a.remove(\"rose\")\n",
    "a"
   ]
  },
  {
   "cell_type": "code",
   "execution_count": 19,
   "id": "02099870",
   "metadata": {},
   "outputs": [
    {
     "data": {
      "text/plain": [
       "{'d', 'h', 'i', 'l', 'n', 'o', 'p'}"
      ]
     },
     "execution_count": 19,
     "metadata": {},
     "output_type": "execute_result"
    }
   ],
   "source": [
    "a = set(\"philadelphia\")\n",
    "b = set(\"dolphin\")\n",
    "a\n",
    "b"
   ]
  },
  {
   "cell_type": "code",
   "execution_count": 20,
   "id": "a23c49b4",
   "metadata": {},
   "outputs": [
    {
     "name": "stdout",
     "output_type": "stream",
     "text": [
      "{'d', 'i', 'e', 'l', 'h', 'a', 'p'}\n"
     ]
    }
   ],
   "source": [
    "print(a)"
   ]
  },
  {
   "cell_type": "code",
   "execution_count": 21,
   "id": "a0a3a79d",
   "metadata": {},
   "outputs": [
    {
     "name": "stdout",
     "output_type": "stream",
     "text": [
      "{'d', 'i', 'o', 'l', 'h', 'n', 'p'}\n"
     ]
    }
   ],
   "source": [
    "print(b)"
   ]
  },
  {
   "cell_type": "code",
   "execution_count": 22,
   "id": "c60b3f94",
   "metadata": {},
   "outputs": [
    {
     "name": "stdout",
     "output_type": "stream",
     "text": [
      "{'a', 'e'}\n",
      "{'a', 'e'}\n"
     ]
    }
   ],
   "source": [
    "print(a - b)\n",
    "print(a.difference(b))"
   ]
  },
  {
   "cell_type": "code",
   "execution_count": 23,
   "id": "2034aee6",
   "metadata": {},
   "outputs": [
    {
     "name": "stdout",
     "output_type": "stream",
     "text": [
      "{'n', 'o'}\n",
      "{'n', 'o'}\n"
     ]
    }
   ],
   "source": [
    "print(b - a)\n",
    "print(b.difference(a))"
   ]
  },
  {
   "cell_type": "code",
   "execution_count": 24,
   "id": "d13b1e13",
   "metadata": {},
   "outputs": [
    {
     "name": "stdout",
     "output_type": "stream",
     "text": [
      "{'d', 'i', 'o', 'e', 'l', 'h', 'n', 'a', 'p'}\n",
      "{'d', 'i', 'o', 'e', 'l', 'h', 'n', 'a', 'p'}\n"
     ]
    }
   ],
   "source": [
    "print(a | b)\n",
    "print(a.union(b))"
   ]
  },
  {
   "cell_type": "code",
   "execution_count": 25,
   "id": "076db915",
   "metadata": {},
   "outputs": [
    {
     "name": "stdout",
     "output_type": "stream",
     "text": [
      "{'d', 'i', 'l', 'h', 'p'}\n",
      "{'d', 'i', 'l', 'h', 'p'}\n"
     ]
    }
   ],
   "source": [
    "print(a & b)\n",
    "print(a.intersection(b))"
   ]
  },
  {
   "cell_type": "code",
   "execution_count": 26,
   "id": "2763a679",
   "metadata": {},
   "outputs": [],
   "source": [
    "date1 = set(\"02/21/2022\")\n",
    "date2 ={\"02/21/2022\"}"
   ]
  },
  {
   "cell_type": "code",
   "execution_count": 27,
   "id": "15ee2d64",
   "metadata": {},
   "outputs": [
    {
     "data": {
      "text/plain": [
       "{'/', '0', '1', '2'}"
      ]
     },
     "execution_count": 27,
     "metadata": {},
     "output_type": "execute_result"
    }
   ],
   "source": [
    "date1"
   ]
  },
  {
   "cell_type": "code",
   "execution_count": 28,
   "id": "36bcb907",
   "metadata": {},
   "outputs": [
    {
     "data": {
      "text/plain": [
       "{'02/21/2022'}"
      ]
     },
     "execution_count": 28,
     "metadata": {},
     "output_type": "execute_result"
    }
   ],
   "source": [
    "date2"
   ]
  },
  {
   "cell_type": "code",
   "execution_count": 29,
   "id": "d4c308fb",
   "metadata": {},
   "outputs": [],
   "source": [
    "USA = \"Washington\"\n",
    "New_Zealand = \"Wellington\"\n",
    "set_USA = set(USA)\n",
    "set_New_Zealand = set(New_Zealand)\n"
   ]
  },
  {
   "cell_type": "code",
   "execution_count": 30,
   "id": "be2a64a6",
   "metadata": {},
   "outputs": [
    {
     "name": "stdout",
     "output_type": "stream",
     "text": [
      "{'s', 'h', 'a'}\n"
     ]
    }
   ],
   "source": [
    "print(set_USA - set_New_Zealand)"
   ]
  },
  {
   "cell_type": "code",
   "execution_count": 31,
   "id": "b51448ed",
   "metadata": {},
   "outputs": [
    {
     "name": "stdout",
     "output_type": "stream",
     "text": [
      "{'i', 't', 'W', 'o', 'g', 's', 'h', 'l', 'n', 'a', 'e'}\n"
     ]
    }
   ],
   "source": [
    "print(set_USA | set_New_Zealand)"
   ]
  },
  {
   "cell_type": "code",
   "execution_count": 32,
   "id": "84f762db",
   "metadata": {},
   "outputs": [
    {
     "name": "stdout",
     "output_type": "stream",
     "text": [
      "{'i', 't', 'W', 'o', 'n', 'g'}\n"
     ]
    }
   ],
   "source": [
    "print(set_USA & set_New_Zealand)"
   ]
  },
  {
   "cell_type": "code",
   "execution_count": 33,
   "id": "a6926cdc",
   "metadata": {},
   "outputs": [
    {
     "name": "stdout",
     "output_type": "stream",
     "text": [
      "{'l', 'e'}\n"
     ]
    }
   ],
   "source": [
    "print(set_New_Zealand - set_USA)"
   ]
  },
  {
   "cell_type": "code",
   "execution_count": null,
   "id": "cb1bb47d",
   "metadata": {},
   "outputs": [],
   "source": []
  }
 ],
 "metadata": {
  "kernelspec": {
   "display_name": "Python 3 (ipykernel)",
   "language": "python",
   "name": "python3"
  },
  "language_info": {
   "codemirror_mode": {
    "name": "ipython",
    "version": 3
   },
   "file_extension": ".py",
   "mimetype": "text/x-python",
   "name": "python",
   "nbconvert_exporter": "python",
   "pygments_lexer": "ipython3",
   "version": "3.9.12"
  }
 },
 "nbformat": 4,
 "nbformat_minor": 5
}
