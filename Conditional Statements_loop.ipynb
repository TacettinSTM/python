{
 "cells": [
  {
   "cell_type": "markdown",
   "id": "39a3b43e",
   "metadata": {},
   "source": [
    "## Loops"
   ]
  },
  {
   "cell_type": "code",
   "execution_count": 6,
   "id": "e1920937",
   "metadata": {},
   "outputs": [
    {
     "name": "stdout",
     "output_type": "stream",
     "text": [
      "0\n",
      "1\n",
      "2\n",
      "3\n",
      "4\n",
      "5\n",
      "now, number is bigger or equal to 6\n"
     ]
    }
   ],
   "source": [
    "number = 0\n",
    "\n",
    "while number < 6:\n",
    "    print(number)\n",
    "    number += 1\n",
    "print(\"now, number is bigger or equal to 6\")"
   ]
  },
  {
   "cell_type": "code",
   "execution_count": 7,
   "id": "478c5643",
   "metadata": {},
   "outputs": [
    {
     "name": "stdout",
     "output_type": "stream",
     "text": [
      "square of 0 is : 0 \n",
      "square of 1 is : 1 \n",
      "square of 2 is : 4 \n",
      "square of 3 is : 9 \n",
      "square of 4 is : 16 \n"
     ]
    }
   ],
   "source": [
    "my_list = [\"a\", \"b\", \"c\", \"d\", \"e\"]\n",
    "\n",
    "a = 0\n",
    "\n",
    "while a < len(my_list):\n",
    "    print(\"square of {} is : {} \".format(a, a ** 2))\n",
    "    a += 1"
   ]
  },
  {
   "cell_type": "code",
   "execution_count": 9,
   "id": "44e2d548",
   "metadata": {},
   "outputs": [
    {
     "name": "stdout",
     "output_type": "stream",
     "text": [
      "Let's play the guessing game!\n",
      "what number am I thinking of? 44\n",
      "Are you MINDREADER!!!\n"
     ]
    }
   ],
   "source": [
    "answer = 44\n",
    "\n",
    "question = \"what number am I thinking of? \"\n",
    "print(\"Let's play the guessing game!\")\n",
    "\n",
    "while True :\n",
    "    guess = int(input(question))\n",
    "    \n",
    "    if guess < answer :\n",
    "        print(\"little higher\")\n",
    "    elif guess > answer :\n",
    "        print(\"little lower\")\n",
    "    else:\n",
    "        print(\"Are you MINDREADER!!!\")\n",
    "        break"
   ]
  },
  {
   "cell_type": "code",
   "execution_count": 10,
   "id": "25ee9af2",
   "metadata": {},
   "outputs": [
    {
     "name": "stdout",
     "output_type": "stream",
     "text": [
      "Rose\n",
      "Orchid\n",
      "Tulip\n"
     ]
    }
   ],
   "source": [
    "flowers = ['Rose', 'Orchid', 'Tulip']\n",
    "count1 = len(flowers)\n",
    "count2 = 0\n",
    "\n",
    "while count1>0 :\n",
    "    print(flowers[count2])\n",
    "    count1 -= 1\n",
    "    count2 += 1"
   ]
  },
  {
   "cell_type": "code",
   "execution_count": 11,
   "id": "bb2ebf4e",
   "metadata": {},
   "outputs": [
    {
     "name": "stdout",
     "output_type": "stream",
     "text": [
      "1\n",
      "2\n",
      "3\n",
      "4\n",
      "5\n"
     ]
    }
   ],
   "source": [
    "for i in [1, 2, 3, 4, 5] :\n",
    "    print(i)\n",
    "    "
   ]
  },
  {
   "cell_type": "code",
   "execution_count": 12,
   "id": "cad87de3",
   "metadata": {},
   "outputs": [
    {
     "name": "stdout",
     "output_type": "stream",
     "text": [
      "spring\n",
      "summer\n",
      "autumn\n",
      "winter\n"
     ]
    }
   ],
   "source": [
    "seasons = ['spring', 'summer', 'autumn', 'winter']\n",
    "\n",
    "for season in seasons :\n",
    "    print(season)"
   ]
  },
  {
   "cell_type": "code",
   "execution_count": 13,
   "id": "516bc532",
   "metadata": {},
   "outputs": [
    {
     "name": "stdout",
     "output_type": "stream",
     "text": [
      "n1\n",
      "n2\n"
     ]
    }
   ],
   "source": [
    "for i in {'n1' : 'one', 'n2' : 'two'} : \n",
    "    print(i)"
   ]
  },
  {
   "cell_type": "code",
   "execution_count": 15,
   "id": "c496b196",
   "metadata": {},
   "outputs": [
    {
     "name": "stdout",
     "output_type": "stream",
     "text": [
      "how many times should I say 'I love you'4\n",
      "I love you\n",
      "I love you\n",
      "I love you\n",
      "I love you\n"
     ]
    }
   ],
   "source": [
    "times = int(input(\"how many times should I say 'I love you'\"))\n",
    "\n",
    "for i in range(times) :\n",
    "    print(\"I love you\")\n",
    "    "
   ]
  },
  {
   "cell_type": "code",
   "execution_count": 16,
   "id": "ee1155c5",
   "metadata": {},
   "outputs": [
    {
     "name": "stdout",
     "output_type": "stream",
     "text": [
      "enter a number : 55\n",
      "55.0 'un 1 bölümünden kalan :  0.0\n",
      "55.0 'un 2 bölümünden kalan :  1.0\n",
      "55.0 'un 3 bölümünden kalan :  1.0\n",
      "55.0 'un 4 bölümünden kalan :  3.0\n",
      "55.0 'un 5 bölümünden kalan :  0.0\n",
      "55.0 'un 6 bölümünden kalan :  1.0\n",
      "55.0 'un 7 bölümünden kalan :  6.0\n",
      "55.0 'un 8 bölümünden kalan :  7.0\n",
      "55.0 'un 9 bölümünden kalan :  1.0\n",
      "55.0 'un 10 bölümünden kalan :  5.0\n"
     ]
    }
   ],
   "source": [
    "n = float(input(\"enter a number : \"))\n",
    "              \n",
    "for i in range(1,11) :\n",
    "    if i != 0 :\n",
    "        print(\"{} 'un {} bölümünden kalan : \".format(n, i), n % i)\n",
    "        \n",
    "    else :\n",
    "        print(\"{} 'un {} bölümünden kalan :  {} \".format(n, i, \"tanımsız\"))\n",
    "        \n",
    "    "
   ]
  },
  {
   "cell_type": "code",
   "execution_count": 17,
   "id": "4ec3861f",
   "metadata": {},
   "outputs": [
    {
     "name": "stdout",
     "output_type": "stream",
     "text": [
      "enter a number between 1-10 : 8\n",
      "8x0 =  0\n",
      "8x1 =  8\n",
      "8x2 =  16\n",
      "8x3 =  24\n",
      "8x4 =  32\n",
      "8x5 =  40\n",
      "8x6 =  48\n",
      "8x7 =  56\n",
      "8x8 =  64\n",
      "8x9 =  72\n",
      "8x10 =  80\n"
     ]
    }
   ],
   "source": [
    "n = int(input('enter a number between 1-10 : '))\n",
    "\n",
    "for i in range(11):\n",
    "    print('{}x{} = '.format(n, i), n*i)"
   ]
  },
  {
   "cell_type": "code",
   "execution_count": null,
   "id": "16a2cdd6",
   "metadata": {},
   "outputs": [],
   "source": []
  },
  {
   "cell_type": "code",
   "execution_count": 18,
   "id": "c605a2df",
   "metadata": {},
   "outputs": [],
   "source": [
    "b = list(range(11))"
   ]
  },
  {
   "cell_type": "code",
   "execution_count": 19,
   "id": "0dd27bc7",
   "metadata": {},
   "outputs": [
    {
     "data": {
      "text/plain": [
       "[0, 1, 2, 3, 4, 5, 6, 7, 8, 9, 10]"
      ]
     },
     "execution_count": 19,
     "metadata": {},
     "output_type": "execute_result"
    }
   ],
   "source": [
    "b"
   ]
  },
  {
   "cell_type": "code",
   "execution_count": 20,
   "id": "64b19add",
   "metadata": {},
   "outputs": [
    {
     "name": "stdout",
     "output_type": "stream",
     "text": [
      "{0, 1, 2, 3, 4, 5, 6, 7, 8, 9}\n"
     ]
    }
   ],
   "source": [
    "a = set(range(0,10))\n",
    "print(a)"
   ]
  },
  {
   "cell_type": "code",
   "execution_count": 21,
   "id": "6e0291e0",
   "metadata": {},
   "outputs": [
    {
     "name": "stdout",
     "output_type": "stream",
     "text": [
      "(0, 1, 2, 3, 4, 5, 6, 7, 8, 9, 10)\n"
     ]
    }
   ],
   "source": [
    "c = tuple(range(11))\n",
    "\n",
    "print(c)"
   ]
  },
  {
   "cell_type": "code",
   "execution_count": 22,
   "id": "4fb38608",
   "metadata": {},
   "outputs": [
    {
     "name": "stdout",
     "output_type": "stream",
     "text": [
      "range(0, 5)\n",
      "0 1 2 3 4\n"
     ]
    }
   ],
   "source": [
    "print(range(5))\n",
    "print(*range(5))\n"
   ]
  },
  {
   "cell_type": "code",
   "execution_count": 23,
   "id": "3d986127",
   "metadata": {},
   "outputs": [
    {
     "name": "stdout",
     "output_type": "stream",
     "text": [
      "5 7 9 11 13 15 17 19 21 23\n"
     ]
    }
   ],
   "source": [
    "print(*range(5,25,2))"
   ]
  },
  {
   "cell_type": "code",
   "execution_count": 24,
   "id": "1de019f0",
   "metadata": {},
   "outputs": [
    {
     "name": "stdout",
     "output_type": "stream",
     "text": [
      "s e p e r a t e\n"
     ]
    }
   ],
   "source": [
    "print(*(\"seperate\"))"
   ]
  },
  {
   "cell_type": "code",
   "execution_count": 25,
   "id": "dd595648",
   "metadata": {},
   "outputs": [
    {
     "name": "stdout",
     "output_type": "stream",
     "text": [
      "10 8 6 4 2\n"
     ]
    }
   ],
   "source": [
    "print(*range(10,0,-2))"
   ]
  },
  {
   "cell_type": "code",
   "execution_count": 26,
   "id": "f01d84a9",
   "metadata": {},
   "outputs": [
    {
     "name": "stdout",
     "output_type": "stream",
     "text": [
      "one : 1\n",
      "two : 2\n",
      "three : 3\n",
      "four : 4\n",
      "five : 5\n"
     ]
    }
   ],
   "source": [
    "text = [\"one\", \"two\", \"three\", \"four\", \"five\"]\n",
    "numbers = [1, 2, 3, 4, 5]\n",
    "for x, y in zip(text, numbers):\n",
    "    print(x, \":\", y)\n",
    "    "
   ]
  },
  {
   "cell_type": "code",
   "execution_count": 27,
   "id": "8657b5d5",
   "metadata": {},
   "outputs": [
    {
     "name": "stdout",
     "output_type": "stream",
     "text": [
      "I am happy.\n",
      "I am confident.\n",
      "You are happy.\n",
      "You are confident.\n"
     ]
    }
   ],
   "source": [
    "who = [\"I am \", \"You are \"]\n",
    "mood = [\"happy.\", \"confident.\"]\n",
    "for i in who:\n",
    "    for ii in mood:\n",
    "        print(i + ii)"
   ]
  },
  {
   "cell_type": "code",
   "execution_count": 28,
   "id": "a660a029",
   "metadata": {},
   "outputs": [
    {
     "name": "stdout",
     "output_type": "stream",
     "text": [
      "4\n",
      "3\n",
      "2\n",
      "1\n",
      "0\n"
     ]
    }
   ],
   "source": [
    "condition = 5\n",
    "\n",
    "while True :\n",
    "    condition -= 1\n",
    "    print(condition)\n",
    "    \n",
    "    if condition == 0:\n",
    "        break"
   ]
  },
  {
   "cell_type": "code",
   "execution_count": 29,
   "id": "4d336109",
   "metadata": {},
   "outputs": [
    {
     "name": "stdout",
     "output_type": "stream",
     "text": [
      "enter your age : -44\n",
      "you entered incorrectly\n",
      "enter your age : 44.5\n",
      "you entered incorrectly\n",
      "enter your age : 4\n",
      "Great you entered valid input\n"
     ]
    }
   ],
   "source": [
    "age = input(\"enter your age : \")\n",
    "\n",
    "while not age.isdigit() :\n",
    "    \n",
    "    print(\"you entered incorrectly\")\n",
    "    \n",
    "    age = input(\"enter your age : \")\n",
    "    \n",
    "print(\"Great you entered valid input\")"
   ]
  },
  {
   "cell_type": "code",
   "execution_count": 30,
   "id": "28ff2955",
   "metadata": {},
   "outputs": [
    {
     "name": "stdout",
     "output_type": "stream",
     "text": [
      "let's play\n",
      "enter your22\n",
      "well done\n"
     ]
    }
   ],
   "source": [
    "answer = 22\n",
    "\n",
    "print(\"let's play\")\n",
    "\n",
    "while True :\n",
    "    \n",
    "    guess = int(input(\"enter your\"))\n",
    "    \n",
    "    if guess < answer :\n",
    "        print(\"little higher\")\n",
    "    elif guess > answer :\n",
    "        print(\"little lower\")\n",
    "    else:\n",
    "        print(\"well done\")\n",
    "        break\n",
    "    "
   ]
  },
  {
   "cell_type": "code",
   "execution_count": 31,
   "id": "8c4ef288",
   "metadata": {},
   "outputs": [],
   "source": [
    "sentence = \"The best is Clarusway\".split()\n"
   ]
  },
  {
   "cell_type": "code",
   "execution_count": 32,
   "id": "845c5386",
   "metadata": {},
   "outputs": [
    {
     "data": {
      "text/plain": [
       "['The', 'best', 'is', 'Clarusway']"
      ]
     },
     "execution_count": 32,
     "metadata": {},
     "output_type": "execute_result"
    }
   ],
   "source": [
    "sentence"
   ]
  },
  {
   "cell_type": "code",
   "execution_count": 33,
   "id": "787041ef",
   "metadata": {},
   "outputs": [
    {
     "name": "stdout",
     "output_type": "stream",
     "text": [
      "give me a sentencemy name is tacettin\n",
      "the length of the longest word :  8\n"
     ]
    }
   ],
   "source": [
    "sentence = input(\"give me a sentence\")\n",
    "\n",
    "word_list = sentence.split()\n",
    "\n",
    "longest = 0\n",
    "i = 0\n",
    "while i < len(word_list) :\n",
    "    \n",
    "    if len(word_list[i]) > longest :\n",
    "        longest = len(word_list[i])\n",
    "        \n",
    "    i += 1\n",
    "        \n",
    "print(\"the length of the longest word : \", longest)\n",
    "    \n",
    "    "
   ]
  },
  {
   "cell_type": "code",
   "execution_count": 34,
   "id": "a4e23c85",
   "metadata": {},
   "outputs": [
    {
     "name": "stdout",
     "output_type": "stream",
     "text": [
      "hello ahmed\n",
      "hello aisha\n",
      "hello gabriel\n"
     ]
    }
   ],
   "source": [
    "names = [\"ahmed\", \"aisha\", \"gabriel\"]\n",
    "\n",
    "for i in names :\n",
    "    print(\"hello\", i)"
   ]
  },
  {
   "cell_type": "code",
   "execution_count": 35,
   "id": "42dd77e7",
   "metadata": {},
   "outputs": [
    {
     "name": "stdout",
     "output_type": "stream",
     "text": [
      "[1]\n",
      "[1, 2]\n",
      "[1, 2, 3]\n",
      "[1, 2, 3, 4]\n",
      "[1, 2, 3, 4, 5]\n"
     ]
    }
   ],
   "source": [
    "numbers =[]\n",
    "\n",
    "for i in range(1,6) :\n",
    "    numbers.append(i)\n",
    "    print(numbers)"
   ]
  },
  {
   "cell_type": "code",
   "execution_count": 36,
   "id": "19aa0ed3",
   "metadata": {},
   "outputs": [
    {
     "name": "stdout",
     "output_type": "stream",
     "text": [
      "enter a wordkelime\n",
      "k-e-l-i-m-e"
     ]
    }
   ],
   "source": [
    "word = input(\"enter a word\")\n",
    "\n",
    "counter = 0\n",
    "\n",
    "for i in word :\n",
    "    \n",
    "    counter += 1\n",
    "    \n",
    "    if counter < len(word) :\n",
    "        \n",
    "        i += \"-\"\n",
    "        \n",
    "    print(i, end = \"\")    \n",
    "    "
   ]
  },
  {
   "cell_type": "code",
   "execution_count": null,
   "id": "c6e2f918",
   "metadata": {},
   "outputs": [],
   "source": []
  }
 ],
 "metadata": {
  "kernelspec": {
   "display_name": "Python 3 (ipykernel)",
   "language": "python",
   "name": "python3"
  },
  "language_info": {
   "codemirror_mode": {
    "name": "ipython",
    "version": 3
   },
   "file_extension": ".py",
   "mimetype": "text/x-python",
   "name": "python",
   "nbconvert_exporter": "python",
   "pygments_lexer": "ipython3",
   "version": "3.9.12"
  }
 },
 "nbformat": 4,
 "nbformat_minor": 5
}
