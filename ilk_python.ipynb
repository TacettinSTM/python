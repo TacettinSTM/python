{
 "cells": [
  {
   "cell_type": "code",
   "execution_count": null,
   "metadata": {
    "colab": {
     "base_uri": "https://localhost:8080/"
    },
    "executionInfo": {
     "elapsed": 270,
     "status": "ok",
     "timestamp": 1657358203065,
     "user": {
      "displayName": "Tacettin SATILMIŞ",
      "userId": "03441031780254934372"
     },
     "user_tz": -180
    },
    "id": "pHmK_8cUPWfv",
    "outputId": "e1f24644-5997-44a3-e44f-3222c636cffe"
   },
   "outputs": [
    {
     "name": "stdout",
     "output_type": "stream",
     "text": [
      "hello world\n"
     ]
    }
   ],
   "source": [
    "print(\"hello world\")"
   ]
  },
  {
   "cell_type": "code",
   "execution_count": null,
   "metadata": {
    "colab": {
     "base_uri": "https://localhost:8080/"
    },
    "executionInfo": {
     "elapsed": 269,
     "status": "ok",
     "timestamp": 1657358646131,
     "user": {
      "displayName": "Tacettin SATILMIŞ",
      "userId": "03441031780254934372"
     },
     "user_tz": -180
    },
    "id": "eqTM6038PzVI",
    "outputId": "79750c88-e43d-4966-feae-5b5b8a2b0a0c"
   },
   "outputs": [
    {
     "name": "stdout",
     "output_type": "stream",
     "text": [
      "merhaba dünya sana bağlansam bir dert bağlanmasam ayrı\n"
     ]
    }
   ],
   "source": [
    "print(\"\"\"merhaba dünya sana bağlansam \\\n",
    "bir dert bağlanmasam ayrı\"\"\")"
   ]
  },
  {
   "cell_type": "code",
   "execution_count": null,
   "metadata": {
    "colab": {
     "base_uri": "https://localhost:8080/"
    },
    "executionInfo": {
     "elapsed": 234,
     "status": "ok",
     "timestamp": 1657358667201,
     "user": {
      "displayName": "Tacettin SATILMIŞ",
      "userId": "03441031780254934372"
     },
     "user_tz": -180
    },
    "id": "RLIYeGHfRh-V",
    "outputId": "d80e52bb-2669-45d1-de28-ac0b620de5fe"
   },
   "outputs": [
    {
     "name": "stdout",
     "output_type": "stream",
     "text": [
      "merhaba dünya sana bağlansam \n",
      "\n",
      "bir dert bağlanmasam ayrı\n"
     ]
    }
   ],
   "source": [
    "print(\"\"\"merhaba dünya sana bağlansam \\n\n",
    "bir dert bağlanmasam ayrı\"\"\")"
   ]
  },
  {
   "cell_type": "code",
   "execution_count": null,
   "metadata": {
    "colab": {
     "base_uri": "https://localhost:8080/"
    },
    "executionInfo": {
     "elapsed": 209,
     "status": "ok",
     "timestamp": 1657359156731,
     "user": {
      "displayName": "Tacettin SATILMIŞ",
      "userId": "03441031780254934372"
     },
     "user_tz": -180
    },
    "id": "yNxHCH5-Ph8O",
    "outputId": "e380e7f0-9593-4656-ff6b-dbfffbc754c0"
   },
   "outputs": [
    {
     "name": "stdout",
     "output_type": "stream",
     "text": [
      "he said : 'i am done'\n"
     ]
    }
   ],
   "source": [
    "print(\"he said : 'i am done'\")"
   ]
  },
  {
   "cell_type": "code",
   "execution_count": null,
   "metadata": {
    "colab": {
     "base_uri": "https://localhost:8080/"
    },
    "executionInfo": {
     "elapsed": 256,
     "status": "ok",
     "timestamp": 1657359218232,
     "user": {
      "displayName": "Tacettin SATILMIŞ",
      "userId": "03441031780254934372"
     },
     "user_tz": -180
    },
    "id": "OHrgduVUTiud",
    "outputId": "808b8d7a-5a4c-4133-9088-c43dc1040ba5"
   },
   "outputs": [
    {
     "name": "stdout",
     "output_type": "stream",
     "text": [
      "it's a problem\n"
     ]
    }
   ],
   "source": [
    "print(\"it's a problem\")"
   ]
  },
  {
   "cell_type": "code",
   "execution_count": null,
   "metadata": {
    "colab": {
     "base_uri": "https://localhost:8080/"
    },
    "executionInfo": {
     "elapsed": 230,
     "status": "ok",
     "timestamp": 1657359291182,
     "user": {
      "displayName": "Tacettin SATILMIŞ",
      "userId": "03441031780254934372"
     },
     "user_tz": -180
    },
    "id": "Q_iP1tW3Tsip",
    "outputId": "8c5e2650-7650-46fe-e640-d6ebf92b25b5"
   },
   "outputs": [
    {
     "name": "stdout",
     "output_type": "stream",
     "text": [
      "it's not a problem using \"triple\" quotes\n"
     ]
    }
   ],
   "source": [
    "print('''it's not a problem using \"triple\" quotes''')"
   ]
  },
  {
   "cell_type": "code",
   "execution_count": null,
   "metadata": {
    "colab": {
     "base_uri": "https://localhost:8080/",
     "height": 130
    },
    "executionInfo": {
     "elapsed": 224,
     "status": "error",
     "timestamp": 1657359366049,
     "user": {
      "displayName": "Tacettin SATILMIŞ",
      "userId": "03441031780254934372"
     },
     "user_tz": -180
    },
    "id": "Bp-xwEyEUBUt",
    "outputId": "f433b2b1-758a-4c3e-a275-56944827c4ee"
   },
   "outputs": [
    {
     "ename": "SyntaxError",
     "evalue": "ignored",
     "output_type": "error",
     "traceback": [
      "\u001b[0;36m  File \u001b[0;32m\"<ipython-input-11-c95e690be925>\"\u001b[0;36m, line \u001b[0;32m3\u001b[0m\n\u001b[0;31m    print(\"hello world')\u001b[0m\n\u001b[0m                        ^\u001b[0m\n\u001b[0;31mSyntaxError\u001b[0m\u001b[0;31m:\u001b[0m EOL while scanning string literal\n"
     ]
    }
   ],
   "source": [
    "#hata örneği\n",
    "\n",
    "print(\"hello world')"
   ]
  },
  {
   "cell_type": "code",
   "execution_count": null,
   "metadata": {
    "colab": {
     "base_uri": "https://localhost:8080/"
    },
    "executionInfo": {
     "elapsed": 234,
     "status": "ok",
     "timestamp": 1657359455526,
     "user": {
      "displayName": "Tacettin SATILMIŞ",
      "userId": "03441031780254934372"
     },
     "user_tz": -180
    },
    "id": "T85KJtseUBbP",
    "outputId": "0991e382-71d5-4d08-b05f-1bdd5706b913"
   },
   "outputs": [
    {
     "name": "stdout",
     "output_type": "stream",
     "text": [
      "6161\n",
      "3.72\n"
     ]
    }
   ],
   "source": [
    "#sayı örnekleri\n",
    "\n",
    "print(6161)\n",
    "\n",
    "print(3.72)"
   ]
  },
  {
   "cell_type": "code",
   "execution_count": null,
   "metadata": {
    "colab": {
     "base_uri": "https://localhost:8080/"
    },
    "executionInfo": {
     "elapsed": 218,
     "status": "ok",
     "timestamp": 1657359648892,
     "user": {
      "displayName": "Tacettin SATILMIŞ",
      "userId": "03441031780254934372"
     },
     "user_tz": -180
    },
    "id": "1u4OohQyVETz",
    "outputId": "0dfe460e-0a55-4525-bfd6-217ee3265ebb"
   },
   "outputs": [
    {
     "name": "stdout",
     "output_type": "stream",
     "text": [
      "no pain\n",
      "\n",
      "no gain\n",
      "\n",
      "61\n"
     ]
    }
   ],
   "source": [
    "print(\"no pain\")\n",
    "print()\n",
    "print(\"no gain\")\n",
    "print()\n",
    "print(\"61\")"
   ]
  },
  {
   "cell_type": "code",
   "execution_count": null,
   "metadata": {
    "colab": {
     "base_uri": "https://localhost:8080/"
    },
    "executionInfo": {
     "elapsed": 222,
     "status": "ok",
     "timestamp": 1657364961486,
     "user": {
      "displayName": "Tacettin SATILMIŞ",
      "userId": "03441031780254934372"
     },
     "user_tz": -180
    },
    "id": "PgiPZ9QbVEZF",
    "outputId": "58052971-c94f-4660-bd58-21f8ac4daae7"
   },
   "outputs": [
    {
     "name": "stdout",
     "output_type": "stream",
     "text": [
      "yesterday I ate 2 apples\n"
     ]
    }
   ],
   "source": [
    "print(\"yesterday I ate\", 2, \"apples\")\n"
   ]
  },
  {
   "cell_type": "code",
   "execution_count": null,
   "metadata": {
    "colab": {
     "base_uri": "https://localhost:8080/"
    },
    "executionInfo": {
     "elapsed": 6,
     "status": "ok",
     "timestamp": 1657451828418,
     "user": {
      "displayName": "Tacettin SATILMIŞ",
      "userId": "03441031780254934372"
     },
     "user_tz": -180
    },
    "id": "-K6RTADeVEbm",
    "outputId": "8e212fd2-d666-4760-c103-1e0f19d9a178"
   },
   "outputs": [
    {
     "name": "stdout",
     "output_type": "stream",
     "text": [
      "'hello world\"\n"
     ]
    }
   ],
   "source": [
    "print(''''hello world\"''')"
   ]
  },
  {
   "cell_type": "code",
   "execution_count": null,
   "metadata": {
    "colab": {
     "base_uri": "https://localhost:8080/",
     "height": 130
    },
    "executionInfo": {
     "elapsed": 243,
     "status": "error",
     "timestamp": 1657452055014,
     "user": {
      "displayName": "Tacettin SATILMIŞ",
      "userId": "03441031780254934372"
     },
     "user_tz": -180
    },
    "id": "2E8-pl3xVEeD",
    "outputId": "b9616836-d5c8-4da0-83d5-e9e6efbedab7"
   },
   "outputs": [
    {
     "ename": "SyntaxError",
     "evalue": "ignored",
     "output_type": "error",
     "traceback": [
      "\u001b[0;36m  File \u001b[0;32m\"<ipython-input-2-4b777b03c816>\"\u001b[0;36m, line \u001b[0;32m1\u001b[0m\n\u001b[0;31m    print('''')\u001b[0m\n\u001b[0m               ^\u001b[0m\n\u001b[0;31mSyntaxError\u001b[0m\u001b[0;31m:\u001b[0m EOF while scanning triple-quoted string literal\n"
     ]
    }
   ],
   "source": [
    "print('''')"
   ]
  },
  {
   "cell_type": "code",
   "execution_count": null,
   "metadata": {
    "colab": {
     "base_uri": "https://localhost:8080/",
     "height": 130
    },
    "executionInfo": {
     "elapsed": 252,
     "status": "error",
     "timestamp": 1657452077098,
     "user": {
      "displayName": "Tacettin SATILMIŞ",
      "userId": "03441031780254934372"
     },
     "user_tz": -180
    },
    "id": "jnaHfzIaVEgq",
    "outputId": "d22882ec-8f3d-49ae-c924-2b94229eac8d"
   },
   "outputs": [
    {
     "ename": "SyntaxError",
     "evalue": "ignored",
     "output_type": "error",
     "traceback": [
      "\u001b[0;36m  File \u001b[0;32m\"<ipython-input-3-c6d045ece466>\"\u001b[0;36m, line \u001b[0;32m1\u001b[0m\n\u001b[0;31m    print(''')\u001b[0m\n\u001b[0m              ^\u001b[0m\n\u001b[0;31mSyntaxError\u001b[0m\u001b[0;31m:\u001b[0m EOF while scanning triple-quoted string literal\n"
     ]
    }
   ],
   "source": [
    "print(''')"
   ]
  },
  {
   "cell_type": "code",
   "execution_count": null,
   "metadata": {
    "colab": {
     "base_uri": "https://localhost:8080/"
    },
    "executionInfo": {
     "elapsed": 229,
     "status": "ok",
     "timestamp": 1657454075454,
     "user": {
      "displayName": "Tacettin SATILMIŞ",
      "userId": "03441031780254934372"
     },
     "user_tz": -180
    },
    "id": "aNe-oVicVEjU",
    "outputId": "3999ef9e-537d-4530-fa01-1fed28a8bf22"
   },
   "outputs": [
    {
     "name": "stdout",
     "output_type": "stream",
     "text": [
      "1\n",
      "2\n",
      "3\n"
     ]
    }
   ],
   "source": [
    "a = 1\n",
    "b = 2\n",
    "c = 3\n",
    "print(a)\n",
    "print(b)\n",
    "print(c)"
   ]
  },
  {
   "cell_type": "code",
   "execution_count": null,
   "metadata": {
    "colab": {
     "base_uri": "https://localhost:8080/",
     "height": 36
    },
    "executionInfo": {
     "elapsed": 232,
     "status": "ok",
     "timestamp": 1657457995071,
     "user": {
      "displayName": "Tacettin SATILMIŞ",
      "userId": "03441031780254934372"
     },
     "user_tz": -180
    },
    "id": "1JWYeK7YVEmI",
    "outputId": "989f360e-e691-4aa2-e641-3f481271a6ce"
   },
   "outputs": [
    {
     "data": {
      "application/vnd.google.colaboratory.intrinsic+json": {
       "type": "string"
      },
      "text/plain": [
       "'something but nothing'"
      ]
     },
     "execution_count": 5,
     "metadata": {},
     "output_type": "execute_result"
    }
   ],
   "source": [
    "# variable da büyük harf tavsiye edilmez\n",
    "\n",
    "VAR_ONE = \"something but nothing\"\n",
    "\n",
    "VAR_ONE"
   ]
  },
  {
   "cell_type": "code",
   "execution_count": null,
   "metadata": {
    "colab": {
     "base_uri": "https://localhost:8080/"
    },
    "executionInfo": {
     "elapsed": 254,
     "status": "ok",
     "timestamp": 1657458619966,
     "user": {
      "displayName": "Tacettin SATILMIŞ",
      "userId": "03441031780254934372"
     },
     "user_tz": -180
    },
    "id": "OqcX8-WlVEpg",
    "outputId": "55be9cfb-4ab0-4ba7-be95-cb400e2ac258"
   },
   "outputs": [
    {
     "name": "stdout",
     "output_type": "stream",
     "text": [
      "same\n",
      "same\n",
      "same\n"
     ]
    }
   ],
   "source": [
    "x = y = z = \"same\"\n",
    "print(x)\n",
    "print(y)\n",
    "print(z)"
   ]
  },
  {
   "cell_type": "code",
   "execution_count": null,
   "metadata": {
    "colab": {
     "base_uri": "https://localhost:8080/"
    },
    "executionInfo": {
     "elapsed": 230,
     "status": "ok",
     "timestamp": 1657458876603,
     "user": {
      "displayName": "Tacettin SATILMIŞ",
      "userId": "03441031780254934372"
     },
     "user_tz": -180
    },
    "id": "KQNfS6G0VExl",
    "outputId": "1d6c5f49-e06c-4ee4-e7a2-3cc90fee7cf8"
   },
   "outputs": [
    {
     "name": "stdout",
     "output_type": "stream",
     "text": [
      "31 28 31 30 31 30 31 31 30 31 30 31\n"
     ]
    }
   ],
   "source": [
    "jan = mar = may = july = aug = oct = dec = 31\n",
    "feb = 28\n",
    "apr = june = sep = nov = 30\n",
    "print(jan, feb, mar, apr, may, june, july, aug, sep, oct, nov, dec)"
   ]
  },
  {
   "cell_type": "code",
   "execution_count": null,
   "metadata": {
    "colab": {
     "base_uri": "https://localhost:8080/"
    },
    "executionInfo": {
     "elapsed": 225,
     "status": "ok",
     "timestamp": 1657459300846,
     "user": {
      "displayName": "Tacettin SATILMIŞ",
      "userId": "03441031780254934372"
     },
     "user_tz": -180
    },
    "id": "0-KICJx1UBfV",
    "outputId": "7f117fdc-4de4-4015-aeb3-50581f2d8622"
   },
   "outputs": [
    {
     "name": "stdout",
     "output_type": "stream",
     "text": [
      "23 6 None 49\n"
     ]
    }
   ],
   "source": [
    "Emre = 23\n",
    "Esra = 6\n",
    "Metin = None\n",
    "Kerem = 49\n",
    "\n",
    "print(Emre, Esra, Metin, Kerem)"
   ]
  },
  {
   "cell_type": "code",
   "execution_count": null,
   "metadata": {
    "colab": {
     "base_uri": "https://localhost:8080/"
    },
    "executionInfo": {
     "elapsed": 235,
     "status": "ok",
     "timestamp": 1657459802303,
     "user": {
      "displayName": "Tacettin SATILMIŞ",
      "userId": "03441031780254934372"
     },
     "user_tz": -180
    },
    "id": "JqGsg-mvUBjF",
    "outputId": "162e6160-11bd-4142-95f6-5ee6bb416eb6"
   },
   "outputs": [
    {
     "name": "stdout",
     "output_type": "stream",
     "text": [
      "33\n",
      "33\n",
      "15\n"
     ]
    }
   ],
   "source": [
    "x = 15\n",
    "y = 33\n",
    "z = x\n",
    "x = y\n",
    "\n",
    "print(x)\n",
    "print(y)\n",
    "print(z)\n"
   ]
  },
  {
   "cell_type": "code",
   "execution_count": null,
   "metadata": {
    "colab": {
     "base_uri": "https://localhost:8080/"
    },
    "executionInfo": {
     "elapsed": 236,
     "status": "ok",
     "timestamp": 1657462285707,
     "user": {
      "displayName": "Tacettin SATILMIŞ",
      "userId": "03441031780254934372"
     },
     "user_tz": -180
    },
    "id": "-XVYThBWUBm4",
    "outputId": "1911d7cf-1588-4293-a9b7-af147561519d"
   },
   "outputs": [
    {
     "name": "stdout",
     "output_type": "stream",
     "text": [
      "datatype of number_int: <class 'int'>\n",
      "datatype of number_flt: <class 'float'>\n",
      "value of number_new: 124.23\n",
      "datatype of number_new: <class 'float'>\n"
     ]
    }
   ],
   "source": [
    "number_int = 123\n",
    "number_flt = 1.23\n",
    "\n",
    "number_new = number_int + number_flt\n",
    "\n",
    "print(\"datatype of number_int:\", type(number_int))\n",
    "print(\"datatype of number_flt:\", type(number_flt))\n",
    "\n",
    "print(\"value of number_new:\", number_new)\n",
    "print(\"datatype of number_new:\", type(number_new))"
   ]
  },
  {
   "cell_type": "code",
   "execution_count": null,
   "metadata": {
    "colab": {
     "base_uri": "https://localhost:8080/"
    },
    "executionInfo": {
     "elapsed": 221,
     "status": "ok",
     "timestamp": 1657463462769,
     "user": {
      "displayName": "Tacettin SATILMIŞ",
      "userId": "03441031780254934372"
     },
     "user_tz": -180
    },
    "id": "kQgIop-SUBqy",
    "outputId": "46dee9a7-f529-4fe3-d836-58cd8ed57d05"
   },
   "outputs": [
    {
     "data": {
      "text/plain": [
       "78.5"
      ]
     },
     "execution_count": 14,
     "metadata": {},
     "output_type": "execute_result"
    }
   ],
   "source": [
    "r = 5\n",
    "pi = 3.14\n",
    "\n",
    "area = pi * (r**2)\n",
    "area"
   ]
  },
  {
   "cell_type": "code",
   "execution_count": null,
   "metadata": {
    "id": "ndAeKeY_UBue"
   },
   "outputs": [],
   "source": [
    "değişken = 10\n"
   ]
  },
  {
   "cell_type": "code",
   "execution_count": null,
   "metadata": {
    "colab": {
     "base_uri": "https://localhost:8080/"
    },
    "executionInfo": {
     "elapsed": 7,
     "status": "ok",
     "timestamp": 1657567258676,
     "user": {
      "displayName": "Tacettin SATILMIŞ",
      "userId": "03441031780254934372"
     },
     "user_tz": -180
    },
    "id": "ARy68zFoUByX",
    "outputId": "6f4a21a0-3923-4d0d-9f18-4a589bb1dfa1"
   },
   "outputs": [
    {
     "data": {
      "text/plain": [
       "11"
      ]
     },
     "execution_count": 2,
     "metadata": {},
     "output_type": "execute_result"
    }
   ],
   "source": [
    "değişken = değişken + 1\n",
    "değişken"
   ]
  },
  {
   "cell_type": "code",
   "execution_count": null,
   "metadata": {
    "colab": {
     "base_uri": "https://localhost:8080/"
    },
    "executionInfo": {
     "elapsed": 5,
     "status": "ok",
     "timestamp": 1657567269568,
     "user": {
      "displayName": "Tacettin SATILMIŞ",
      "userId": "03441031780254934372"
     },
     "user_tz": -180
    },
    "id": "gK_T9BxuUB2S",
    "outputId": "b331678e-f0a0-47ee-c517-09e47e42809a"
   },
   "outputs": [
    {
     "data": {
      "text/plain": [
       "12"
      ]
     },
     "execution_count": 3,
     "metadata": {},
     "output_type": "execute_result"
    }
   ],
   "source": [
    "değişken = değişken + 1\n",
    "değişken"
   ]
  },
  {
   "cell_type": "code",
   "execution_count": null,
   "metadata": {
    "colab": {
     "base_uri": "https://localhost:8080/"
    },
    "executionInfo": {
     "elapsed": 314,
     "status": "ok",
     "timestamp": 1657567335947,
     "user": {
      "displayName": "Tacettin SATILMIŞ",
      "userId": "03441031780254934372"
     },
     "user_tz": -180
    },
    "id": "msWVkwKQtU5-",
    "outputId": "8405fffc-57f0-4905-dd2b-e0f7618afc4c"
   },
   "outputs": [
    {
     "data": {
      "text/plain": [
       "14"
      ]
     },
     "execution_count": 5,
     "metadata": {},
     "output_type": "execute_result"
    }
   ],
   "source": [
    "değişken += 1\n",
    "değişken"
   ]
  },
  {
   "cell_type": "code",
   "execution_count": null,
   "metadata": {
    "colab": {
     "base_uri": "https://localhost:8080/"
    },
    "executionInfo": {
     "elapsed": 316,
     "status": "ok",
     "timestamp": 1657567389175,
     "user": {
      "displayName": "Tacettin SATILMIŞ",
      "userId": "03441031780254934372"
     },
     "user_tz": -180
    },
    "id": "XDdnZHUStiVd",
    "outputId": "e9eed910-9054-4853-9e3c-14a49f34c269"
   },
   "outputs": [
    {
     "data": {
      "text/plain": [
       "16"
      ]
     },
     "execution_count": 7,
     "metadata": {},
     "output_type": "execute_result"
    }
   ],
   "source": [
    "değişken += 1\n",
    "değişken"
   ]
  },
  {
   "cell_type": "code",
   "execution_count": null,
   "metadata": {
    "colab": {
     "base_uri": "https://localhost:8080/"
    },
    "executionInfo": {
     "elapsed": 439,
     "status": "ok",
     "timestamp": 1657567410265,
     "user": {
      "displayName": "Tacettin SATILMIŞ",
      "userId": "03441031780254934372"
     },
     "user_tz": -180
    },
    "id": "sd6iKqkftqoh",
    "outputId": "6812b274-2c8f-45de-deec-0818ae3702b7"
   },
   "outputs": [
    {
     "data": {
      "text/plain": [
       "17"
      ]
     },
     "execution_count": 8,
     "metadata": {},
     "output_type": "execute_result"
    }
   ],
   "source": [
    "değişken += 1\n",
    "değişken"
   ]
  },
  {
   "cell_type": "code",
   "execution_count": null,
   "metadata": {
    "id": "m03BHSFvtqrV"
   },
   "outputs": [],
   "source": [
    "a = 8\n",
    "b = 2"
   ]
  },
  {
   "cell_type": "code",
   "execution_count": null,
   "metadata": {
    "colab": {
     "base_uri": "https://localhost:8080/"
    },
    "executionInfo": {
     "elapsed": 407,
     "status": "ok",
     "timestamp": 1657567707430,
     "user": {
      "displayName": "Tacettin SATILMIŞ",
      "userId": "03441031780254934372"
     },
     "user_tz": -180
    },
    "id": "OhX8XjXetquL",
    "outputId": "08141cf3-859d-4359-c1a9-d33459ab1049"
   },
   "outputs": [
    {
     "data": {
      "text/plain": [
       "16"
      ]
     },
     "execution_count": 10,
     "metadata": {},
     "output_type": "execute_result"
    }
   ],
   "source": [
    "a *= b\n",
    "a"
   ]
  },
  {
   "cell_type": "code",
   "execution_count": null,
   "metadata": {
    "colab": {
     "base_uri": "https://localhost:8080/"
    },
    "executionInfo": {
     "elapsed": 340,
     "status": "ok",
     "timestamp": 1657573685547,
     "user": {
      "displayName": "Tacettin SATILMIŞ",
      "userId": "03441031780254934372"
     },
     "user_tz": -180
    },
    "id": "MHZi23Q_tqwy",
    "outputId": "a47cb102-9a32-4e7d-b2de-5835983b3897"
   },
   "outputs": [
    {
     "data": {
      "text/plain": [
       "100.0"
      ]
     },
     "execution_count": 18,
     "metadata": {},
     "output_type": "execute_result"
    }
   ],
   "source": [
    "#pisagor\n",
    "a = 60  \n",
    "b = 80\n",
    "c = a ** 2 + b ** 2\n",
    "c **= 0.5\n",
    "c "
   ]
  },
  {
   "cell_type": "code",
   "execution_count": null,
   "metadata": {
    "colab": {
     "base_uri": "https://localhost:8080/"
    },
    "executionInfo": {
     "elapsed": 332,
     "status": "ok",
     "timestamp": 1657568776958,
     "user": {
      "displayName": "Tacettin SATILMIŞ",
      "userId": "03441031780254934372"
     },
     "user_tz": -180
    },
    "id": "aAlTBOwntqzn",
    "outputId": "eca0f3d3-ed33-41bc-ebb0-dad1e6937067"
   },
   "outputs": [
    {
     "name": "stdout",
     "output_type": "stream",
     "text": [
      "5.0-3.14-False-hello\n"
     ]
    }
   ],
   "source": [
    "print(c, 3.14, False, \"hello\", sep = \"-\")"
   ]
  },
  {
   "cell_type": "code",
   "execution_count": null,
   "metadata": {
    "colab": {
     "base_uri": "https://localhost:8080/"
    },
    "executionInfo": {
     "elapsed": 5,
     "status": "ok",
     "timestamp": 1657568800078,
     "user": {
      "displayName": "Tacettin SATILMIŞ",
      "userId": "03441031780254934372"
     },
     "user_tz": -180
    },
    "id": "RwBQ9B-7tq27",
    "outputId": "64674937-ba20-46bb-f104-97fad2110612"
   },
   "outputs": [
    {
     "name": "stdout",
     "output_type": "stream",
     "text": [
      "5.0**3.14**False**hello\n"
     ]
    }
   ],
   "source": [
    "print(c, 3.14, False, \"hello\", sep = \"**\")"
   ]
  },
  {
   "cell_type": "code",
   "execution_count": null,
   "metadata": {
    "colab": {
     "base_uri": "https://localhost:8080/"
    },
    "executionInfo": {
     "elapsed": 5,
     "status": "ok",
     "timestamp": 1657568971682,
     "user": {
      "displayName": "Tacettin SATILMIŞ",
      "userId": "03441031780254934372"
     },
     "user_tz": -180
    },
    "id": "bHhp7kKdzKlf",
    "outputId": "275af308-810c-45f0-eea3-562b52f113a7"
   },
   "outputs": [
    {
     "name": "stdout",
     "output_type": "stream",
     "text": [
      "Ali veli ayşe\n"
     ]
    }
   ],
   "source": [
    "print(\"Ali\", end = \" \")\n",
    "print(\"veli\", \"ayşe\")"
   ]
  },
  {
   "cell_type": "code",
   "execution_count": null,
   "metadata": {
    "colab": {
     "base_uri": "https://localhost:8080/"
    },
    "executionInfo": {
     "elapsed": 8,
     "status": "ok",
     "timestamp": 1657569569570,
     "user": {
      "displayName": "Tacettin SATILMIŞ",
      "userId": "03441031780254934372"
     },
     "user_tz": -180
    },
    "id": "P6nXEIo1z0eN",
    "outputId": "2586be87-c2fa-4ab0-8a74-df3b0f5aea1d"
   },
   "outputs": [
    {
     "name": "stdout",
     "output_type": "stream",
     "text": [
      "Ahmet' in ceketi\n"
     ]
    }
   ],
   "source": [
    "print('Ahmet\\' in ceketi')"
   ]
  },
  {
   "cell_type": "code",
   "execution_count": 1,
   "metadata": {
    "colab": {
     "base_uri": "https://localhost:8080/"
    },
    "executionInfo": {
     "elapsed": 6,
     "status": "ok",
     "timestamp": 1657643163051,
     "user": {
      "displayName": "Tacettin SATILMIŞ",
      "userId": "03441031780254934372"
     },
     "user_tz": -180
    },
    "id": "MSR_qZM02GcL",
    "outputId": "7297e127-edb8-42f5-d99c-4f01489becdf"
   },
   "outputs": [
    {
     "name": "stdout",
     "output_type": "stream",
     "text": [
      "word                 : orange\n",
      "First letter         : o\n",
      "second letter        : r\n",
      "3rd to 5th letter    : ang\n",
      "letter all after 3rd : ange\n"
     ]
    }
   ],
   "source": [
    "fruit = 'orange'\n",
    "\n",
    "print('word                 :', fruit)\n",
    "print('First letter         :', fruit[0])\n",
    "print('second letter        :', fruit[1])\n",
    "print('3rd to 5th letter    :', fruit[2:5])\n",
    "print('letter all after 3rd :', fruit[2:])"
   ]
  },
  {
   "cell_type": "code",
   "execution_count": 13,
   "metadata": {
    "executionInfo": {
     "elapsed": 245,
     "status": "ok",
     "timestamp": 1657644657906,
     "user": {
      "displayName": "Tacettin SATILMIŞ",
      "userId": "03441031780254934372"
     },
     "user_tz": -180
    },
    "id": "oMxnr54FOzCx"
   },
   "outputs": [],
   "source": [
    "kadayıf = True  # olmazsa olmaz\n",
    "\n",
    "# iç --> olmazsa olmaz\n",
    "\n",
    "fındık = True  # fark ertmez\n",
    "fıstık = True  # fark etmez\n",
    "ceviz = True  # fark etmez\n",
    "\n",
    "# şerbet --> olmazsa olmaz\n",
    "\n",
    "su = True  # olmazsa olmaz\n",
    "şeker = False  # olmazsa olmaz\n",
    "\n",
    "yumurta = True  # olmazsa olmaz\n",
    "\n",
    "# içecek fark etmez\n",
    "\n",
    "çay = False\n",
    "meşrubat = False\n",
    "ayran = False\n",
    "\n"
   ]
  },
  {
   "cell_type": "code",
   "execution_count": 14,
   "metadata": {
    "colab": {
     "base_uri": "https://localhost:8080/"
    },
    "executionInfo": {
     "elapsed": 246,
     "status": "ok",
     "timestamp": 1657644661801,
     "user": {
      "displayName": "Tacettin SATILMIŞ",
      "userId": "03441031780254934372"
     },
     "user_tz": -180
    },
    "id": "h91Nb7gQTAl9",
    "outputId": "8357b7c4-6416-43fb-8add-357fb3d9830e"
   },
   "outputs": [
    {
     "data": {
      "text/plain": [
       "False"
      ]
     },
     "execution_count": 14,
     "metadata": {},
     "output_type": "execute_result"
    }
   ],
   "source": [
    "yedim = kadayıf and (fıstık or fındık or ceviz) and (su and şeker) and yumurta or (çay or meşrubat or ayran)\n",
    "yedim"
   ]
  },
  {
   "cell_type": "code",
   "execution_count": 16,
   "metadata": {
    "colab": {
     "base_uri": "https://localhost:8080/"
    },
    "executionInfo": {
     "elapsed": 4,
     "status": "ok",
     "timestamp": 1657645484535,
     "user": {
      "displayName": "Tacettin SATILMIŞ",
      "userId": "03441031780254934372"
     },
     "user_tz": -180
    },
    "id": "0NSPtLohTdih",
    "outputId": "54747f39-f1ea-4818-fc10-9c60d98d2c26"
   },
   "outputs": [
    {
     "data": {
      "text/plain": [
       "1070.0"
      ]
     },
     "execution_count": 16,
     "metadata": {},
     "output_type": "execute_result"
    }
   ],
   "source": [
    "para = 1000\n",
    "\n",
    "para = para + para * 0.07  # ptesi\n",
    "\n",
    "para\n"
   ]
  },
  {
   "cell_type": "code",
   "execution_count": 17,
   "metadata": {
    "colab": {
     "base_uri": "https://localhost:8080/"
    },
    "executionInfo": {
     "elapsed": 5,
     "status": "ok",
     "timestamp": 1657645500664,
     "user": {
      "displayName": "Tacettin SATILMIŞ",
      "userId": "03441031780254934372"
     },
     "user_tz": -180
    },
    "id": "O29pElCkXp-Z",
    "outputId": "ab5f92a1-15ff-4909-92e2-776d909d9fef"
   },
   "outputs": [
    {
     "data": {
      "text/plain": [
       "1144.9"
      ]
     },
     "execution_count": 17,
     "metadata": {},
     "output_type": "execute_result"
    }
   ],
   "source": [
    "para = para + para * 0.07  # salı\n",
    "\n",
    "para"
   ]
  },
  {
   "cell_type": "code",
   "execution_count": 18,
   "metadata": {
    "colab": {
     "base_uri": "https://localhost:8080/"
    },
    "executionInfo": {
     "elapsed": 3,
     "status": "ok",
     "timestamp": 1657645512415,
     "user": {
      "displayName": "Tacettin SATILMIŞ",
      "userId": "03441031780254934372"
     },
     "user_tz": -180
    },
    "id": "0hqiBzNcXwVp",
    "outputId": "25ec8ed2-e8a0-4439-980d-3e6bf9726a38"
   },
   "outputs": [
    {
     "data": {
      "text/plain": [
       "1225.0430000000001"
      ]
     },
     "execution_count": 18,
     "metadata": {},
     "output_type": "execute_result"
    }
   ],
   "source": [
    "para = para + para * 0.07  # çarşamba\n",
    "\n",
    "para"
   ]
  },
  {
   "cell_type": "code",
   "execution_count": 19,
   "metadata": {
    "colab": {
     "base_uri": "https://localhost:8080/"
    },
    "executionInfo": {
     "elapsed": 229,
     "status": "ok",
     "timestamp": 1657645523289,
     "user": {
      "displayName": "Tacettin SATILMIŞ",
      "userId": "03441031780254934372"
     },
     "user_tz": -180
    },
    "id": "wBHAnM3NXzOF",
    "outputId": "3cdd40d2-bf66-4882-ce31-ae3f00b4d723"
   },
   "outputs": [
    {
     "data": {
      "text/plain": [
       "1310.79601"
      ]
     },
     "execution_count": 19,
     "metadata": {},
     "output_type": "execute_result"
    }
   ],
   "source": [
    "para = para + para * 0.07  # perşembe\n",
    "\n",
    "para"
   ]
  },
  {
   "cell_type": "code",
   "execution_count": 20,
   "metadata": {
    "colab": {
     "base_uri": "https://localhost:8080/"
    },
    "executionInfo": {
     "elapsed": 252,
     "status": "ok",
     "timestamp": 1657645533305,
     "user": {
      "displayName": "Tacettin SATILMIŞ",
      "userId": "03441031780254934372"
     },
     "user_tz": -180
    },
    "id": "ydMXBMCxX162",
    "outputId": "4725881b-1122-40bd-c4a2-b598a502e65d"
   },
   "outputs": [
    {
     "data": {
      "text/plain": [
       "1402.5517307"
      ]
     },
     "execution_count": 20,
     "metadata": {},
     "output_type": "execute_result"
    }
   ],
   "source": [
    "para = para + para * 0.07  # cuma\n",
    "\n",
    "para"
   ]
  },
  {
   "cell_type": "code",
   "execution_count": 21,
   "metadata": {
    "colab": {
     "base_uri": "https://localhost:8080/"
    },
    "executionInfo": {
     "elapsed": 249,
     "status": "ok",
     "timestamp": 1657645542691,
     "user": {
      "displayName": "Tacettin SATILMIŞ",
      "userId": "03441031780254934372"
     },
     "user_tz": -180
    },
    "id": "i1IokSTzX4Um",
    "outputId": "576261cb-1d13-4d17-9e38-f98b5b0db0c4"
   },
   "outputs": [
    {
     "data": {
      "text/plain": [
       "1500.730351849"
      ]
     },
     "execution_count": 21,
     "metadata": {},
     "output_type": "execute_result"
    }
   ],
   "source": [
    "para = para + para * 0.07  # ctesi\n",
    "\n",
    "para"
   ]
  },
  {
   "cell_type": "code",
   "execution_count": 22,
   "metadata": {
    "colab": {
     "base_uri": "https://localhost:8080/"
    },
    "executionInfo": {
     "elapsed": 404,
     "status": "ok",
     "timestamp": 1657645551740,
     "user": {
      "displayName": "Tacettin SATILMIŞ",
      "userId": "03441031780254934372"
     },
     "user_tz": -180
    },
    "id": "6PXxVb60X6nf",
    "outputId": "188c1cd1-6595-47c3-e3fd-3a9e743d4ca0"
   },
   "outputs": [
    {
     "data": {
      "text/plain": [
       "1605.78147647843"
      ]
     },
     "execution_count": 22,
     "metadata": {},
     "output_type": "execute_result"
    }
   ],
   "source": [
    "para = para + para * 0.07  # pazar\n",
    "\n",
    "para"
   ]
  },
  {
   "cell_type": "code",
   "execution_count": 28,
   "metadata": {
    "colab": {
     "base_uri": "https://localhost:8080/"
    },
    "executionInfo": {
     "elapsed": 254,
     "status": "ok",
     "timestamp": 1657645907993,
     "user": {
      "displayName": "Tacettin SATILMIŞ",
      "userId": "03441031780254934372"
     },
     "user_tz": -180
    },
    "id": "t6jK2vKbX8yO",
    "outputId": "81c1efc9-fc77-475b-b9ec-4a3691cb7006"
   },
   "outputs": [
    {
     "data": {
      "text/plain": [
       "1605.7814764784307"
      ]
     },
     "execution_count": 28,
     "metadata": {},
     "output_type": "execute_result"
    }
   ],
   "source": [
    "# kısayoldan hesaplama\n",
    "\n",
    "para = 1000\n",
    "\n",
    "# para = para * (1 + 0.07)\n",
    "\n",
    "para = para * 1.07 ** 7  # 7 gün sonundaki kar\n",
    "\n",
    "para"
   ]
  },
  {
   "cell_type": "code",
   "execution_count": 29,
   "metadata": {
    "colab": {
     "base_uri": "https://localhost:8080/",
     "height": 35
    },
    "executionInfo": {
     "elapsed": 5,
     "status": "ok",
     "timestamp": 1657647415008,
     "user": {
      "displayName": "Tacettin SATILMIŞ",
      "userId": "03441031780254934372"
     },
     "user_tz": -180
    },
    "id": "8weirH7YYufX",
    "outputId": "2a93920a-1ed1-4b36-a08f-309c9a581817"
   },
   "outputs": [
    {
     "data": {
      "application/vnd.google.colaboratory.intrinsic+json": {
       "type": "string"
      },
      "text/plain": [
       "'u'"
      ]
     },
     "execution_count": 29,
     "metadata": {},
     "output_type": "execute_result"
    }
   ],
   "source": [
    "city = \"İstanbul\"\n",
    "\n",
    "city[-2]"
   ]
  },
  {
   "cell_type": "code",
   "execution_count": 30,
   "metadata": {
    "colab": {
     "base_uri": "https://localhost:8080/",
     "height": 35
    },
    "executionInfo": {
     "elapsed": 481,
     "status": "ok",
     "timestamp": 1657647429854,
     "user": {
      "displayName": "Tacettin SATILMIŞ",
      "userId": "03441031780254934372"
     },
     "user_tz": -180
    },
    "id": "jeBR3BejfDtw",
    "outputId": "95a1784e-0202-4314-833f-58485b00905e"
   },
   "outputs": [
    {
     "data": {
      "application/vnd.google.colaboratory.intrinsic+json": {
       "type": "string"
      },
      "text/plain": [
       "'u'"
      ]
     },
     "execution_count": 30,
     "metadata": {},
     "output_type": "execute_result"
    }
   ],
   "source": [
    "city[6]"
   ]
  },
  {
   "cell_type": "code",
   "execution_count": 31,
   "metadata": {
    "colab": {
     "base_uri": "https://localhost:8080/",
     "height": 35
    },
    "executionInfo": {
     "elapsed": 237,
     "status": "ok",
     "timestamp": 1657647505843,
     "user": {
      "displayName": "Tacettin SATILMIŞ",
      "userId": "03441031780254934372"
     },
     "user_tz": -180
    },
    "id": "STBxeveCfHSU",
    "outputId": "1d4084b7-2686-4932-9be1-513bcd5631a7"
   },
   "outputs": [
    {
     "data": {
      "application/vnd.google.colaboratory.intrinsic+json": {
       "type": "string"
      },
      "text/plain": [
       "'tanb'"
      ]
     },
     "execution_count": 31,
     "metadata": {},
     "output_type": "execute_result"
    }
   ],
   "source": [
    "city[-6:-2]"
   ]
  },
  {
   "cell_type": "code",
   "execution_count": 33,
   "metadata": {
    "colab": {
     "base_uri": "https://localhost:8080/",
     "height": 35
    },
    "executionInfo": {
     "elapsed": 243,
     "status": "ok",
     "timestamp": 1657647585341,
     "user": {
      "displayName": "Tacettin SATILMIŞ",
      "userId": "03441031780254934372"
     },
     "user_tz": -180
    },
    "id": "_0nG48CDfZ5f",
    "outputId": "5036e8bd-2a7f-4389-ee07-69dec6d74846"
   },
   "outputs": [
    {
     "data": {
      "application/vnd.google.colaboratory.intrinsic+json": {
       "type": "string"
      },
      "text/plain": [
       "'stanbu'"
      ]
     },
     "execution_count": 33,
     "metadata": {},
     "output_type": "execute_result"
    }
   ],
   "source": [
    "city[1:-1]"
   ]
  },
  {
   "cell_type": "code",
   "execution_count": 34,
   "metadata": {
    "colab": {
     "base_uri": "https://localhost:8080/",
     "height": 35
    },
    "executionInfo": {
     "elapsed": 262,
     "status": "ok",
     "timestamp": 1657647863170,
     "user": {
      "displayName": "Tacettin SATILMIŞ",
      "userId": "03441031780254934372"
     },
     "user_tz": -180
    },
    "id": "4EROZh4IfpQ5",
    "outputId": "44d0c4d9-c545-4fa9-9f82-ffa8525e75a5"
   },
   "outputs": [
    {
     "data": {
      "application/vnd.google.colaboratory.intrinsic+json": {
       "type": "string"
      },
      "text/plain": [
       "''"
      ]
     },
     "execution_count": 34,
     "metadata": {},
     "output_type": "execute_result"
    }
   ],
   "source": [
    "city[-2:-6]"
   ]
  },
  {
   "cell_type": "code",
   "execution_count": 35,
   "metadata": {
    "colab": {
     "base_uri": "https://localhost:8080/",
     "height": 35
    },
    "executionInfo": {
     "elapsed": 246,
     "status": "ok",
     "timestamp": 1657647874075,
     "user": {
      "displayName": "Tacettin SATILMIŞ",
      "userId": "03441031780254934372"
     },
     "user_tz": -180
    },
    "id": "38-ws7IrgxIG",
    "outputId": "a87b879b-050e-4407-90b1-19d85a60bfd0"
   },
   "outputs": [
    {
     "data": {
      "application/vnd.google.colaboratory.intrinsic+json": {
       "type": "string"
      },
      "text/plain": [
       "'lubnatsİ'"
      ]
     },
     "execution_count": 35,
     "metadata": {},
     "output_type": "execute_result"
    }
   ],
   "source": [
    "city[::-1]"
   ]
  },
  {
   "cell_type": "code",
   "execution_count": 36,
   "metadata": {
    "colab": {
     "base_uri": "https://localhost:8080/",
     "height": 35
    },
    "executionInfo": {
     "elapsed": 230,
     "status": "ok",
     "timestamp": 1657647895749,
     "user": {
      "displayName": "Tacettin SATILMIŞ",
      "userId": "03441031780254934372"
     },
     "user_tz": -180
    },
    "id": "lWulPJFngzyz",
    "outputId": "183eb63b-a13c-4abf-eaa1-8e0cf940a2bb"
   },
   "outputs": [
    {
     "data": {
      "application/vnd.google.colaboratory.intrinsic+json": {
       "type": "string"
      },
      "text/plain": [
       "'ubna'"
      ]
     },
     "execution_count": 36,
     "metadata": {},
     "output_type": "execute_result"
    }
   ],
   "source": [
    "city[-2:-6:-1]"
   ]
  },
  {
   "cell_type": "code",
   "execution_count": 37,
   "metadata": {
    "colab": {
     "base_uri": "https://localhost:8080/",
     "height": 35
    },
    "executionInfo": {
     "elapsed": 8,
     "status": "ok",
     "timestamp": 1657647938258,
     "user": {
      "displayName": "Tacettin SATILMIŞ",
      "userId": "03441031780254934372"
     },
     "user_tz": -180
    },
    "id": "r1mOiWq3g5F-",
    "outputId": "90657b3d-eb6c-4ea4-ce75-faec73081be1"
   },
   "outputs": [
    {
     "data": {
      "application/vnd.google.colaboratory.intrinsic+json": {
       "type": "string"
      },
      "text/plain": [
       "'lba'"
      ]
     },
     "execution_count": 37,
     "metadata": {},
     "output_type": "execute_result"
    }
   ],
   "source": [
    "city[-1:-7:-2]"
   ]
  },
  {
   "cell_type": "code",
   "execution_count": 38,
   "metadata": {
    "colab": {
     "base_uri": "https://localhost:8080/"
    },
    "executionInfo": {
     "elapsed": 411,
     "status": "ok",
     "timestamp": 1657648317683,
     "user": {
      "displayName": "Tacettin SATILMIŞ",
      "userId": "03441031780254934372"
     },
     "user_tz": -180
    },
    "id": "u5GCuLPjhDc-",
    "outputId": "5de1c778-d568-43c7-8ee7-0204935c63e8"
   },
   "outputs": [
    {
     "data": {
      "text/plain": [
       "8"
      ]
     },
     "execution_count": 38,
     "metadata": {},
     "output_type": "execute_result"
    }
   ],
   "source": [
    "len(city)"
   ]
  },
  {
   "cell_type": "code",
   "execution_count": 39,
   "metadata": {
    "colab": {
     "base_uri": "https://localhost:8080/"
    },
    "executionInfo": {
     "elapsed": 2,
     "status": "ok",
     "timestamp": 1657648491646,
     "user": {
      "displayName": "Tacettin SATILMIŞ",
      "userId": "03441031780254934372"
     },
     "user_tz": -180
    },
    "id": "mS1tGPuZigDj",
    "outputId": "b175a5c6-7295-4fc2-d1bb-5086bcc79e23"
   },
   "outputs": [
    {
     "data": {
      "text/plain": [
       "3"
      ]
     },
     "execution_count": 39,
     "metadata": {},
     "output_type": "execute_result"
    }
   ],
   "source": [
    "len(\"123\")"
   ]
  },
  {
   "cell_type": "code",
   "execution_count": 40,
   "metadata": {
    "colab": {
     "base_uri": "https://localhost:8080/"
    },
    "executionInfo": {
     "elapsed": 247,
     "status": "ok",
     "timestamp": 1657648497907,
     "user": {
      "displayName": "Tacettin SATILMIŞ",
      "userId": "03441031780254934372"
     },
     "user_tz": -180
    },
    "id": "RSsPP5ORjKkN",
    "outputId": "6629b6cc-31f8-45ba-b53d-a2d4aea8a33c"
   },
   "outputs": [
    {
     "data": {
      "text/plain": [
       "3"
      ]
     },
     "execution_count": 40,
     "metadata": {},
     "output_type": "execute_result"
    }
   ],
   "source": [
    "len(\"1 1\")"
   ]
  },
  {
   "cell_type": "code",
   "execution_count": 47,
   "metadata": {
    "colab": {
     "base_uri": "https://localhost:8080/",
     "height": 35
    },
    "executionInfo": {
     "elapsed": 231,
     "status": "ok",
     "timestamp": 1657649274937,
     "user": {
      "displayName": "Tacettin SATILMIŞ",
      "userId": "03441031780254934372"
     },
     "user_tz": -180
    },
    "id": "YKBZx7QNjMGQ",
    "outputId": "3cf209bc-50cd-4b20-d89e-b23fd9ca3393"
   },
   "outputs": [
    {
     "data": {
      "application/vnd.google.colaboratory.intrinsic+json": {
       "type": "string"
      },
      "text/plain": [
       "'121121'"
      ]
     },
     "execution_count": 47,
     "metadata": {},
     "output_type": "execute_result"
    }
   ],
   "source": [
    "sonuç = str((5+6) **2) + \"121\"\n",
    "sonuç"
   ]
  },
  {
   "cell_type": "code",
   "execution_count": 48,
   "metadata": {
    "colab": {
     "base_uri": "https://localhost:8080/",
     "height": 35
    },
    "executionInfo": {
     "elapsed": 329,
     "status": "ok",
     "timestamp": 1657649278497,
     "user": {
      "displayName": "Tacettin SATILMIŞ",
      "userId": "03441031780254934372"
     },
     "user_tz": -180
    },
    "id": "gqqmgXBcl51_",
    "outputId": "078142f4-7a84-4a6a-f714-d9f86873d6b6"
   },
   "outputs": [
    {
     "data": {
      "application/vnd.google.colaboratory.intrinsic+json": {
       "type": "string"
      },
      "text/plain": [
       "'121121121121121121121121'"
      ]
     },
     "execution_count": 48,
     "metadata": {},
     "output_type": "execute_result"
    }
   ],
   "source": [
    "sonuç = (sonuç + sonuç) * 2\n",
    "sonuç\n"
   ]
  },
  {
   "cell_type": "code",
   "execution_count": 49,
   "metadata": {
    "colab": {
     "base_uri": "https://localhost:8080/",
     "height": 35
    },
    "executionInfo": {
     "elapsed": 6,
     "status": "ok",
     "timestamp": 1657649308924,
     "user": {
      "displayName": "Tacettin SATILMIŞ",
      "userId": "03441031780254934372"
     },
     "user_tz": -180
    },
    "id": "_YETb4sAmGDA",
    "outputId": "13aaa1ae-fc9f-4fd9-e029-d487c3b26320"
   },
   "outputs": [
    {
     "data": {
      "application/vnd.google.colaboratory.intrinsic+json": {
       "type": "string"
      },
      "text/plain": [
       "'VeliVeliVeli'"
      ]
     },
     "execution_count": 49,
     "metadata": {},
     "output_type": "execute_result"
    }
   ],
   "source": [
    "3 * \"Veli\""
   ]
  },
  {
   "cell_type": "code",
   "execution_count": 51,
   "metadata": {
    "colab": {
     "base_uri": "https://localhost:8080/",
     "height": 35
    },
    "executionInfo": {
     "elapsed": 250,
     "status": "ok",
     "timestamp": 1657649634271,
     "user": {
      "displayName": "Tacettin SATILMIŞ",
      "userId": "03441031780254934372"
     },
     "user_tz": -180
    },
    "id": "vfZDWvMRmSGm",
    "outputId": "aec43b94-18ca-47e8-e057-72a6a6ce2121"
   },
   "outputs": [
    {
     "data": {
      "application/vnd.google.colaboratory.intrinsic+json": {
       "type": "string"
      },
      "text/plain": [
       "'aliveli'"
      ]
     },
     "execution_count": 51,
     "metadata": {},
     "output_type": "execute_result"
    }
   ],
   "source": [
    "a =\"ali\"\n",
    "b =\"veli\"\n",
    "a = a + b\n",
    "a"
   ]
  },
  {
   "cell_type": "code",
   "execution_count": 52,
   "metadata": {
    "colab": {
     "base_uri": "https://localhost:8080/",
     "height": 35
    },
    "executionInfo": {
     "elapsed": 7,
     "status": "ok",
     "timestamp": 1657649666705,
     "user": {
      "displayName": "Tacettin SATILMIŞ",
      "userId": "03441031780254934372"
     },
     "user_tz": -180
    },
    "id": "iR1peMvdnf-U",
    "outputId": "a09c3a06-e49c-4a54-f302-121ebb7e95e5"
   },
   "outputs": [
    {
     "data": {
      "application/vnd.google.colaboratory.intrinsic+json": {
       "type": "string"
      },
      "text/plain": [
       "'aliveli'"
      ]
     },
     "execution_count": 52,
     "metadata": {},
     "output_type": "execute_result"
    }
   ],
   "source": [
    "a =\"ali\"\n",
    "b =\"veli\"\n",
    "a += b\n",
    "a"
   ]
  },
  {
   "cell_type": "code",
   "execution_count": 53,
   "metadata": {
    "colab": {
     "base_uri": "https://localhost:8080/"
    },
    "executionInfo": {
     "elapsed": 5,
     "status": "ok",
     "timestamp": 1657649813863,
     "user": {
      "displayName": "Tacettin SATILMIŞ",
      "userId": "03441031780254934372"
     },
     "user_tz": -180
    },
    "id": "Z_3GnoDCnpdM",
    "outputId": "20ae9d41-423e-4e25-efaf-0d92cd1b3dad"
   },
   "outputs": [
    {
     "name": "stdout",
     "output_type": "stream",
     "text": [
      "upper\n",
      "uppercase\n",
      "uppercaseletter\n",
      "uppercaseletterend\n"
     ]
    }
   ],
   "source": [
    "str_one = \"upper\"\n",
    "print(str_one)\n",
    "str_one += \"case\"\n",
    "print(str_one)\n",
    "str_one += \"letter\"\n",
    "print(str_one)\n",
    "str_one += \"end\"\n",
    "print(str_one)"
   ]
  },
  {
   "cell_type": "code",
   "execution_count": null,
   "metadata": {
    "id": "X_SPOHtKoNYS"
   },
   "outputs": [],
   "source": []
  },
  {
   "cell_type": "code",
   "execution_count": 54,
   "metadata": {
    "executionInfo": {
     "elapsed": 237,
     "status": "ok",
     "timestamp": 1657649993879,
     "user": {
      "displayName": "Tacettin SATILMIŞ",
      "userId": "03441031780254934372"
     },
     "user_tz": -180
    },
    "id": "78t-KCm7o0IR"
   },
   "outputs": [],
   "source": [
    "deneme = \"metotlar\""
   ]
  },
  {
   "cell_type": "code",
   "execution_count": 55,
   "metadata": {
    "colab": {
     "base_uri": "https://localhost:8080/",
     "height": 35
    },
    "executionInfo": {
     "elapsed": 246,
     "status": "ok",
     "timestamp": 1657650023425,
     "user": {
      "displayName": "Tacettin SATILMIŞ",
      "userId": "03441031780254934372"
     },
     "user_tz": -180
    },
    "id": "vnjmZmgco0K_",
    "outputId": "4ababda9-a1e7-4e0f-e5e4-d5eb1d3a344d"
   },
   "outputs": [
    {
     "data": {
      "application/vnd.google.colaboratory.intrinsic+json": {
       "type": "string"
      },
      "text/plain": [
       "'metotlar'"
      ]
     },
     "execution_count": 55,
     "metadata": {},
     "output_type": "execute_result"
    }
   ],
   "source": [
    "deneme.format()"
   ]
  },
  {
   "cell_type": "code",
   "execution_count": 16,
   "metadata": {
    "executionInfo": {
     "elapsed": 234,
     "status": "ok",
     "timestamp": 1657918566295,
     "user": {
      "displayName": "Tacettin SATILMIŞ",
      "userId": "03441031780254934372"
     },
     "user_tz": -180
    },
    "id": "hD6K2jiCo0Nl"
   },
   "outputs": [],
   "source": [
    " saat = \"05:00\"\n",
    " yer = \"okul\"\n",
    " miktar =2"
   ]
  },
  {
   "cell_type": "code",
   "execution_count": 57,
   "metadata": {
    "colab": {
     "base_uri": "https://localhost:8080/",
     "height": 35
    },
    "executionInfo": {
     "elapsed": 264,
     "status": "ok",
     "timestamp": 1657650238759,
     "user": {
      "displayName": "Tacettin SATILMIŞ",
      "userId": "03441031780254934372"
     },
     "user_tz": -180
    },
    "id": "W5jHSl5Ao0QM",
    "outputId": "4e40437c-a4da-4950-82fd-b564bda02921"
   },
   "outputs": [
    {
     "data": {
      "application/vnd.google.colaboratory.intrinsic+json": {
       "type": "string"
      },
      "text/plain": [
       "'Sabah 05:00 de uyandım ve okula gittim. Dönüşte 2 ekmek aldım.'"
      ]
     },
     "execution_count": 57,
     "metadata": {},
     "output_type": "execute_result"
    }
   ],
   "source": [
    "\"Sabah {} de uyandım ve {}a gittim. Dönüşte {} ekmek aldım.\".format(saat, yer, miktar)"
   ]
  },
  {
   "cell_type": "code",
   "execution_count": 58,
   "metadata": {
    "colab": {
     "base_uri": "https://localhost:8080/",
     "height": 35
    },
    "executionInfo": {
     "elapsed": 5,
     "status": "ok",
     "timestamp": 1657650343159,
     "user": {
      "displayName": "Tacettin SATILMIŞ",
      "userId": "03441031780254934372"
     },
     "user_tz": -180
    },
    "id": "EdoTYy6Vo0Sp",
    "outputId": "a2940b8a-bb06-4973-b91c-f52153dfe2e3"
   },
   "outputs": [
    {
     "data": {
      "application/vnd.google.colaboratory.intrinsic+json": {
       "type": "string"
      },
      "text/plain": [
       "'Sabah *05:00 de uyandım ve okula gittim. Dönüşte 2 ekmek aldım.'"
      ]
     },
     "execution_count": 58,
     "metadata": {},
     "output_type": "execute_result"
    }
   ],
   "source": [
    "\"Sabah {} de uyandım ve {}a gittim. Dönüşte {} ekmek aldım.\".format(\"*05:00\", \"okul\", 2)"
   ]
  },
  {
   "cell_type": "code",
   "execution_count": 2,
   "metadata": {
    "colab": {
     "base_uri": "https://localhost:8080/",
     "height": 35
    },
    "executionInfo": {
     "elapsed": 265,
     "status": "ok",
     "timestamp": 1657650753214,
     "user": {
      "displayName": "Tacettin SATILMIŞ",
      "userId": "03441031780254934372"
     },
     "user_tz": -180
    },
    "id": "mtppoLEco0VE",
    "outputId": "8544b3a5-a53f-4ef9-9ea5-f1e4d68607f4"
   },
   "outputs": [
    {
     "data": {
      "application/vnd.google.colaboratory.intrinsic+json": {
       "type": "string"
      },
      "text/plain": [
       "'Sabah 05:00 de uyandım ve okula gittim. Dönüşte 2 ekmek aldım.'"
      ]
     },
     "execution_count": 2,
     "metadata": {},
     "output_type": "execute_result"
    }
   ],
   "source": [
    "\"Sabah {saat} de uyandım ve {yer}a gittim. Dönüşte {miktar} ekmek aldım.\".format(miktar=2, saat=\"05:00\", yer=\"okul\")"
   ]
  },
  {
   "cell_type": "code",
   "execution_count": 5,
   "metadata": {
    "colab": {
     "base_uri": "https://localhost:8080/",
     "height": 35
    },
    "executionInfo": {
     "elapsed": 253,
     "status": "ok",
     "timestamp": 1657651040512,
     "user": {
      "displayName": "Tacettin SATILMIŞ",
      "userId": "03441031780254934372"
     },
     "user_tz": -180
    },
    "id": "pAOluSnbo0Xl",
    "outputId": "e5bfcee3-ca12-4380-c192-864cd793a0d4"
   },
   "outputs": [
    {
     "data": {
      "application/vnd.google.colaboratory.intrinsic+json": {
       "type": "string"
      },
      "text/plain": [
       "'Sabah 05:00 de uyandım ve okula gittim. Dönüşte 2 ekmek aldım.'"
      ]
     },
     "execution_count": 5,
     "metadata": {},
     "output_type": "execute_result"
    }
   ],
   "source": [
    "\"Sabah {2} de uyandım ve {0}a gittim. Dönüşte {1} ekmek aldım.\".format(\"okul\", 2, \"05:00\")"
   ]
  },
  {
   "cell_type": "code",
   "execution_count": 2,
   "metadata": {
    "colab": {
     "base_uri": "https://localhost:8080/"
    },
    "executionInfo": {
     "elapsed": 265,
     "status": "ok",
     "timestamp": 1657916090676,
     "user": {
      "displayName": "Tacettin SATILMIŞ",
      "userId": "03441031780254934372"
     },
     "user_tz": -180
    },
    "id": "VQsJPcVgo0ai",
    "outputId": "ebb7f9e0-fa11-4191-9f5b-edd17c2f026e"
   },
   "outputs": [
    {
     "name": "stdout",
     "output_type": "stream",
     "text": [
      "The amount of Orange and Tomato we bought are totally 6 pounds\n"
     ]
    }
   ],
   "source": [
    "fruit = \"Orange\"\n",
    "vegetable = \"Tomato\"\n",
    "amount = 6\n",
    "output = f\"The amount of {fruit} and {vegetable} we bought are totally {amount} pounds\"\n",
    "\n",
    "print(output)"
   ]
  },
  {
   "cell_type": "code",
   "execution_count": 3,
   "metadata": {
    "colab": {
     "base_uri": "https://localhost:8080/"
    },
    "executionInfo": {
     "elapsed": 255,
     "status": "ok",
     "timestamp": 1657916164867,
     "user": {
      "displayName": "Tacettin SATILMIŞ",
      "userId": "03441031780254934372"
     },
     "user_tz": -180
    },
    "id": "AAUr_8Umo0c2",
    "outputId": "cea7d253-f699-4bd1-93ce-1705df5d8eeb"
   },
   "outputs": [
    {
     "name": "stdout",
     "output_type": "stream",
     "text": [
      "8\n"
     ]
    }
   ],
   "source": [
    "sample = f\"{ 2** 3}\"\n",
    "\n",
    "print(sample)"
   ]
  },
  {
   "cell_type": "code",
   "execution_count": 5,
   "metadata": {
    "colab": {
     "base_uri": "https://localhost:8080/"
    },
    "executionInfo": {
     "elapsed": 241,
     "status": "ok",
     "timestamp": 1657916525342,
     "user": {
      "displayName": "Tacettin SATILMIŞ",
      "userId": "03441031780254934372"
     },
     "user_tz": -180
    },
    "id": "o0kAX8gPo0fm",
    "outputId": "f47e8b5b-15e4-4e7c-ec30-c039dc6bd8c4"
   },
   "outputs": [
    {
     "name": "stdout",
     "output_type": "stream",
     "text": [
      "My name is Mariam\n"
     ]
    }
   ],
   "source": [
    "name = \"MARIAM\"\n",
    "\n",
    "output = f\"My name is {name.capitalize()}\" \n",
    "\n",
    "print(output)"
   ]
  },
  {
   "cell_type": "code",
   "execution_count": 9,
   "metadata": {
    "colab": {
     "base_uri": "https://localhost:8080/"
    },
    "executionInfo": {
     "elapsed": 245,
     "status": "ok",
     "timestamp": 1657916858238,
     "user": {
      "displayName": "Tacettin SATILMIŞ",
      "userId": "03441031780254934372"
     },
     "user_tz": -180
    },
    "id": "1sF8y-MIo0i_",
    "outputId": "d3a21fc5-261a-4497-f34b-8bf717a79e96"
   },
   "outputs": [
    {
     "name": "stdout",
     "output_type": "stream",
     "text": [
      "Hi Tacettin. You are one of the teachers in the Data science section\n"
     ]
    }
   ],
   "source": [
    "name = \"Tacettin\"\n",
    "job = \"teachers\"\n",
    "domain = \"Data science\"\n",
    "message = (\n",
    "      f\"Hi {name}. \"\n",
    "      f\"You are one of the {job} \"\n",
    "      f\"in the {domain} section\"\n",
    ")\n",
    "print(message)      "
   ]
  },
  {
   "cell_type": "code",
   "execution_count": 11,
   "metadata": {
    "colab": {
     "base_uri": "https://localhost:8080/"
    },
    "executionInfo": {
     "elapsed": 229,
     "status": "ok",
     "timestamp": 1657917419959,
     "user": {
      "displayName": "Tacettin SATILMIŞ",
      "userId": "03441031780254934372"
     },
     "user_tz": -180
    },
    "id": "k-0taM90isaj",
    "outputId": "9ffb0990-93ac-4b2b-b731-7f1312a7fe7b"
   },
   "outputs": [
    {
     "name": "stdout",
     "output_type": "stream",
     "text": [
      "Susan is a young lady and she is a studet at the Technoway IT university.\n"
     ]
    }
   ],
   "source": [
    "name = \"Susan\"\n",
    "age = \"young\"\n",
    "gender = \"lady\"\n",
    "school = \"Technoway IT university\"\n",
    "\n",
    "output = f\"{name} is a {age} {gender} \\\n",
    "and she is a studet at the {school}.\"\n",
    "\n",
    "print(output)"
   ]
  },
  {
   "cell_type": "code",
   "execution_count": 13,
   "metadata": {
    "colab": {
     "base_uri": "https://localhost:8080/"
    },
    "executionInfo": {
     "elapsed": 252,
     "status": "ok",
     "timestamp": 1657918133229,
     "user": {
      "displayName": "Tacettin SATILMIŞ",
      "userId": "03441031780254934372"
     },
     "user_tz": -180
    },
    "id": "7uMpdg1Fk-YC",
    "outputId": "f76c9783-6c73-42f3-8c0f-42f3d5072e02"
   },
   "outputs": [
    {
     "name": "stdout",
     "output_type": "stream",
     "text": [
      "clausway\n"
     ]
    }
   ],
   "source": [
    "word = \"clarusway\"\n",
    "word1= word[0:3] + word[4:]\n",
    "print(word1)"
   ]
  },
  {
   "cell_type": "code",
   "execution_count": 18,
   "metadata": {
    "colab": {
     "base_uri": "https://localhost:8080/",
     "height": 35
    },
    "executionInfo": {
     "elapsed": 236,
     "status": "ok",
     "timestamp": 1657918608043,
     "user": {
      "displayName": "Tacettin SATILMIŞ",
      "userId": "03441031780254934372"
     },
     "user_tz": -180
    },
    "id": "pMmROGpynEEy",
    "outputId": "d1d9c1db-6117-4bb4-c9e2-3a7e8fe05afd"
   },
   "outputs": [
    {
     "data": {
      "application/vnd.google.colaboratory.intrinsic+json": {
       "type": "string"
      },
      "text/plain": [
       "'Hello! I am a new programmer and I love IT.'"
      ]
     },
     "execution_count": 18,
     "metadata": {},
     "output_type": "execute_result"
    }
   ],
   "source": [
    "merhaba = \"Hello!\"\n",
    "yeni = \"new\"\n",
    "aşk = \"love\"\n",
    "\n",
    "\"{} I am a {} programmer and I {} IT.\".format(merhaba, yeni, aşk) \n",
    "\n"
   ]
  },
  {
   "cell_type": "code",
   "execution_count": 20,
   "metadata": {
    "colab": {
     "base_uri": "https://localhost:8080/"
    },
    "executionInfo": {
     "elapsed": 250,
     "status": "ok",
     "timestamp": 1657918842846,
     "user": {
      "displayName": "Tacettin SATILMIŞ",
      "userId": "03441031780254934372"
     },
     "user_tz": -180
    },
    "id": "YDVjeV-opHZp",
    "outputId": "8e58d390-84ab-4145-c16d-d3cc4b8069ea"
   },
   "outputs": [
    {
     "name": "stdout",
     "output_type": "stream",
     "text": [
      "I live in Sarajevo.\n"
     ]
    }
   ],
   "source": [
    "city = \"SARAJEVO\"\n",
    "text = f\"I live in {city.capitalize()}.\"\n",
    "print(text)"
   ]
  },
  {
   "cell_type": "code",
   "execution_count": 1,
   "metadata": {
    "id": "tdg1IRB_qT0X"
   },
   "outputs": [
    {
     "name": "stdout",
     "output_type": "stream",
     "text": [
      "clarusway\n",
      "Clarusway\n",
      "clarusway\n"
     ]
    }
   ],
   "source": [
    "var_string = \"Clarusway\"\n",
    "print(var_string.lower())\n",
    "print(var_string)\n",
    "var_string = \"Clarusway\".lower()\n",
    "print(var_string)"
   ]
  },
  {
   "cell_type": "code",
   "execution_count": 3,
   "metadata": {},
   "outputs": [
    {
     "name": "stdout",
     "output_type": "stream",
     "text": [
      "True\n",
      "False\n"
     ]
    }
   ],
   "source": [
    "text = \"www.clarusway.com\"\n",
    "print(text.endswith(\".com\"))\n",
    "print(text.startswith(\"http:\"))"
   ]
  },
  {
   "cell_type": "code",
   "execution_count": 4,
   "metadata": {},
   "outputs": [
    {
     "name": "stdout",
     "output_type": "stream",
     "text": [
      "True\n",
      "True\n"
     ]
    }
   ],
   "source": [
    "email = \"clarusway@clarusway.com is my e-mail address\"\n",
    "print(email.startswith(\"@\", 9))\n",
    "print(email.endswith(\"-\", 10, 32))"
   ]
  },
  {
   "cell_type": "code",
   "execution_count": 5,
   "metadata": {},
   "outputs": [],
   "source": [
    "text = \"Clarusway\""
   ]
  },
  {
   "cell_type": "code",
   "execution_count": 6,
   "metadata": {},
   "outputs": [
    {
     "data": {
      "text/plain": [
       "'clarusway'"
      ]
     },
     "execution_count": 6,
     "metadata": {},
     "output_type": "execute_result"
    }
   ],
   "source": [
    "text.replace(\"C\", \"c\")"
   ]
  },
  {
   "cell_type": "code",
   "execution_count": 7,
   "metadata": {},
   "outputs": [
    {
     "data": {
      "text/plain": [
       "'Clarusway'"
      ]
     },
     "execution_count": 7,
     "metadata": {},
     "output_type": "execute_result"
    }
   ],
   "source": [
    "text"
   ]
  },
  {
   "cell_type": "code",
   "execution_count": 8,
   "metadata": {},
   "outputs": [
    {
     "data": {
      "text/plain": [
       "'Cl**rusw**y'"
      ]
     },
     "execution_count": 8,
     "metadata": {},
     "output_type": "execute_result"
    }
   ],
   "source": [
    "text.replace(\"a\", \"**\")"
   ]
  },
  {
   "cell_type": "code",
   "execution_count": 9,
   "metadata": {},
   "outputs": [
    {
     "name": "stdout",
     "output_type": "stream",
     "text": [
      "I LIVE AND WORK IN VIRGINIA\n",
      "i live and work in virginia\n",
      "i LIVE AND WORK IN vIRGINIA\n",
      "I live and work in Virginia\n"
     ]
    }
   ],
   "source": [
    "sentence = \"I live and work in Virginia\"\n",
    "\n",
    "print(sentence.upper())\n",
    "print(sentence.lower())\n",
    "print(sentence.swapcase())\n",
    "print(sentence)"
   ]
  },
  {
   "cell_type": "code",
   "execution_count": 10,
   "metadata": {},
   "outputs": [
    {
     "name": "stdout",
     "output_type": "stream",
     "text": [
      "1\n"
     ]
    }
   ],
   "source": [
    "print(None or 1)  #falsy"
   ]
  },
  {
   "cell_type": "code",
   "execution_count": 11,
   "metadata": {},
   "outputs": [
    {
     "name": "stdout",
     "output_type": "stream",
     "text": [
      " \n"
     ]
    }
   ],
   "source": [
    "a = \" \"\n",
    "b = \"False\"\n",
    "c = True\n",
    "d = \"\"\n",
    "print(a or b or c and not d)"
   ]
  },
  {
   "cell_type": "code",
   "execution_count": 13,
   "metadata": {},
   "outputs": [
    {
     "name": "stdout",
     "output_type": "stream",
     "text": [
      "False\n"
     ]
    }
   ],
   "source": [
    "a = \" \"\n",
    "b = \"False\"\n",
    "c = True\n",
    "d = \"\"\n",
    "print(a and b or c and d)"
   ]
  },
  {
   "cell_type": "code",
   "execution_count": 14,
   "metadata": {},
   "outputs": [
    {
     "data": {
      "text/plain": [
       "'Clarusway'"
      ]
     },
     "execution_count": 14,
     "metadata": {},
     "output_type": "execute_result"
    }
   ],
   "source": [
    "text"
   ]
  },
  {
   "cell_type": "code",
   "execution_count": 16,
   "metadata": {},
   "outputs": [
    {
     "data": {
      "text/plain": [
       "'Cl-ruw-y'"
      ]
     },
     "execution_count": 16,
     "metadata": {},
     "output_type": "execute_result"
    }
   ],
   "source": [
    " text.replace(\"a\", \"-\").replace(\"s\", \"\")"
   ]
  },
  {
   "cell_type": "code",
   "execution_count": 18,
   "metadata": {},
   "outputs": [
    {
     "data": {
      "text/plain": [
       "'CL-RUW-Y'"
      ]
     },
     "execution_count": 18,
     "metadata": {},
     "output_type": "execute_result"
    }
   ],
   "source": [
    " text.replace(\"a\", \"-\").replace(\"s\", \"\").upper()"
   ]
  },
  {
   "cell_type": "code",
   "execution_count": 19,
   "metadata": {},
   "outputs": [
    {
     "data": {
      "text/plain": [
       "'I live and work in Virginia'"
      ]
     },
     "execution_count": 19,
     "metadata": {},
     "output_type": "execute_result"
    }
   ],
   "source": [
    "sentence"
   ]
  },
  {
   "cell_type": "code",
   "execution_count": 21,
   "metadata": {},
   "outputs": [
    {
     "name": "stdout",
     "output_type": "stream",
     "text": [
      "I Live And Work In Virginia\n"
     ]
    }
   ],
   "source": [
    "title_sentence = sentence.title()\n",
    "print(title_sentence)"
   ]
  },
  {
   "cell_type": "code",
   "execution_count": 22,
   "metadata": {},
   "outputs": [
    {
     "name": "stdout",
     "output_type": "stream",
     "text": [
      "I Live And Work In Virginia\n",
      "I l+ve and work +n V+rg+n+a\n"
     ]
    }
   ],
   "source": [
    "title_sentence = sentence.title()\n",
    "print(title_sentence)\n",
    "\n",
    "changed_sentence = sentence.replace(\"i\", \"+\")\n",
    "print(changed_sentence)"
   ]
  },
  {
   "cell_type": "code",
   "execution_count": 23,
   "metadata": {},
   "outputs": [
    {
     "name": "stdout",
     "output_type": "stream",
     "text": [
      "I Live And Work In Virginia\n",
      "I l+ve and work +n V+rg+n+a\n",
      "I live and work in Virginia\n"
     ]
    }
   ],
   "source": [
    "title_sentence = sentence.title()\n",
    "print(title_sentence)\n",
    "\n",
    "changed_sentence = sentence.replace(\"i\", \"+\")\n",
    "print(changed_sentence)\n",
    "\n",
    "print(sentence)"
   ]
  },
  {
   "cell_type": "code",
   "execution_count": 24,
   "metadata": {},
   "outputs": [
    {
     "name": "stdout",
     "output_type": "stream",
     "text": [
      "sodome and gomore\n"
     ]
    }
   ],
   "source": [
    "text = \"s0d0me and g0m0re\"\n",
    "text = text.replace(\"0\", \"o\")\n",
    "print(text)"
   ]
  },
  {
   "cell_type": "code",
   "execution_count": 25,
   "metadata": {},
   "outputs": [
    {
     "name": "stdout",
     "output_type": "stream",
     "text": [
      "7\n"
     ]
    }
   ],
   "source": [
    "print(15//2)"
   ]
  },
  {
   "cell_type": "code",
   "execution_count": 34,
   "metadata": {},
   "outputs": [
    {
     "name": "stdout",
     "output_type": "stream",
     "text": [
      "Sıcaklık: 50\n",
      "122.0\n"
     ]
    }
   ],
   "source": [
    "cel_degree = int(input(\"Sıcaklık: \"))\n",
    "fah_degree = cel_degree * 18 / 10 + 32\n",
    "print(fah_degree)\n"
   ]
  },
  {
   "cell_type": "code",
   "execution_count": 38,
   "metadata": {},
   "outputs": [
    {
     "name": "stdout",
     "output_type": "stream",
     "text": [
      "km: 150.50\n",
      "93.51636443171876\n"
     ]
    }
   ],
   "source": [
    "km = float(input(\"km: \"))\n",
    "mil = km / 1.609344\n",
    "print(mil)"
   ]
  },
  {
   "cell_type": "code",
   "execution_count": 39,
   "metadata": {},
   "outputs": [
    {
     "name": "stdout",
     "output_type": "stream",
     "text": [
      "['USA', 'Brasil', 'UK', 'Germany', 'Turkey', 'New Zealand']\n"
     ]
    }
   ],
   "source": [
    "country = [\"USA\", \"Brasil\", \"UK\", \"Germany\", \"Turkey\", \"New Zealand\"]\n",
    "\n",
    "print(country)"
   ]
  },
  {
   "cell_type": "code",
   "execution_count": 40,
   "metadata": {},
   "outputs": [
    {
     "name": "stdout",
     "output_type": "stream",
     "text": [
      "['I', ' ', 'q', 'u', 'i', 't', ' ', 's', 'm', 'o', 'k', 'i', 'n', 'g']\n",
      "['I quit smoking']\n"
     ]
    }
   ],
   "source": [
    "string_1 = \"I quit smoking\"\n",
    "\n",
    "new_list_1 = list(string_1)\n",
    "print(new_list_1)\n",
    "\n",
    "new_list_2 = [string_1]\n",
    "print(new_list_2)"
   ]
  },
  {
   "cell_type": "code",
   "execution_count": 42,
   "metadata": {},
   "outputs": [],
   "source": [
    "empty_list_1 = []\n",
    "\n",
    "empty_list_2 = list()"
   ]
  },
  {
   "cell_type": "code",
   "execution_count": 43,
   "metadata": {},
   "outputs": [
    {
     "name": "stdout",
     "output_type": "stream",
     "text": [
      "['114', 'plastic-free sea']\n"
     ]
    }
   ],
   "source": [
    "empty_list_1.append(\"114\")\n",
    "empty_list_1.append(\"plastic-free sea\")\n",
    "\n",
    "print(empty_list_1)"
   ]
  },
  {
   "cell_type": "code",
   "execution_count": 55,
   "metadata": {},
   "outputs": [
    {
     "name": "stdout",
     "output_type": "stream",
     "text": [
      "['Brasil', 'France', 'Germany', 'Greece, Russia', 'France', 'New Zealand', 'Turkey', 'USA', 'Greece', 'Greece']\n"
     ]
    }
   ],
   "source": [
    "country.append(\"Greece\")  # hücreyi birden fazla çalıştırınca görülen hata\n",
    "print(country)"
   ]
  },
  {
   "cell_type": "code",
   "execution_count": 53,
   "metadata": {},
   "outputs": [
    {
     "name": "stdout",
     "output_type": "stream",
     "text": [
      "['Brasil', 'France', 'Germany', 'Greece, Russia', 'France', 'New Zealand', 'Turkey', 'USA', 'Greece']\n"
     ]
    }
   ],
   "source": [
    "country.insert(4, \"France\")\n",
    "print(country)"
   ]
  },
  {
   "cell_type": "code",
   "execution_count": 54,
   "metadata": {},
   "outputs": [
    {
     "ename": "ValueError",
     "evalue": "list.remove(x): x not in list",
     "output_type": "error",
     "traceback": [
      "\u001b[1;31m---------------------------------------------------------------------------\u001b[0m",
      "\u001b[1;31mValueError\u001b[0m                                Traceback (most recent call last)",
      "Input \u001b[1;32mIn [54]\u001b[0m, in \u001b[0;36m<cell line: 1>\u001b[1;34m()\u001b[0m\n\u001b[1;32m----> 1\u001b[0m \u001b[43mcountry\u001b[49m\u001b[38;5;241;43m.\u001b[39;49m\u001b[43mremove\u001b[49m\u001b[43m(\u001b[49m\u001b[38;5;124;43m\"\u001b[39;49m\u001b[38;5;124;43mUK\u001b[39;49m\u001b[38;5;124;43m\"\u001b[39;49m\u001b[43m)\u001b[49m\n\u001b[0;32m      2\u001b[0m \u001b[38;5;28mprint\u001b[39m(country)\n",
      "\u001b[1;31mValueError\u001b[0m: list.remove(x): x not in list"
     ]
    }
   ],
   "source": [
    "country.remove(\"UK\")\n",
    "print(country)"
   ]
  },
  {
   "cell_type": "code",
   "execution_count": 49,
   "metadata": {},
   "outputs": [
    {
     "name": "stdout",
     "output_type": "stream",
     "text": [
      "['Brasil', 'France', 'Germany', 'Greece, Russia', 'New Zealand', 'Turkey', 'USA']\n"
     ]
    }
   ],
   "source": [
    "country.sort()\n",
    "print(country)"
   ]
  },
  {
   "cell_type": "code",
   "execution_count": 57,
   "metadata": {},
   "outputs": [
    {
     "name": "stdout",
     "output_type": "stream",
     "text": [
      "['New York', 'Stockholm', 'Istanbul', 'Seoul', 'Sydney']\n"
     ]
    }
   ],
   "source": [
    "city = [\"New York\", \"Stockholm\", \"Istanbul\", \"Seoul\", \"Sydney\"]\n",
    "print(city)"
   ]
  },
  {
   "cell_type": "code",
   "execution_count": 58,
   "metadata": {},
   "outputs": [
    {
     "name": "stdout",
     "output_type": "stream",
     "text": [
      "5\n"
     ]
    }
   ],
   "source": [
    "print(len(city))"
   ]
  },
  {
   "cell_type": "code",
   "execution_count": 59,
   "metadata": {},
   "outputs": [
    {
     "name": "stdout",
     "output_type": "stream",
     "text": [
      "['New York', 'Melbourne', 'Istanbul', 'Seoul', 'Sydney']\n"
     ]
    }
   ],
   "source": [
    "city[1] = \"Melbourne\"\n",
    "print(city)"
   ]
  },
  {
   "cell_type": "code",
   "execution_count": 60,
   "metadata": {},
   "outputs": [
    {
     "name": "stdout",
     "output_type": "stream",
     "text": [
      "blue\n"
     ]
    }
   ],
   "source": [
    "colors = [\"red\", \"prple\", \"blue\", \"yellow\", \"green\"]\n",
    "print(colors[2])"
   ]
  },
  {
   "cell_type": "code",
   "execution_count": 61,
   "metadata": {},
   "outputs": [
    {
     "data": {
      "text/plain": [
       "['New York', 'Melbourne', 'Istanbul', 'Seoul', 'Sydney']"
      ]
     },
     "execution_count": 61,
     "metadata": {},
     "output_type": "execute_result"
    }
   ],
   "source": [
    "city"
   ]
  },
  {
   "cell_type": "code",
   "execution_count": 62,
   "metadata": {},
   "outputs": [
    {
     "name": "stdout",
     "output_type": "stream",
     "text": [
      "[['New York', 'Melbourne', 'Istanbul', 'Seoul', 'Sydney']]\n"
     ]
    }
   ],
   "source": [
    "city_list = []\n",
    "city_list.append(city)\n",
    "print(city_list)"
   ]
  },
  {
   "cell_type": "code",
   "execution_count": 63,
   "metadata": {},
   "outputs": [
    {
     "name": "stdout",
     "output_type": "stream",
     "text": [
      "['New York', 'Melbourne', 'Istanbul', 'Seoul', 'Sydney']\n"
     ]
    }
   ],
   "source": [
    "print(city_list[0])"
   ]
  },
  {
   "cell_type": "code",
   "execution_count": 64,
   "metadata": {},
   "outputs": [
    {
     "name": "stdout",
     "output_type": "stream",
     "text": [
      "Istanbul\n"
     ]
    }
   ],
   "source": [
    "print(city_list[0][2])"
   ]
  },
  {
   "cell_type": "code",
   "execution_count": 65,
   "metadata": {},
   "outputs": [
    {
     "name": "stdout",
     "output_type": "stream",
     "text": [
      "a\n"
     ]
    }
   ],
   "source": [
    "print(city_list[0][2][3])"
   ]
  },
  {
   "cell_type": "code",
   "execution_count": 66,
   "metadata": {},
   "outputs": [
    {
     "name": "stdout",
     "output_type": "stream",
     "text": [
      "[5, 7, 9]\n"
     ]
    }
   ],
   "source": [
    "numbers = [1, 3, 5, 7, 9, 11, 13, 15, 17]\n",
    "print(numbers[2:5])"
   ]
  },
  {
   "cell_type": "code",
   "execution_count": 67,
   "metadata": {},
   "outputs": [
    {
     "name": "stdout",
     "output_type": "stream",
     "text": [
      "[0, 1, 2, 3, 4, 5, 6, 7, 8, 9, 10]\n"
     ]
    }
   ],
   "source": [
    "count = list(range(11))\n",
    "print(count)"
   ]
  },
  {
   "cell_type": "code",
   "execution_count": 68,
   "metadata": {},
   "outputs": [
    {
     "name": "stdout",
     "output_type": "stream",
     "text": [
      "[0, 2, 4, 6, 8, 10]\n"
     ]
    }
   ],
   "source": [
    "print(count[0:11:2])"
   ]
  },
  {
   "cell_type": "code",
   "execution_count": 69,
   "metadata": {},
   "outputs": [
    {
     "name": "stdout",
     "output_type": "stream",
     "text": [
      "['fil', 'ayı', 'kurt', 'tilki', 'tavşan', 'geyik', 'zürafa']\n"
     ]
    }
   ],
   "source": [
    "animals = [\"fil\", \"ayı\", \"kurt\", \"tilki\", \"tavşan\", \"geyik\", \"zürafa\"]\n",
    "\n",
    "print(animals[:])\n"
   ]
  },
  {
   "cell_type": "code",
   "execution_count": 70,
   "metadata": {},
   "outputs": [
    {
     "name": "stdout",
     "output_type": "stream",
     "text": [
      "['tilki', 'tavşan', 'geyik', 'zürafa']\n"
     ]
    }
   ],
   "source": [
    "print(animals[3:])"
   ]
  },
  {
   "cell_type": "code",
   "execution_count": 72,
   "metadata": {},
   "outputs": [
    {
     "name": "stdout",
     "output_type": "stream",
     "text": [
      "['fil', 'ayı', 'kurt', 'tilki', 'tavşan']\n"
     ]
    }
   ],
   "source": [
    "print(animals[0:5])"
   ]
  },
  {
   "cell_type": "code",
   "execution_count": 73,
   "metadata": {},
   "outputs": [
    {
     "name": "stdout",
     "output_type": "stream",
     "text": [
      "['fil', 'kurt', 'tavşan']\n"
     ]
    }
   ],
   "source": [
    "print(animals[0:6:2])"
   ]
  },
  {
   "cell_type": "code",
   "execution_count": 74,
   "metadata": {},
   "outputs": [
    {
     "name": "stdout",
     "output_type": "stream",
     "text": [
      "['fil', 'kurt', 'tavşan', 'zürafa']\n"
     ]
    }
   ],
   "source": [
    "print(animals[::2])"
   ]
  },
  {
   "cell_type": "code",
   "execution_count": 76,
   "metadata": {},
   "outputs": [
    {
     "name": "stdout",
     "output_type": "stream",
     "text": [
      "1\n"
     ]
    }
   ],
   "source": [
    "print(len([[12, 34, 56]]))"
   ]
  },
  {
   "cell_type": "code",
   "execution_count": 78,
   "metadata": {},
   "outputs": [
    {
     "name": "stdout",
     "output_type": "stream",
     "text": [
      "[[12, 34, 56]]\n"
     ]
    }
   ],
   "source": [
    "print(([[12, 34, 56]]))"
   ]
  },
  {
   "cell_type": "code",
   "execution_count": 79,
   "metadata": {},
   "outputs": [
    {
     "data": {
      "text/plain": [
       "['New York', 'Melbourne', 'Istanbul', 'Seoul', 'Sydney']"
      ]
     },
     "execution_count": 79,
     "metadata": {},
     "output_type": "execute_result"
    }
   ],
   "source": [
    "city"
   ]
  },
  {
   "cell_type": "code",
   "execution_count": 80,
   "metadata": {},
   "outputs": [
    {
     "name": "stdout",
     "output_type": "stream",
     "text": [
      "Melbourne\n"
     ]
    }
   ],
   "source": [
    "print(city[-4])"
   ]
  },
  {
   "cell_type": "code",
   "execution_count": 81,
   "metadata": {},
   "outputs": [
    {
     "name": "stdout",
     "output_type": "stream",
     "text": [
      "['Melbourne', 'Istanbul', 'Seoul', 'Sydney']\n"
     ]
    }
   ],
   "source": [
    "print(city[-4:])"
   ]
  },
  {
   "cell_type": "code",
   "execution_count": 82,
   "metadata": {},
   "outputs": [
    {
     "name": "stdout",
     "output_type": "stream",
     "text": [
      "['New York']\n"
     ]
    }
   ],
   "source": [
    "print(city[:-4])"
   ]
  },
  {
   "cell_type": "code",
   "execution_count": 83,
   "metadata": {},
   "outputs": [
    {
     "name": "stdout",
     "output_type": "stream",
     "text": [
      "['Sydney', 'Seoul', 'Istanbul', 'Melbourne', 'New York']\n"
     ]
    }
   ],
   "source": [
    "print(city[::-1])"
   ]
  },
  {
   "cell_type": "code",
   "execution_count": 84,
   "metadata": {},
   "outputs": [
    {
     "name": "stdout",
     "output_type": "stream",
     "text": [
      "['Sydney', 'Istanbul', 'New York']\n"
     ]
    }
   ],
   "source": [
    "print(city[::-2])"
   ]
  },
  {
   "cell_type": "code",
   "execution_count": 86,
   "metadata": {},
   "outputs": [
    {
     "name": "stdout",
     "output_type": "stream",
     "text": [
      "[8, 7, 6, 5]\n",
      "[]\n"
     ]
    }
   ],
   "source": [
    "odd_no = [1, 2, 3, 4, 5, 6, 7, 8, 9, 10]\n",
    "\n",
    "print(odd_no[7:3:-1])\n",
    "print(odd_no[2:6:-1])"
   ]
  },
  {
   "cell_type": "code",
   "execution_count": 88,
   "metadata": {},
   "outputs": [
    {
     "data": {
      "text/plain": [
       "['c', 'l', 'a', 'r', 'u', 's']"
      ]
     },
     "execution_count": 88,
     "metadata": {},
     "output_type": "execute_result"
    }
   ],
   "source": [
    "list(\"clarus\")"
   ]
  },
  {
   "cell_type": "code",
   "execution_count": 89,
   "metadata": {},
   "outputs": [
    {
     "data": {
      "text/plain": [
       "[1, 2, 3]"
      ]
     },
     "execution_count": 89,
     "metadata": {},
     "output_type": "execute_result"
    }
   ],
   "source": [
    "a = [1, 2, 3]\n",
    "list(a)"
   ]
  },
  {
   "cell_type": "code",
   "execution_count": 90,
   "metadata": {},
   "outputs": [
    {
     "ename": "TypeError",
     "evalue": "'int' object is not iterable",
     "output_type": "error",
     "traceback": [
      "\u001b[1;31m---------------------------------------------------------------------------\u001b[0m",
      "\u001b[1;31mTypeError\u001b[0m                                 Traceback (most recent call last)",
      "Input \u001b[1;32mIn [90]\u001b[0m, in \u001b[0;36m<cell line: 1>\u001b[1;34m()\u001b[0m\n\u001b[1;32m----> 1\u001b[0m \u001b[38;5;28;43mlist\u001b[39;49m\u001b[43m(\u001b[49m\u001b[38;5;241;43m1234\u001b[39;49m\u001b[43m)\u001b[49m\n",
      "\u001b[1;31mTypeError\u001b[0m: 'int' object is not iterable"
     ]
    }
   ],
   "source": [
    "list(1234)  # hata"
   ]
  },
  {
   "cell_type": "code",
   "execution_count": 91,
   "metadata": {},
   "outputs": [
    {
     "ename": "TypeError",
     "evalue": "object of type 'int' has no len()",
     "output_type": "error",
     "traceback": [
      "\u001b[1;31m---------------------------------------------------------------------------\u001b[0m",
      "\u001b[1;31mTypeError\u001b[0m                                 Traceback (most recent call last)",
      "Input \u001b[1;32mIn [91]\u001b[0m, in \u001b[0;36m<cell line: 1>\u001b[1;34m()\u001b[0m\n\u001b[1;32m----> 1\u001b[0m \u001b[38;5;28;43mlen\u001b[39;49m\u001b[43m(\u001b[49m\u001b[38;5;241;43m1230\u001b[39;49m\u001b[43m)\u001b[49m\n",
      "\u001b[1;31mTypeError\u001b[0m: object of type 'int' has no len()"
     ]
    }
   ],
   "source": [
    "len(1230)  # hata"
   ]
  },
  {
   "cell_type": "code",
   "execution_count": 94,
   "metadata": {},
   "outputs": [
    {
     "name": "stdout",
     "output_type": "stream",
     "text": [
      "['Tacettin', 'Doğançay', 2020]\n",
      "3\n",
      "[['Tacettin', 'Doğançay', 2020]]\n",
      "1\n"
     ]
    }
   ],
   "source": [
    "my_list = [\"Tacettin\", \"Doğançay\", 2020]\n",
    "new_list1 = list(my_list)\n",
    "new_list2 = [my_list]\n",
    "\n",
    "print(new_list1)\n",
    "print(len(new_list1))\n",
    "print(new_list2)\n",
    "print(len(new_list2))"
   ]
  },
  {
   "cell_type": "code",
   "execution_count": 96,
   "metadata": {},
   "outputs": [
    {
     "data": {
      "text/plain": [
       "5"
      ]
     },
     "execution_count": 96,
     "metadata": {},
     "output_type": "execute_result"
    }
   ],
   "source": [
    "mesela = [[1, 2, 4], False, \"ali\", 11, [\"veli\", [\"deli\"]]]\n",
    "len(mesela)"
   ]
  },
  {
   "cell_type": "code",
   "execution_count": 97,
   "metadata": {},
   "outputs": [
    {
     "data": {
      "text/plain": [
       "1"
      ]
     },
     "execution_count": 97,
     "metadata": {},
     "output_type": "execute_result"
    }
   ],
   "source": [
    "len([[[\" \"]]])"
   ]
  },
  {
   "cell_type": "code",
   "execution_count": 99,
   "metadata": {},
   "outputs": [
    {
     "data": {
      "text/plain": [
       "[]"
      ]
     },
     "execution_count": 99,
     "metadata": {},
     "output_type": "execute_result"
    }
   ],
   "source": [
    "boş = []\n",
    "boş"
   ]
  },
  {
   "cell_type": "code",
   "execution_count": 101,
   "metadata": {},
   "outputs": [
    {
     "data": {
      "text/plain": [
       "[]"
      ]
     },
     "execution_count": 101,
     "metadata": {},
     "output_type": "execute_result"
    }
   ],
   "source": [
    "boş2 = list()\n",
    "boş2"
   ]
  },
  {
   "cell_type": "code",
   "execution_count": 106,
   "metadata": {},
   "outputs": [
    {
     "name": "stdout",
     "output_type": "stream",
     "text": [
      "[11]\n"
     ]
    }
   ],
   "source": [
    "list = []\n",
    "list.append(11)\n",
    "print(list)"
   ]
  },
  {
   "cell_type": "code",
   "execution_count": 107,
   "metadata": {},
   "outputs": [
    {
     "name": "stdout",
     "output_type": "stream",
     "text": [
      "[11, 22]\n"
     ]
    }
   ],
   "source": [
    "list.append(22)\n",
    "print(list)"
   ]
  },
  {
   "cell_type": "code",
   "execution_count": 108,
   "metadata": {},
   "outputs": [
    {
     "name": "stdout",
     "output_type": "stream",
     "text": [
      "[1, 4, 9, 7]\n",
      "[1, 4, 6, 9, 7]\n"
     ]
    }
   ],
   "source": [
    "numbers =[1, 4, 7]\n",
    "numbers.insert(2, 9)\n",
    "print(numbers)\n",
    "numbers.insert(2, 6)\n",
    "print(numbers)"
   ]
  },
  {
   "cell_type": "code",
   "execution_count": 109,
   "metadata": {},
   "outputs": [
    {
     "data": {
      "text/plain": [
       "[[1, 2, 4], False, 'ali', 11, ['veli', ['deli']]]"
      ]
     },
     "execution_count": 109,
     "metadata": {},
     "output_type": "execute_result"
    }
   ],
   "source": [
    "mesela"
   ]
  },
  {
   "cell_type": "code",
   "execution_count": 110,
   "metadata": {},
   "outputs": [],
   "source": [
    "mesela.remove([1, 2, 4])"
   ]
  },
  {
   "cell_type": "code",
   "execution_count": 111,
   "metadata": {},
   "outputs": [
    {
     "data": {
      "text/plain": [
       "[False, 'ali', 11, ['veli', ['deli']]]"
      ]
     },
     "execution_count": 111,
     "metadata": {},
     "output_type": "execute_result"
    }
   ],
   "source": [
    "mesela"
   ]
  },
  {
   "cell_type": "code",
   "execution_count": 112,
   "metadata": {},
   "outputs": [
    {
     "ename": "TypeError",
     "evalue": "'<' not supported between instances of 'str' and 'bool'",
     "output_type": "error",
     "traceback": [
      "\u001b[1;31m---------------------------------------------------------------------------\u001b[0m",
      "\u001b[1;31mTypeError\u001b[0m                                 Traceback (most recent call last)",
      "Input \u001b[1;32mIn [112]\u001b[0m, in \u001b[0;36m<cell line: 1>\u001b[1;34m()\u001b[0m\n\u001b[1;32m----> 1\u001b[0m \u001b[43mmesela\u001b[49m\u001b[38;5;241;43m.\u001b[39;49m\u001b[43msort\u001b[49m\u001b[43m(\u001b[49m\u001b[43m)\u001b[49m\n\u001b[0;32m      2\u001b[0m mesela\n",
      "\u001b[1;31mTypeError\u001b[0m: '<' not supported between instances of 'str' and 'bool'"
     ]
    }
   ],
   "source": [
    "mesela.sort()\n",
    "mesela"
   ]
  },
  {
   "cell_type": "code",
   "execution_count": 113,
   "metadata": {},
   "outputs": [
    {
     "data": {
      "text/plain": [
       "['four', 'nine', 'one']"
      ]
     },
     "execution_count": 113,
     "metadata": {},
     "output_type": "execute_result"
    }
   ],
   "source": [
    "list_1 = ['one', 'four', 'nine']\n",
    "list_1.sort()\n",
    "list_1"
   ]
  },
  {
   "cell_type": "code",
   "execution_count": 114,
   "metadata": {},
   "outputs": [
    {
     "data": {
      "text/plain": [
       "['*-', '@', 'False']"
      ]
     },
     "execution_count": 114,
     "metadata": {},
     "output_type": "execute_result"
    }
   ],
   "source": [
    "list_2 = ['@', '*-', 'False']\n",
    "list_2.sort()\n",
    "list_2"
   ]
  },
  {
   "cell_type": "code",
   "execution_count": 115,
   "metadata": {},
   "outputs": [
    {
     "data": {
      "text/plain": [
       "64"
      ]
     },
     "execution_count": 115,
     "metadata": {},
     "output_type": "execute_result"
    }
   ],
   "source": [
    "ord(\"@\")"
   ]
  },
  {
   "cell_type": "code",
   "execution_count": 116,
   "metadata": {},
   "outputs": [
    {
     "data": {
      "text/plain": [
       "42"
      ]
     },
     "execution_count": 116,
     "metadata": {},
     "output_type": "execute_result"
    }
   ],
   "source": [
    "ord(\"*\")"
   ]
  },
  {
   "cell_type": "code",
   "execution_count": 117,
   "metadata": {},
   "outputs": [
    {
     "data": {
      "text/plain": [
       "70"
      ]
     },
     "execution_count": 117,
     "metadata": {},
     "output_type": "execute_result"
    }
   ],
   "source": [
    "ord(\"F\")"
   ]
  },
  {
   "cell_type": "code",
   "execution_count": 118,
   "metadata": {},
   "outputs": [
    {
     "data": {
      "text/plain": [
       "102"
      ]
     },
     "execution_count": 118,
     "metadata": {},
     "output_type": "execute_result"
    }
   ],
   "source": [
    "ord(\"f\")"
   ]
  },
  {
   "cell_type": "code",
   "execution_count": 119,
   "metadata": {},
   "outputs": [
    {
     "data": {
      "text/plain": [
       "'F'"
      ]
     },
     "execution_count": 119,
     "metadata": {},
     "output_type": "execute_result"
    }
   ],
   "source": [
    "chr(70)"
   ]
  },
  {
   "cell_type": "code",
   "execution_count": 121,
   "metadata": {},
   "outputs": [
    {
     "data": {
      "text/plain": [
       "[False, True]"
      ]
     },
     "execution_count": 121,
     "metadata": {},
     "output_type": "execute_result"
    }
   ],
   "source": [
    "list_3 = [True, False]\n",
    "list_3.sort() \n",
    "list_3"
   ]
  },
  {
   "cell_type": "code",
   "execution_count": 122,
   "metadata": {},
   "outputs": [
    {
     "data": {
      "text/plain": [
       "[[-12], [3], [44]]"
      ]
     },
     "execution_count": 122,
     "metadata": {},
     "output_type": "execute_result"
    }
   ],
   "source": [
    "list_4 = [[3], [44], [-12]]\n",
    "list_4.sort()\n",
    "list_4"
   ]
  },
  {
   "cell_type": "code",
   "execution_count": 123,
   "metadata": {},
   "outputs": [
    {
     "data": {
      "text/plain": [
       "[[-12, 1], [1, 3], [44, -40]]"
      ]
     },
     "execution_count": 123,
     "metadata": {},
     "output_type": "execute_result"
    }
   ],
   "source": [
    "list_5 = [[1, 3], [44, -40], [-12, 1]]\n",
    "list_5.sort()\n",
    "list_5"
   ]
  },
  {
   "cell_type": "code",
   "execution_count": 124,
   "metadata": {},
   "outputs": [
    {
     "name": "stdout",
     "output_type": "stream",
     "text": [
      "10737418.24\n"
     ]
    }
   ],
   "source": [
    "print(0.01*(2**30))"
   ]
  },
  {
   "cell_type": "code",
   "execution_count": 125,
   "metadata": {},
   "outputs": [
    {
     "name": "stdout",
     "output_type": "stream",
     "text": [
      "Tacettin\n",
      "Tacettin\n"
     ]
    }
   ],
   "source": [
    "print(name:=input())"
   ]
  },
  {
   "cell_type": "code",
   "execution_count": 126,
   "metadata": {},
   "outputs": [
    {
     "name": "stdout",
     "output_type": "stream",
     "text": [
      "sayı120\n",
      "sayı221\n",
      "41\n"
     ]
    }
   ],
   "source": [
    "number_1 = int(input(\"sayı1\"))\n",
    "number_2 = int(input(\"sayı2\"))\n",
    "print(number_1 + number_2)"
   ]
  },
  {
   "cell_type": "code",
   "execution_count": 129,
   "metadata": {},
   "outputs": [
    {
     "name": "stdout",
     "output_type": "stream",
     "text": [
      "sayı1: 3\n",
      "sayı2: 6\n",
      "toplam:  9\n"
     ]
    }
   ],
   "source": [
    "sayı1 = int(input(\"sayı1: \"))\n",
    "sayı2 = int(input(\"sayı2: \"))\n",
    "print(\"toplam: \",sayı1 + sayı2)\n"
   ]
  },
  {
   "cell_type": "code",
   "execution_count": null,
   "metadata": {},
   "outputs": [],
   "source": []
  }
 ],
 "metadata": {
  "colab": {
   "authorship_tag": "ABX9TyMZ8LFpbzG1qiWl5WGgyJqo",
   "collapsed_sections": [],
   "name": "ilk_python.ipynb",
   "provenance": []
  },
  "kernelspec": {
   "display_name": "Python 3 (ipykernel)",
   "language": "python",
   "name": "python3"
  },
  "language_info": {
   "codemirror_mode": {
    "name": "ipython",
    "version": 3
   },
   "file_extension": ".py",
   "mimetype": "text/x-python",
   "name": "python",
   "nbconvert_exporter": "python",
   "pygments_lexer": "ipython3",
   "version": "3.9.12"
  }
 },
 "nbformat": 4,
 "nbformat_minor": 1
}
