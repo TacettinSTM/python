{
 "cells": [
  {
   "cell_type": "markdown",
   "id": "513e06d5",
   "metadata": {},
   "source": [
    "## If elif else\n"
   ]
  },
  {
   "cell_type": "code",
   "execution_count": 14,
   "id": "9a2cdc0c",
   "metadata": {},
   "outputs": [
    {
     "name": "stdout",
     "output_type": "stream",
     "text": [
      "I can have a little\n"
     ]
    }
   ],
   "source": [
    "basket = [\"apple\", \"peach\", \"blackberry\"]\n",
    "\n",
    "fruit = \"banana\"\n",
    "\n",
    "if fruit not in basket:\n",
    "    print(\"I can have a little\")\n",
    "    \n",
    "else:\n",
    "    print(\"I have already\")\n",
    "    "
   ]
  },
  {
   "cell_type": "code",
   "execution_count": 15,
   "id": "4dd03527",
   "metadata": {},
   "outputs": [
    {
     "name": "stdout",
     "output_type": "stream",
     "text": [
      "I can lift that\n"
     ]
    }
   ],
   "source": [
    "weight = 80\n",
    "\n",
    "if weight > 100:\n",
    "    print(\"that's too heavy\")\n",
    "elif weight > 75:\n",
    "    print(\"I can lift that\")\n",
    "else:\n",
    "    print(\"that's too lift\")"
   ]
  },
  {
   "cell_type": "code",
   "execution_count": 16,
   "id": "c8ab09f6",
   "metadata": {},
   "outputs": [
    {
     "name": "stdout",
     "output_type": "stream",
     "text": [
      "No such audience, stay at your home\n"
     ]
    }
   ],
   "source": [
    "audience =\"baby\"\n",
    "\n",
    "if audience == \"kid\":\n",
    "    print(\"it's free to go cinema\")\n",
    "elif audience == \"teen\":\n",
    "    print(\"discounted price\")\n",
    "elif audience == \"adult\":\n",
    "    print(\"normal price\")\n",
    "else:\n",
    "    print(\"No such audience, stay at your home\")"
   ]
  },
  {
   "cell_type": "code",
   "execution_count": 17,
   "id": "757f957d",
   "metadata": {},
   "outputs": [
    {
     "name": "stdout",
     "output_type": "stream",
     "text": [
      "discounted price\n"
     ]
    }
   ],
   "source": [
    "audience =\"teen\"\n",
    "\n",
    "if audience == \"kid\":\n",
    "    print(\"it's free to go cinema\")\n",
    "elif audience == \"teen\":\n",
    "    print(\"discounted price\")\n",
    "elif audience == \"adult\":\n",
    "    print(\"normal price\")\n",
    "else:\n",
    "    print(\"No such audience, stay at your home\")"
   ]
  },
  {
   "cell_type": "code",
   "execution_count": 18,
   "id": "e96dabdc",
   "metadata": {},
   "outputs": [
    {
     "name": "stdout",
     "output_type": "stream",
     "text": [
      "The number is equal or greater than 10\n"
     ]
    }
   ],
   "source": [
    "number = 15\n",
    "if number >= 10:\n",
    "    print('The number is equal or greater than 10')\n",
    "elif number < 10:\n",
    "    print('The number is less than 10')"
   ]
  },
  {
   "cell_type": "code",
   "execution_count": 19,
   "id": "bd75b09f",
   "metadata": {},
   "outputs": [
    {
     "name": "stdout",
     "output_type": "stream",
     "text": [
      "discounted price!\n"
     ]
    }
   ],
   "source": [
    "audience_group = 'kid', 'teen', 'adult'\n",
    "\n",
    "audience = \"teen\"\n",
    "\n",
    "if audience in audience_group:\n",
    "    if audience == \"kid\":\n",
    "        print(\"it's free to go cinema\")\n",
    "    elif audience == \"teen\":\n",
    "        print(\"discounted price!\")\n",
    "    else:  ## audience == \"adult\"\n",
    "        print(\"normal price\")\n",
    "else:\n",
    "    print(\"No such audience, stay at your home\")"
   ]
  },
  {
   "cell_type": "code",
   "execution_count": 20,
   "id": "84fb9389",
   "metadata": {},
   "outputs": [
    {
     "name": "stdout",
     "output_type": "stream",
     "text": [
      "No such audience, stay at your home\n"
     ]
    }
   ],
   "source": [
    "audience_group = 'kid', 'teen', 'adult'\n",
    "\n",
    "audience = \"baby\"\n",
    "\n",
    "if audience in audience_group:\n",
    "    if audience == \"kid\":\n",
    "        print(\"it's free to go cinema\")\n",
    "    elif audience == \"teen\":\n",
    "        print(\"discounted price!\")\n",
    "    else:  ## audience == \"adult\"\n",
    "        print(\"normal price\")\n",
    "else:\n",
    "    print(\"No such audience, stay at your home\")"
   ]
  },
  {
   "cell_type": "code",
   "execution_count": 74,
   "id": "2c434aa0",
   "metadata": {},
   "outputs": [
    {
     "name": "stdout",
     "output_type": "stream",
     "text": [
      "enter your score :90\n",
      "your degree: A\n"
     ]
    }
   ],
   "source": [
    "score = int(input(\"enter your score :\"))\n",
    "\n",
    "if score >= 90:\n",
    "    if score >= 95:\n",
    "        Score_letter=\"A+\"\n",
    "    else:\n",
    "        Score_letter=\"A\"\n",
    "elif score >= 80:\n",
    "    if score >=85:\n",
    "        Score_letter=\"B+\"\n",
    "    else:\n",
    "        Score_letter=\"B\"\n",
    "else:\n",
    "    Score_letter=\"below B\"\n",
    "\n",
    "print(\"your degree:\", Score_letter)"
   ]
  },
  {
   "cell_type": "code",
   "execution_count": 22,
   "id": "9c6f3c6f",
   "metadata": {},
   "outputs": [
    {
     "name": "stdout",
     "output_type": "stream",
     "text": [
      "you are not from Canadian\n"
     ]
    }
   ],
   "source": [
    "country = \"CANADA\"\n",
    "if country == \"canada\":  # küçük büyük harf duyarlılığı\n",
    "    print(\"oh look a Canadian\")\n",
    "else:\n",
    "    print(\"you are not from Canadian\")"
   ]
  },
  {
   "cell_type": "code",
   "execution_count": 23,
   "id": "7418d84c",
   "metadata": {},
   "outputs": [
    {
     "name": "stdout",
     "output_type": "stream",
     "text": [
      "oh look a Canadian\n"
     ]
    }
   ],
   "source": [
    "country = \"CANADA\"\n",
    "if country.lower() == \"canada\":  \n",
    "    print(\"oh look a Canadian\")\n",
    "else:\n",
    "    print(\"you are not from Canadian\")"
   ]
  },
  {
   "cell_type": "code",
   "execution_count": 75,
   "id": "a9748db3",
   "metadata": {},
   "outputs": [
    {
     "name": "stdout",
     "output_type": "stream",
     "text": [
      "how much did you pay1\n",
      "Tax rate is: 0.07\n"
     ]
    }
   ],
   "source": [
    "price = input(\"how much did you pay\")\n",
    "\n",
    "price = float(price)\n",
    "if price >= 1.00:\n",
    "    tax = .07\n",
    "    print(\"Tax rate is: \" + str(tax))  ## 1 $ dolardan aşağı satılan ürün için durum belirtilmemiş."
   ]
  },
  {
   "cell_type": "code",
   "execution_count": 76,
   "id": "d8b8f9cd",
   "metadata": {},
   "outputs": [
    {
     "name": "stdout",
     "output_type": "stream",
     "text": [
      "how much did you pay1\n",
      "Tax rate is: 0.07\n"
     ]
    }
   ],
   "source": [
    "price = input(\"how much did you pay\")\n",
    "\n",
    "price = float(price)\n",
    "if price >= 1.00:\n",
    "    tax = .07\n",
    "    print(\"Tax rate is: \" + str(tax))\n",
    "else:\n",
    "    tax = 0\n",
    "    print(\"Tax rate is: \" + str(tax))"
   ]
  },
  {
   "cell_type": "code",
   "execution_count": 77,
   "id": "a61e0aad",
   "metadata": {},
   "outputs": [
    {
     "name": "stdout",
     "output_type": "stream",
     "text": [
      "how much did you pay1\n",
      "Tax rate is: 0.07\n"
     ]
    }
   ],
   "source": [
    "price = input(\"how much did you pay\")\n",
    "\n",
    "price = float(price)\n",
    "if price >= 1.00:\n",
    "    tax = .07\n",
    "else:\n",
    "    tax = 0\n",
    "print(\"Tax rate is: \" + str(tax))  ## tek print kullanıldı."
   ]
  },
  {
   "cell_type": "code",
   "execution_count": 78,
   "id": "99f40a88",
   "metadata": {},
   "outputs": [
    {
     "name": "stdout",
     "output_type": "stream",
     "text": [
      "What provience do you live in? Ontario\n",
      "0.13\n"
     ]
    }
   ],
   "source": [
    "provience = input(\"What provience do you live in? \")\n",
    "\n",
    "if provience == \"Alberta\":\n",
    "    tax = 0.05\n",
    "if provience == \"Nunavut\":\n",
    "    tax = 0.05\n",
    "if provience == \"Ontario\":\n",
    "    tax = 0.13\n",
    "print(tax)"
   ]
  },
  {
   "cell_type": "code",
   "execution_count": 79,
   "id": "094bf098",
   "metadata": {},
   "outputs": [
    {
     "name": "stdout",
     "output_type": "stream",
     "text": [
      "What provience do you live in? Ontario\n",
      "0.13\n"
     ]
    }
   ],
   "source": [
    "provience = input(\"What provience do you live in? \")\n",
    "\n",
    "if provience == \"Alberta\":\n",
    "    tax = 0.05\n",
    "elif provience == \"Nunavut\":\n",
    "    tax = 0.05\n",
    "elif provience == \"Ontario\":\n",
    "    tax = 0.13\n",
    "print(tax)"
   ]
  },
  {
   "cell_type": "code",
   "execution_count": 80,
   "id": "fda28d59",
   "metadata": {},
   "outputs": [
    {
     "name": "stdout",
     "output_type": "stream",
     "text": [
      "What provience do you live in? Ontario\n",
      "0.13\n"
     ]
    }
   ],
   "source": [
    "provience = input(\"What provience do you live in? \")\n",
    "\n",
    "if provience == \"Alberta\":\n",
    "    tax = 0.05\n",
    "elif provience == \"Nunavut\":\n",
    "    tax = 0.05\n",
    "elif provience == \"Ontario\":\n",
    "    tax = 0.13\n",
    "else:\n",
    "    tax = 0.15\n",
    "print(tax)"
   ]
  },
  {
   "cell_type": "code",
   "execution_count": 30,
   "id": "db50528b",
   "metadata": {},
   "outputs": [
    {
     "name": "stdout",
     "output_type": "stream",
     "text": [
      "What provience do you live in? \n",
      "0.15\n"
     ]
    }
   ],
   "source": [
    "provience = input(\"What provience do you live in? \")\n",
    "\n",
    "if provience == \"Alberta\" or provience == \"Nunavut\":  # or ile kullanım\n",
    "    tax = 0.05\n",
    "elif provience == \"Ontario\":\n",
    "    tax = 0.13\n",
    "else:\n",
    "    tax = 0.15\n",
    "print(tax)"
   ]
  },
  {
   "cell_type": "code",
   "execution_count": 31,
   "id": "055d2c2b",
   "metadata": {},
   "outputs": [
    {
     "name": "stdout",
     "output_type": "stream",
     "text": [
      "What provience do you live in? \n",
      "0.15\n"
     ]
    }
   ],
   "source": [
    "provience = input(\"What provience do you live in? \")\n",
    "\n",
    "if provience in (\"Alberta\", \"Nunavut\", \"Yukon\"):  # in ile kullanım\n",
    "    tax = 0.05\n",
    "elif provience == \"Ontario\":\n",
    "    tax = 0.13\n",
    "else:\n",
    "    tax = 0.15\n",
    "print(tax)"
   ]
  },
  {
   "cell_type": "code",
   "execution_count": 32,
   "id": "bddf76a3",
   "metadata": {},
   "outputs": [
    {
     "name": "stdout",
     "output_type": "stream",
     "text": [
      "What country do you live in? \n",
      "0.0\n"
     ]
    }
   ],
   "source": [
    "country = input(\"What country do you live in? \")\n",
    "\n",
    "if country == \"Canada\":\n",
    "    provience = input(\"What provience do you live in? \")\n",
    "    if provience in (\"Alberta\", \"Nunavut\", \"Yukon\"):\n",
    "        tax = 0.05\n",
    "    elif provience == \"Ontario\":\n",
    "        tax = 0.13\n",
    "    else:\n",
    "        tax = 0.15\n",
    "else:\n",
    "    tax = 0.0\n",
    "print(tax)"
   ]
  },
  {
   "cell_type": "code",
   "execution_count": 33,
   "id": "af8a953f",
   "metadata": {},
   "outputs": [
    {
     "name": "stdout",
     "output_type": "stream",
     "text": [
      "What country do you live in? \n",
      "0.0\n"
     ]
    }
   ],
   "source": [
    "country = input(\"What country do you live in? \")\n",
    "\n",
    "if country == \"Canada\":\n",
    "    provience = input(\"What provience do you live in? \")\n",
    "    if provience in (\"Alberta\", \"Nunavut\", \"Yukon\"):\n",
    "        tax = 0.05\n",
    "    elif provience == \"Ontario\":\n",
    "        tax = 0.13\n",
    "    else:\n",
    "        tax = 0.15\n",
    "else:\n",
    "    tax = 0.0\n",
    "print(tax)"
   ]
  },
  {
   "cell_type": "code",
   "execution_count": 34,
   "id": "5f168dbf",
   "metadata": {},
   "outputs": [
    {
     "name": "stdout",
     "output_type": "stream",
     "text": [
      "What country do you live in? \n",
      "0.0\n"
     ]
    }
   ],
   "source": [
    "country = input(\"What country do you live in? \")\n",
    "\n",
    "if country == \"Canada\":  # hata ayıklama (küçük büyük harf)\n",
    "    provience = input(\"What provience do you live in? \")\n",
    "    if provience in (\"Alberta\", \"Nunavut\", \"Yukon\"):\n",
    "        tax = 0.05\n",
    "    elif provience == \"Ontario\":\n",
    "        tax = 0.13\n",
    "    else:\n",
    "        tax = 0.15\n",
    "else:\n",
    "    tax = 0.0\n",
    "print(tax)"
   ]
  },
  {
   "cell_type": "code",
   "execution_count": 35,
   "id": "24a95630",
   "metadata": {},
   "outputs": [
    {
     "name": "stdout",
     "output_type": "stream",
     "text": [
      "What country do you live in? \n",
      "0.0\n"
     ]
    }
   ],
   "source": [
    "country = input(\"What country do you live in? \")\n",
    "\n",
    "if country.lower() == \"canada\":  # hata ayıklama (küçük büyük harf)\n",
    "    provience = input(\"What provience do you live in? \")\n",
    "    if provience in (\"Alberta\", \"Nunavut\", \"Yukon\"):\n",
    "        tax = 0.05\n",
    "    elif provience == \"Ontario\":\n",
    "        tax = 0.13\n",
    "    else:\n",
    "        tax = 0.15\n",
    "else:\n",
    "    tax = 0.0\n",
    "print(tax)"
   ]
  },
  {
   "cell_type": "code",
   "execution_count": 81,
   "id": "87d1abc5",
   "metadata": {},
   "outputs": [
    {
     "name": "stdout",
     "output_type": "stream",
     "text": [
      "What's your grade point average? .85\n",
      "what is your lowest grade.79\n",
      "you made the honor roll\n"
     ]
    }
   ],
   "source": [
    "gpa = float(input(\"What's your grade point average? \"))\n",
    "lowest_grade = float(input(\"what is your lowest grade\"))\n",
    "\n",
    "if gpa >= .85:\n",
    "    if lowest_grade >= .70:\n",
    "        print(\"you made the honor roll\")"
   ]
  },
  {
   "cell_type": "code",
   "execution_count": 82,
   "id": "25c33c78",
   "metadata": {},
   "outputs": [
    {
     "name": "stdout",
     "output_type": "stream",
     "text": [
      "What's your grade point average? .85\n",
      "what is your lowest grade.79\n",
      "you made the honor roll\n"
     ]
    }
   ],
   "source": [
    "gpa = float(input(\"What's your grade point average? \"))\n",
    "lowest_grade = float(input(\"what is your lowest grade\"))\n",
    "\n",
    "if gpa >= .85:\n",
    "    if lowest_grade >= .70:\n",
    "        print(\"you made the honor roll\")"
   ]
  },
  {
   "cell_type": "code",
   "execution_count": 83,
   "id": "fb608392",
   "metadata": {},
   "outputs": [
    {
     "name": "stdout",
     "output_type": "stream",
     "text": [
      "What's your grade point average? .79\n",
      "what is your lowest grade.87\n"
     ]
    }
   ],
   "source": [
    "gpa = float(input(\"What's your grade point average? \"))\n",
    "lowest_grade = float(input(\"what is your lowest grade\"))\n",
    "\n",
    "if gpa >= .85 and lowest_grade >= .70:\n",
    "    print(\"you made the honor roll\")"
   ]
  },
  {
   "cell_type": "code",
   "execution_count": 84,
   "id": "92930c6d",
   "metadata": {},
   "outputs": [
    {
     "name": "stdout",
     "output_type": "stream",
     "text": [
      "What's your grade point average? .85\n",
      "what is your lowest grade? .85\n",
      "You made honour roll\n"
     ]
    }
   ],
   "source": [
    "gpa = float(input(\"What's your grade point average? \"))\n",
    "lowest_grade = float(input(\"what is your lowest grade? \"))\n",
    "\n",
    "if gpa >= .85 and lowest_grade >= .70:\n",
    "    honour_roll = True\n",
    "else:\n",
    "    honour_roll = False\n",
    "if honour_roll:\n",
    "    print(\"You made honour roll\")"
   ]
  },
  {
   "cell_type": "code",
   "execution_count": 40,
   "id": "380e36bd",
   "metadata": {},
   "outputs": [],
   "source": [
    "a = 3\n",
    "b = 0"
   ]
  },
  {
   "cell_type": "code",
   "execution_count": 41,
   "id": "dffbba79",
   "metadata": {},
   "outputs": [
    {
     "name": "stdout",
     "output_type": "stream",
     "text": [
      "ali\n"
     ]
    }
   ],
   "source": [
    "if b > a:\n",
    "    print(\"hello\")\n",
    "print(\"ali\")"
   ]
  },
  {
   "cell_type": "code",
   "execution_count": 42,
   "id": "6487ca75",
   "metadata": {},
   "outputs": [
    {
     "name": "stdout",
     "output_type": "stream",
     "text": [
      "hello world\n",
      "hello world!\n"
     ]
    }
   ],
   "source": [
    "if \"0\" :\n",
    "    print(\"hello world\")\n",
    "    \n",
    "print(\"hello world!\")"
   ]
  },
  {
   "cell_type": "code",
   "execution_count": 43,
   "id": "00f8f16b",
   "metadata": {},
   "outputs": [],
   "source": [
    "if \"0\" and \"\":  # False\n",
    "    print(\"hello\")"
   ]
  },
  {
   "cell_type": "code",
   "execution_count": 44,
   "id": "d18b221b",
   "metadata": {},
   "outputs": [],
   "source": [
    "if 0 or \"False\" and None:\n",
    "    print(\"hello\")"
   ]
  },
  {
   "cell_type": "code",
   "execution_count": 45,
   "id": "77e320e2",
   "metadata": {},
   "outputs": [
    {
     "name": "stdout",
     "output_type": "stream",
     "text": [
      "hello\n"
     ]
    }
   ],
   "source": [
    "if 1 or \"False\" and None:\n",
    "    print(\"hello\")"
   ]
  },
  {
   "cell_type": "code",
   "execution_count": 46,
   "id": "c11eddd3",
   "metadata": {},
   "outputs": [
    {
     "name": "stdout",
     "output_type": "stream",
     "text": [
      "hello\n"
     ]
    }
   ],
   "source": [
    "if [\"\"]:\n",
    "    print(\"hello\")"
   ]
  },
  {
   "cell_type": "code",
   "execution_count": 47,
   "id": "d0c8f84e",
   "metadata": {},
   "outputs": [
    {
     "data": {
      "text/plain": [
       "True"
      ]
     },
     "execution_count": 47,
     "metadata": {},
     "output_type": "execute_result"
    }
   ],
   "source": [
    "# mazemeler\n",
    "\n",
    "minced = True\n",
    "bread = True\n",
    "\n",
    "# green\n",
    "\n",
    "lettuce = True\n",
    "onion= False\n",
    "\n",
    "grocer = True\n",
    "\n",
    "hamburger = minced and grocer and (lettuce or onion)\n",
    "\n",
    "hamburger\n"
   ]
  },
  {
   "cell_type": "code",
   "execution_count": 48,
   "id": "e2d6f352",
   "metadata": {},
   "outputs": [
    {
     "name": "stdout",
     "output_type": "stream",
     "text": [
      "Bon Appetit\n"
     ]
    }
   ],
   "source": [
    "if hamburger:\n",
    "    print(\"Bon Appetit\")"
   ]
  },
  {
   "cell_type": "code",
   "execution_count": 49,
   "id": "60433dd6",
   "metadata": {},
   "outputs": [
    {
     "name": "stdout",
     "output_type": "stream",
     "text": [
      "deli\n"
     ]
    }
   ],
   "source": [
    "if \"ali\" != \"veli\":\n",
    "    print(\"deli\")"
   ]
  },
  {
   "cell_type": "code",
   "execution_count": 50,
   "id": "5c6a71ab",
   "metadata": {},
   "outputs": [],
   "source": [
    "if \"ali\" == \"Ali\":\n",
    "    print(\"deli\")"
   ]
  },
  {
   "cell_type": "code",
   "execution_count": 51,
   "id": "6c0bbe55",
   "metadata": {},
   "outputs": [
    {
     "data": {
      "text/plain": [
       "{' ', 'E', 'L', 'N', 'O', 'P', 'S', 'T', 'U', 'V', 'W'}"
      ]
     },
     "execution_count": 51,
     "metadata": {},
     "output_type": "execute_result"
    }
   ],
   "source": [
    "a = set(\"TWELVE PLUS ONE\")\n",
    "a"
   ]
  },
  {
   "cell_type": "code",
   "execution_count": 52,
   "id": "b8730c34",
   "metadata": {},
   "outputs": [
    {
     "data": {
      "text/plain": [
       "{' ', 'E', 'L', 'N', 'O', 'P', 'S', 'T', 'U', 'V', 'W'}"
      ]
     },
     "execution_count": 52,
     "metadata": {},
     "output_type": "execute_result"
    }
   ],
   "source": [
    "b = set(\"ELEVEN PLUS TWO\")\n",
    "b"
   ]
  },
  {
   "cell_type": "code",
   "execution_count": 53,
   "id": "a5db7502",
   "metadata": {},
   "outputs": [
    {
     "name": "stdout",
     "output_type": "stream",
     "text": [
      "we are the same!\n"
     ]
    }
   ],
   "source": [
    "if a == b:\n",
    "    print(\"we are the same!\")"
   ]
  },
  {
   "cell_type": "code",
   "execution_count": 54,
   "id": "08287f74",
   "metadata": {},
   "outputs": [
    {
     "name": "stdout",
     "output_type": "stream",
     "text": [
      "enter Yes or No :\n"
     ]
    }
   ],
   "source": [
    "convert = input(\"enter Yes or No :\").title().strip() == \"Yes\"\n"
   ]
  },
  {
   "cell_type": "code",
   "execution_count": 55,
   "id": "efa6606d",
   "metadata": {},
   "outputs": [
    {
     "data": {
      "text/plain": [
       "False"
      ]
     },
     "execution_count": 55,
     "metadata": {},
     "output_type": "execute_result"
    }
   ],
   "source": [
    "convert\n"
   ]
  },
  {
   "cell_type": "code",
   "execution_count": 56,
   "id": "7119412f",
   "metadata": {},
   "outputs": [
    {
     "data": {
      "text/plain": [
       "bool"
      ]
     },
     "execution_count": 56,
     "metadata": {},
     "output_type": "execute_result"
    }
   ],
   "source": [
    "type(convert)"
   ]
  },
  {
   "cell_type": "code",
   "execution_count": 57,
   "id": "b76abd89",
   "metadata": {},
   "outputs": [
    {
     "name": "stdout",
     "output_type": "stream",
     "text": [
      "enter Yes or No :\n",
      "you entered False\n"
     ]
    }
   ],
   "source": [
    "print(f\"you entered {input('enter Yes or No :').title().strip() == 'Yes'}\")"
   ]
  },
  {
   "cell_type": "code",
   "execution_count": 85,
   "id": "2b88ebab",
   "metadata": {},
   "outputs": [
    {
     "name": "stdout",
     "output_type": "stream",
     "text": [
      "bir sayı giriniz : 15\n",
      "15 is odd.\n"
     ]
    }
   ],
   "source": [
    "number = int(input(\"bir sayı giriniz : \"))\n",
    "\n",
    "if number % 2 == 1:\n",
    "    print(str(number) + \" is odd.\")\n",
    "else:\n",
    "    print(str(number) + \" is even.\")"
   ]
  },
  {
   "cell_type": "code",
   "execution_count": 86,
   "id": "c60aa65d",
   "metadata": {},
   "outputs": [
    {
     "name": "stdout",
     "output_type": "stream",
     "text": [
      "bir sayı giriniz : 15\n",
      "15 is odd\n"
     ]
    }
   ],
   "source": [
    "number = int(input(\"bir sayı giriniz : \"))\n",
    "\n",
    "if number % 2 == 1:\n",
    "    print(\"{} is odd\".format(number))\n",
    "else:\n",
    "    print(\"{} is even\".format(number))"
   ]
  },
  {
   "cell_type": "code",
   "execution_count": 87,
   "id": "77601569",
   "metadata": {},
   "outputs": [
    {
     "name": "stdout",
     "output_type": "stream",
     "text": [
      "bir sayı giriniz : 1\n",
      "positive number\n"
     ]
    }
   ],
   "source": [
    "number = float(input(\"bir sayı giriniz : \"))\n",
    "\n",
    "if number < 0 :\n",
    "    print(\"negatif number\")\n",
    "else :\n",
    "    print(\"positive number\")"
   ]
  },
  {
   "cell_type": "code",
   "execution_count": 88,
   "id": "4090cb39",
   "metadata": {},
   "outputs": [
    {
     "name": "stdout",
     "output_type": "stream",
     "text": [
      "bir sayı giriniz : 8\n",
      "positive number\n"
     ]
    }
   ],
   "source": [
    "number = float(input(\"bir sayı giriniz : \"))\n",
    "\n",
    "if number < 0 :\n",
    "    print(\"negatif number\")\n",
    "else :\n",
    "    print(\"positive number\")"
   ]
  },
  {
   "cell_type": "code",
   "execution_count": 89,
   "id": "379585f2",
   "metadata": {},
   "outputs": [
    {
     "name": "stdout",
     "output_type": "stream",
     "text": [
      "bir sayı giriniz : 8\n",
      "bir sayı giriniz : 8\n",
      "the larger number is  8.0\n"
     ]
    }
   ],
   "source": [
    "number1 = float(input(\"bir sayı giriniz : \"))\n",
    "number2 = float(input(\"bir sayı giriniz : \"))\n",
    "\n",
    "if number1 > number2 :\n",
    "    larger = number1\n",
    "else:\n",
    "    larger = number2\n",
    "print(\"the larger number is \", larger)    \n",
    "    \n",
    "    "
   ]
  },
  {
   "cell_type": "code",
   "execution_count": 63,
   "id": "dccd7f3b",
   "metadata": {},
   "outputs": [
    {
     "name": "stdout",
     "output_type": "stream",
     "text": [
      "no\n"
     ]
    }
   ],
   "source": [
    "bool_value = False\n",
    "\n",
    "if bool_value :\n",
    "    print(\"yes\")\n",
    "else: \n",
    "    print(\"no\")\n"
   ]
  },
  {
   "cell_type": "code",
   "execution_count": 90,
   "id": "0a14d2d3",
   "metadata": {},
   "outputs": [
    {
     "name": "stdout",
     "output_type": "stream",
     "text": [
      "bir sayı giriniz : 7\n",
      "bir sayı giriniz : 8\n",
      "bir sayı giriniz : 9\n",
      "the largest number is  9.0\n"
     ]
    }
   ],
   "source": [
    "number1 = float(input(\"bir sayı giriniz : \"))\n",
    "number2 = float(input(\"bir sayı giriniz : \"))\n",
    "number3 = float(input(\"bir sayı giriniz : \"))\n",
    "\n",
    "if (number1 >= number2) and (number1 >= number3) :\n",
    "    largest_number = number1\n",
    "elif (number2 >= number3) and (number2 >= number3) :\n",
    "    largest_number =number2\n",
    "else:\n",
    "    largest_number = number3\n",
    "print(\"the largest number is \", largest_number)"
   ]
  },
  {
   "cell_type": "code",
   "execution_count": 91,
   "id": "71d82c0b",
   "metadata": {},
   "outputs": [
    {
     "name": "stdout",
     "output_type": "stream",
     "text": [
      "bir sayı giriniz : 7\n",
      "positive number\n"
     ]
    }
   ],
   "source": [
    "number = float(input(\"bir sayı giriniz : \"))\n",
    "\n",
    "if number < 0 :\n",
    "    print(\"negatif number\")\n",
    "elif number == 0 :\n",
    "    print(\"zero\")\n",
    "else :\n",
    "    print(\"positive number\")"
   ]
  },
  {
   "cell_type": "code",
   "execution_count": 66,
   "id": "64468aff",
   "metadata": {},
   "outputs": [],
   "source": [
    "left = set(\"qwertasdfgzxcvb\")\n",
    "right = set(\"yuıopğühjklşinmöç\")\n"
   ]
  },
  {
   "cell_type": "code",
   "execution_count": 67,
   "id": "14a258a7",
   "metadata": {},
   "outputs": [
    {
     "data": {
      "text/plain": [
       "{'a', 'c', 'l', 'r', 's', 'u', 'w', 'y'}"
      ]
     },
     "execution_count": 67,
     "metadata": {},
     "output_type": "execute_result"
    }
   ],
   "source": [
    "word = \"clarusway\"\n",
    "word = set(word)\n",
    "word"
   ]
  },
  {
   "cell_type": "code",
   "execution_count": 68,
   "id": "1bb648e0",
   "metadata": {},
   "outputs": [],
   "source": [
    "leftcheck = bool(word.intersection(left))\n",
    "rightcheck = bool(word.intersection(right))"
   ]
  },
  {
   "cell_type": "code",
   "execution_count": 69,
   "id": "8e006bf3",
   "metadata": {},
   "outputs": [
    {
     "data": {
      "text/plain": [
       "True"
      ]
     },
     "execution_count": 69,
     "metadata": {},
     "output_type": "execute_result"
    }
   ],
   "source": [
    "leftcheck"
   ]
  },
  {
   "cell_type": "code",
   "execution_count": 70,
   "id": "d900437e",
   "metadata": {},
   "outputs": [
    {
     "data": {
      "text/plain": [
       "True"
      ]
     },
     "execution_count": 70,
     "metadata": {},
     "output_type": "execute_result"
    }
   ],
   "source": [
    "rightcheck"
   ]
  },
  {
   "cell_type": "code",
   "execution_count": 71,
   "id": "285693a9",
   "metadata": {},
   "outputs": [],
   "source": [
    "sonuç = leftcheck and rightcheck"
   ]
  },
  {
   "cell_type": "code",
   "execution_count": 72,
   "id": "16ad4857",
   "metadata": {},
   "outputs": [
    {
     "data": {
      "text/plain": [
       "True"
      ]
     },
     "execution_count": 72,
     "metadata": {},
     "output_type": "execute_result"
    }
   ],
   "source": [
    "sonuç"
   ]
  },
  {
   "cell_type": "code",
   "execution_count": null,
   "id": "fe0d0325",
   "metadata": {},
   "outputs": [],
   "source": []
  },
  {
   "cell_type": "code",
   "execution_count": null,
   "id": "60ad1f3d",
   "metadata": {},
   "outputs": [],
   "source": []
  }
 ],
 "metadata": {
  "kernelspec": {
   "display_name": "Python 3 (ipykernel)",
   "language": "python",
   "name": "python3"
  },
  "language_info": {
   "codemirror_mode": {
    "name": "ipython",
    "version": 3
   },
   "file_extension": ".py",
   "mimetype": "text/x-python",
   "name": "python",
   "nbconvert_exporter": "python",
   "pygments_lexer": "ipython3",
   "version": "3.9.12"
  }
 },
 "nbformat": 4,
 "nbformat_minor": 5
}
